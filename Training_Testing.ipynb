{
 "cells": [
  {
   "cell_type": "code",
   "execution_count": 1,
   "metadata": {},
   "outputs": [],
   "source": [
    "import pandas as pd\n",
    "import numpy as np\n",
    "import matplotlib.pyplot as plt\n",
    "import seaborn as sns\n",
    "\n",
    "from pathlib import Path\n",
    "data_path = Path('./data')\n",
    "\n",
    "from sklearn.linear_model import LinearRegression\n",
    "from sklearn.metrics import mean_squared_error, r2_score\n",
    "from sklearn.model_selection import train_test_split, cross_val_score, GridSearchCV, RandomizedSearchCV\n",
    "from sklearn.ensemble import RandomForestRegressor\n",
    "from sklearn.preprocessing import PolynomialFeatures, StandardScaler\n",
    "from sklearn.linear_model import LinearRegression, Ridge, Lasso\n",
    "from sklearn.pipeline import make_pipeline\n",
    "from xgboost import XGBRegressor\n",
    "import optuna\n",
    "from optuna.samplers import TPESampler\n",
    "\n",
    "# Custom MaskedArray class definition\n",
    "class MaskedArray(np.ma.MaskedArray):\n",
    "    pass\n",
    "\n",
    "from skopt import BayesSearchCV\n",
    "\n",
    "import pickle\n",
    "\n",
    "import warnings\n",
    "warnings.filterwarnings(\"ignore\")"
   ]
  },
  {
   "cell_type": "markdown",
   "metadata": {},
   "source": [
    "# Build and Test Regression Models"
   ]
  },
  {
   "cell_type": "code",
   "execution_count": 2,
   "metadata": {},
   "outputs": [
    {
     "data": {
      "application/vnd.microsoft.datawrangler.viewer.v0+json": {
       "columns": [
        {
         "name": "index",
         "rawType": "int64",
         "type": "integer"
        },
        {
         "name": "market_id",
         "rawType": "float64",
         "type": "float"
        },
        {
         "name": "created_at",
         "rawType": "object",
         "type": "string"
        },
        {
         "name": "actual_delivery_time",
         "rawType": "object",
         "type": "string"
        },
        {
         "name": "store_id",
         "rawType": "int64",
         "type": "integer"
        },
        {
         "name": "store_primary_category",
         "rawType": "float64",
         "type": "float"
        },
        {
         "name": "order_protocol",
         "rawType": "float64",
         "type": "float"
        },
        {
         "name": "total_items",
         "rawType": "int64",
         "type": "integer"
        },
        {
         "name": "subtotal",
         "rawType": "int64",
         "type": "integer"
        },
        {
         "name": "num_distinct_items",
         "rawType": "int64",
         "type": "integer"
        },
        {
         "name": "min_item_price",
         "rawType": "int64",
         "type": "integer"
        },
        {
         "name": "max_item_price",
         "rawType": "int64",
         "type": "integer"
        },
        {
         "name": "total_onshift_dashers",
         "rawType": "float64",
         "type": "float"
        },
        {
         "name": "total_busy_dashers",
         "rawType": "float64",
         "type": "float"
        },
        {
         "name": "total_outstanding_orders",
         "rawType": "float64",
         "type": "float"
        },
        {
         "name": "estimated_order_place_duration",
         "rawType": "int64",
         "type": "integer"
        },
        {
         "name": "estimated_store_to_consumer_driving_duration",
         "rawType": "float64",
         "type": "float"
        },
        {
         "name": "total_delivery_duration_seconds",
         "rawType": "float64",
         "type": "float"
        },
        {
         "name": "created_at_weekday",
         "rawType": "int64",
         "type": "integer"
        },
        {
         "name": "created_at_weekofyear",
         "rawType": "int64",
         "type": "integer"
        },
        {
         "name": "avg_item_price",
         "rawType": "float64",
         "type": "float"
        }
       ],
       "conversionMethod": "pd.DataFrame",
       "ref": "5c1dfd9d-2991-48af-a5cc-f6373b7a6e85",
       "rows": [
        [
         "0",
         "1.0",
         "2015-02-06 22:24:17",
         "2015-02-06 23:27:16",
         "1845",
         "2870.7155555555555",
         "1.0",
         "4",
         "3441",
         "4",
         "557",
         "1239",
         "33.0",
         "14.0",
         "21.0",
         "446",
         "861.0",
         "3779.0",
         "4",
         "6",
         "860.25"
        ],
        [
         "1",
         "2.0",
         "2015-02-10 21:49:25",
         "2015-02-10 22:56:29",
         "5477",
         "2989.596156430587",
         "2.0",
         "1",
         "1900",
         "1",
         "1400",
         "1400",
         "1.0",
         "2.0",
         "2.0",
         "446",
         "690.0",
         "4024.0",
         "1",
         "7",
         "1900.0"
        ],
        [
         "2",
         "3.0",
         "2015-01-22 20:39:28",
         "2015-01-22 21:09:09",
         "5477",
         "2989.596156430587",
         "1.0",
         "1",
         "1900",
         "1",
         "1900",
         "1900",
         "1.0",
         "0.0",
         "0.0",
         "446",
         "690.0",
         "1781.0",
         "3",
         "4",
         "1900.0"
        ],
        [
         "3",
         "3.0",
         "2015-02-03 21:21:45",
         "2015-02-03 22:13:00",
         "5477",
         "2989.596156430587",
         "1.0",
         "6",
         "6900",
         "5",
         "600",
         "1800",
         "1.0",
         "1.0",
         "2.0",
         "446",
         "289.0",
         "3075.0",
         "1",
         "6",
         "1150.0"
        ],
        [
         "4",
         "3.0",
         "2015-02-15 02:40:36",
         "2015-02-15 03:20:26",
         "5477",
         "2989.596156430587",
         "1.0",
         "3",
         "3900",
         "3",
         "1100",
         "1600",
         "6.0",
         "6.0",
         "9.0",
         "446",
         "650.0",
         "2390.0",
         "6",
         "7",
         "1300.0"
        ]
       ],
       "shape": {
        "columns": 20,
        "rows": 5
       }
      },
      "text/html": [
       "<div>\n",
       "<style scoped>\n",
       "    .dataframe tbody tr th:only-of-type {\n",
       "        vertical-align: middle;\n",
       "    }\n",
       "\n",
       "    .dataframe tbody tr th {\n",
       "        vertical-align: top;\n",
       "    }\n",
       "\n",
       "    .dataframe thead th {\n",
       "        text-align: right;\n",
       "    }\n",
       "</style>\n",
       "<table border=\"1\" class=\"dataframe\">\n",
       "  <thead>\n",
       "    <tr style=\"text-align: right;\">\n",
       "      <th></th>\n",
       "      <th>market_id</th>\n",
       "      <th>created_at</th>\n",
       "      <th>actual_delivery_time</th>\n",
       "      <th>store_id</th>\n",
       "      <th>store_primary_category</th>\n",
       "      <th>order_protocol</th>\n",
       "      <th>total_items</th>\n",
       "      <th>subtotal</th>\n",
       "      <th>num_distinct_items</th>\n",
       "      <th>min_item_price</th>\n",
       "      <th>max_item_price</th>\n",
       "      <th>total_onshift_dashers</th>\n",
       "      <th>total_busy_dashers</th>\n",
       "      <th>total_outstanding_orders</th>\n",
       "      <th>estimated_order_place_duration</th>\n",
       "      <th>estimated_store_to_consumer_driving_duration</th>\n",
       "      <th>total_delivery_duration_seconds</th>\n",
       "      <th>created_at_weekday</th>\n",
       "      <th>created_at_weekofyear</th>\n",
       "      <th>avg_item_price</th>\n",
       "    </tr>\n",
       "  </thead>\n",
       "  <tbody>\n",
       "    <tr>\n",
       "      <th>0</th>\n",
       "      <td>1.0</td>\n",
       "      <td>2015-02-06 22:24:17</td>\n",
       "      <td>2015-02-06 23:27:16</td>\n",
       "      <td>1845</td>\n",
       "      <td>2870.715556</td>\n",
       "      <td>1.0</td>\n",
       "      <td>4</td>\n",
       "      <td>3441</td>\n",
       "      <td>4</td>\n",
       "      <td>557</td>\n",
       "      <td>1239</td>\n",
       "      <td>33.0</td>\n",
       "      <td>14.0</td>\n",
       "      <td>21.0</td>\n",
       "      <td>446</td>\n",
       "      <td>861.0</td>\n",
       "      <td>3779.0</td>\n",
       "      <td>4</td>\n",
       "      <td>6</td>\n",
       "      <td>860.25</td>\n",
       "    </tr>\n",
       "    <tr>\n",
       "      <th>1</th>\n",
       "      <td>2.0</td>\n",
       "      <td>2015-02-10 21:49:25</td>\n",
       "      <td>2015-02-10 22:56:29</td>\n",
       "      <td>5477</td>\n",
       "      <td>2989.596156</td>\n",
       "      <td>2.0</td>\n",
       "      <td>1</td>\n",
       "      <td>1900</td>\n",
       "      <td>1</td>\n",
       "      <td>1400</td>\n",
       "      <td>1400</td>\n",
       "      <td>1.0</td>\n",
       "      <td>2.0</td>\n",
       "      <td>2.0</td>\n",
       "      <td>446</td>\n",
       "      <td>690.0</td>\n",
       "      <td>4024.0</td>\n",
       "      <td>1</td>\n",
       "      <td>7</td>\n",
       "      <td>1900.00</td>\n",
       "    </tr>\n",
       "    <tr>\n",
       "      <th>2</th>\n",
       "      <td>3.0</td>\n",
       "      <td>2015-01-22 20:39:28</td>\n",
       "      <td>2015-01-22 21:09:09</td>\n",
       "      <td>5477</td>\n",
       "      <td>2989.596156</td>\n",
       "      <td>1.0</td>\n",
       "      <td>1</td>\n",
       "      <td>1900</td>\n",
       "      <td>1</td>\n",
       "      <td>1900</td>\n",
       "      <td>1900</td>\n",
       "      <td>1.0</td>\n",
       "      <td>0.0</td>\n",
       "      <td>0.0</td>\n",
       "      <td>446</td>\n",
       "      <td>690.0</td>\n",
       "      <td>1781.0</td>\n",
       "      <td>3</td>\n",
       "      <td>4</td>\n",
       "      <td>1900.00</td>\n",
       "    </tr>\n",
       "    <tr>\n",
       "      <th>3</th>\n",
       "      <td>3.0</td>\n",
       "      <td>2015-02-03 21:21:45</td>\n",
       "      <td>2015-02-03 22:13:00</td>\n",
       "      <td>5477</td>\n",
       "      <td>2989.596156</td>\n",
       "      <td>1.0</td>\n",
       "      <td>6</td>\n",
       "      <td>6900</td>\n",
       "      <td>5</td>\n",
       "      <td>600</td>\n",
       "      <td>1800</td>\n",
       "      <td>1.0</td>\n",
       "      <td>1.0</td>\n",
       "      <td>2.0</td>\n",
       "      <td>446</td>\n",
       "      <td>289.0</td>\n",
       "      <td>3075.0</td>\n",
       "      <td>1</td>\n",
       "      <td>6</td>\n",
       "      <td>1150.00</td>\n",
       "    </tr>\n",
       "    <tr>\n",
       "      <th>4</th>\n",
       "      <td>3.0</td>\n",
       "      <td>2015-02-15 02:40:36</td>\n",
       "      <td>2015-02-15 03:20:26</td>\n",
       "      <td>5477</td>\n",
       "      <td>2989.596156</td>\n",
       "      <td>1.0</td>\n",
       "      <td>3</td>\n",
       "      <td>3900</td>\n",
       "      <td>3</td>\n",
       "      <td>1100</td>\n",
       "      <td>1600</td>\n",
       "      <td>6.0</td>\n",
       "      <td>6.0</td>\n",
       "      <td>9.0</td>\n",
       "      <td>446</td>\n",
       "      <td>650.0</td>\n",
       "      <td>2390.0</td>\n",
       "      <td>6</td>\n",
       "      <td>7</td>\n",
       "      <td>1300.00</td>\n",
       "    </tr>\n",
       "  </tbody>\n",
       "</table>\n",
       "</div>"
      ],
      "text/plain": [
       "   market_id           created_at actual_delivery_time  store_id  \\\n",
       "0        1.0  2015-02-06 22:24:17  2015-02-06 23:27:16      1845   \n",
       "1        2.0  2015-02-10 21:49:25  2015-02-10 22:56:29      5477   \n",
       "2        3.0  2015-01-22 20:39:28  2015-01-22 21:09:09      5477   \n",
       "3        3.0  2015-02-03 21:21:45  2015-02-03 22:13:00      5477   \n",
       "4        3.0  2015-02-15 02:40:36  2015-02-15 03:20:26      5477   \n",
       "\n",
       "   store_primary_category  order_protocol  total_items  subtotal  \\\n",
       "0             2870.715556             1.0            4      3441   \n",
       "1             2989.596156             2.0            1      1900   \n",
       "2             2989.596156             1.0            1      1900   \n",
       "3             2989.596156             1.0            6      6900   \n",
       "4             2989.596156             1.0            3      3900   \n",
       "\n",
       "   num_distinct_items  min_item_price  max_item_price  total_onshift_dashers  \\\n",
       "0                   4             557            1239                   33.0   \n",
       "1                   1            1400            1400                    1.0   \n",
       "2                   1            1900            1900                    1.0   \n",
       "3                   5             600            1800                    1.0   \n",
       "4                   3            1100            1600                    6.0   \n",
       "\n",
       "   total_busy_dashers  total_outstanding_orders  \\\n",
       "0                14.0                      21.0   \n",
       "1                 2.0                       2.0   \n",
       "2                 0.0                       0.0   \n",
       "3                 1.0                       2.0   \n",
       "4                 6.0                       9.0   \n",
       "\n",
       "   estimated_order_place_duration  \\\n",
       "0                             446   \n",
       "1                             446   \n",
       "2                             446   \n",
       "3                             446   \n",
       "4                             446   \n",
       "\n",
       "   estimated_store_to_consumer_driving_duration  \\\n",
       "0                                         861.0   \n",
       "1                                         690.0   \n",
       "2                                         690.0   \n",
       "3                                         289.0   \n",
       "4                                         650.0   \n",
       "\n",
       "   total_delivery_duration_seconds  created_at_weekday  created_at_weekofyear  \\\n",
       "0                           3779.0                   4                      6   \n",
       "1                           4024.0                   1                      7   \n",
       "2                           1781.0                   3                      4   \n",
       "3                           3075.0                   1                      6   \n",
       "4                           2390.0                   6                      7   \n",
       "\n",
       "   avg_item_price  \n",
       "0          860.25  \n",
       "1         1900.00  \n",
       "2         1900.00  \n",
       "3         1150.00  \n",
       "4         1300.00  "
      ]
     },
     "execution_count": 2,
     "metadata": {},
     "output_type": "execute_result"
    }
   ],
   "source": [
    "# Load Cleaned Data\n",
    "df = pd.read_csv(data_path/ 'cleaned_historical_data.csv')\n",
    "df.head()"
   ]
  },
  {
   "cell_type": "markdown",
   "metadata": {},
   "source": [
    "### Full model"
   ]
  },
  {
   "cell_type": "code",
   "execution_count": 3,
   "metadata": {},
   "outputs": [
    {
     "name": "stdout",
     "output_type": "stream",
     "text": [
      "X_train shape: (138194, 12)\n",
      "X_test shape: (59227, 12)\n",
      "y_train shape: (138194,)\n",
      "y_test shape: (59227,)\n"
     ]
    }
   ],
   "source": [
    "# Split the data into features and target variable\n",
    "X = df.drop(columns=['total_delivery_duration_seconds', 'created_at', 'actual_delivery_time', \n",
    "                     'total_onshift_dashers', 'total_busy_dashers', 'total_outstanding_orders', \n",
    "                     'min_item_price', 'max_item_price'])\n",
    "y = df['total_delivery_duration_seconds']\n",
    "\n",
    "# Split the data into training and testing sets\n",
    "X_train, X_test, y_train, y_test = train_test_split(X, y, test_size=0.3, random_state=42)\n",
    "\n",
    "# Display the shapes of the training and testing sets\n",
    "print(f\"X_train shape: {X_train.shape}\")\n",
    "print(f\"X_test shape: {X_test.shape}\")\n",
    "print(f\"y_train shape: {y_train.shape}\")\n",
    "print(f\"y_test shape: {y_test.shape}\")"
   ]
  },
  {
   "cell_type": "markdown",
   "metadata": {},
   "source": [
    "### Linear Regression"
   ]
  },
  {
   "cell_type": "code",
   "execution_count": 4,
   "metadata": {},
   "outputs": [],
   "source": [
    "# Create a pipeline that scales the features and then applies Linear regression\n",
    "linear_pipeline = make_pipeline(StandardScaler(), LinearRegression())\n",
    "\n",
    "# Define the parameter grid for GridSearchCV (no parameters to tune for Linear Regression)\n",
    "param_grid_linear = {\n",
    "    'linearregression__fit_intercept': [True, False]\n",
    "}\n",
    "\n",
    "# Initialize GridSearchCV with the Linear pipeline and parameter grid\n",
    "grid_search_linear = GridSearchCV(linear_pipeline, param_grid_linear, cv=3, scoring='neg_mean_squared_error')\n",
    "\n",
    "# Fit the model on the training data\n",
    "grid_search_linear.fit(X_train, y_train)\n",
    "\n",
    "# Get the best model (no parameters to tune for Linear Regression)\n",
    "best_linear_model = grid_search_linear.best_estimator_\n",
    "\n",
    "# Save the Linear Regression model\n",
    "with open(data_path / 'linear_regression_model.pkl', 'wb') as file:\n",
    "    pickle.dump(best_linear_model, file)\n"
   ]
  },
  {
   "cell_type": "code",
   "execution_count": 5,
   "metadata": {},
   "outputs": [
    {
     "name": "stdout",
     "output_type": "stream",
     "text": [
      "Linear Regression - Root Mean Squared Error (RMSE): 2753.285876807882\n",
      "Linear Regression - R^2 Score: -1.0458652880403414\n"
     ]
    }
   ],
   "source": [
    "# Predict on the test data\n",
    "y_pred_ridge = best_linear_model.predict(X_test)\n",
    "\n",
    "# Calculate the RMSE and R^2 score\n",
    "rmse_ridge = np.sqrt(mean_squared_error(y_test, y_pred_ridge))\n",
    "r2_ridge = r2_score(y_test, y_pred_ridge)\n",
    "\n",
    "print(f\"Linear Regression - Root Mean Squared Error (RMSE): {rmse_ridge}\")\n",
    "print(f\"Linear Regression - R^2 Score: {r2_ridge}\")"
   ]
  },
  {
   "cell_type": "markdown",
   "metadata": {},
   "source": [
    "### Polynomial Regression"
   ]
  },
  {
   "cell_type": "code",
   "execution_count": null,
   "metadata": {},
   "outputs": [],
   "source": [
    "# Define the degree of the polynomial features\n",
    "degrees = [2, 3, 4]\n",
    "\n",
    "# Create a pipeline that first transforms the features to polynomial features, scales them, and then applies Ridge regression\n",
    "pipeline = make_pipeline(PolynomialFeatures(), StandardScaler(), Ridge())\n",
    "\n",
    "# Use Grid Search to find the optimal degree and regularization strength\n",
    "param_grid = {\n",
    "    'polynomialfeatures__degree': degrees,\n",
    "    'ridge__alpha': [0.1, 1.0, 10.0]\n",
    "}\n",
    "grid_search = GridSearchCV(pipeline, param_grid, cv=3, scoring='neg_mean_squared_error')\n",
    "\n",
    "# Fit the model on the training data\n",
    "grid_search.fit(X_train, y_train)\n",
    "\n",
    "# Get the best parameters and model\n",
    "best_params = grid_search.best_params_\n",
    "best_model = grid_search.best_estimator_\n",
    "\n",
    "\n",
    "# save the model\n",
    "with open(data_path / 'polynomial_regression_model.pkl', 'wb') as file:\n",
    "    pickle.dump(best_model, file)\n"
   ]
  },
  {
   "cell_type": "code",
   "execution_count": null,
   "metadata": {},
   "outputs": [
    {
     "name": "stdout",
     "output_type": "stream",
     "text": [
      "Optimal Degree: 4\n",
      "Optimal Alpha: 10.0\n",
      "Polynomial Regression - Root Mean Squared Error (RMSE): 1834.0844994564122\n",
      "Polynomial Regression - R^2 Score: 0.09215208452345525\n"
     ]
    }
   ],
   "source": [
    "# Predict on the test data\n",
    "y_pred_poly = best_model.predict(X_test)\n",
    "\n",
    "# Calculate the RMSE and R^2 score\n",
    "rmse_poly = np.sqrt(mean_squared_error(y_test, y_pred_poly))\n",
    "r2_poly = r2_score(y_test, y_pred_poly)\n",
    "\n",
    "print(f\"Optimal Degree: {best_params['polynomialfeatures__degree']}\")\n",
    "print(f\"Optimal Alpha: {best_params['ridge__alpha']}\")\n",
    "print(f\"Polynomial Regression - Root Mean Squared Error (RMSE): {rmse_poly}\")\n",
    "print(f\"Polynomial Regression - R^2 Score: {r2_poly}\")"
   ]
  },
  {
   "cell_type": "markdown",
   "metadata": {},
   "source": [
    "### Random Forest Regressor"
   ]
  },
  {
   "cell_type": "code",
   "execution_count": null,
   "metadata": {},
   "outputs": [],
   "source": [
    "# Define the parameter grid for RandomizedSearchCV\n",
    "param_distributions_rf = {\n",
    "    'n_estimators': [100, 200],\n",
    "    'max_depth': [None, 10, 20],\n",
    "    'min_samples_split': [2, 5],\n",
    "    'min_samples_leaf': [1, 2],\n",
    "    'bootstrap': [True, False]\n",
    "}\n",
    "\n",
    "# Initialize RandomizedSearchCV with the Random Forest Regressor and parameter distributions\n",
    "random_search_rf = RandomizedSearchCV(RandomForestRegressor(random_state=42), param_distributions_rf, n_iter=10, cv=3, scoring='neg_mean_squared_error', n_jobs=-1, random_state=42)\n",
    "\n",
    "# Fit the model on the training data\n",
    "random_search_rf.fit(X_train, y_train)\n",
    "\n",
    "# Get the best parameters and model\n",
    "best_params_rf = random_search_rf.best_params_\n",
    "best_rf_model = random_search_rf.best_estimator_\n",
    "\n",
    "# Save the best Random Forest model\n",
    "with open(data_path / 'best_random_forest_regression_model.pkl', 'wb') as file:\n",
    "    pickle.dump(best_rf_model, file)"
   ]
  },
  {
   "cell_type": "code",
   "execution_count": null,
   "metadata": {},
   "outputs": [
    {
     "name": "stdout",
     "output_type": "stream",
     "text": [
      "Best Parameters for Random Forest: {'n_estimators': 200, 'min_samples_split': 5, 'min_samples_leaf': 1, 'max_depth': 20, 'bootstrap': True}\n",
      "Best Random Forest Regression - Root Mean Squared Error (RMSE): 1849.2582597947294\n",
      "Best Random Forest Regression - R^2 Score: 0.07706831892870025\n"
     ]
    }
   ],
   "source": [
    "# Predict on the test data\n",
    "y_pred_best_rf = best_rf_model.predict(X_test)\n",
    "\n",
    "# Calculate the RMSE and R^2 score\n",
    "rmse_best_rf = np.sqrt(mean_squared_error(y_test, y_pred_best_rf))\n",
    "r2_best_rf = r2_score(y_test, y_pred_best_rf)\n",
    "\n",
    "print(f\"Best Parameters for Random Forest: {best_params_rf}\")\n",
    "print(f\"Best Random Forest Regression - Root Mean Squared Error (RMSE): {rmse_best_rf}\")\n",
    "print(f\"Best Random Forest Regression - R^2 Score: {r2_best_rf}\")"
   ]
  },
  {
   "cell_type": "markdown",
   "metadata": {},
   "source": [
    "### Lasso Model"
   ]
  },
  {
   "cell_type": "code",
   "execution_count": null,
   "metadata": {},
   "outputs": [],
   "source": [
    "# Create a pipeline that scales the features and then applies Lasso regression\n",
    "lasso_pipeline = make_pipeline(StandardScaler(), Lasso())\n",
    "\n",
    "# Define the parameter grid for GridSearchCV\n",
    "param_grid_lasso = {\n",
    "    'lasso__alpha': [0.01, 0.1, 1.0, 10.0, 100.0],\n",
    "    'lasso__fit_intercept': [True, False]\n",
    "}\n",
    "\n",
    "# Initialize GridSearchCV with the Lasso pipeline and parameter grid\n",
    "grid_search_lasso = GridSearchCV(lasso_pipeline, param_grid_lasso, cv=5, scoring='neg_mean_squared_error')\n",
    "\n",
    "# Fit the model on the training data\n",
    "grid_search_lasso.fit(X_train, y_train)\n",
    "\n",
    "# Get the best model\n",
    "best_lasso_model = grid_search_lasso.best_estimator_\n",
    "\n",
    "# Save the Lasso Regression model\n",
    "with open(data_path / 'lasso_regression_model.pkl', 'wb') as file:\n",
    "    pickle.dump(best_lasso_model, file)\n"
   ]
  },
  {
   "cell_type": "code",
   "execution_count": null,
   "metadata": {},
   "outputs": [
    {
     "name": "stdout",
     "output_type": "stream",
     "text": [
      "Lasso Regression - Root Mean Squared Error (RMSE): 2646.2116835330407\n",
      "Lasso Regression - R^2 Score: -0.8898336815420913\n"
     ]
    }
   ],
   "source": [
    "# Predict on the test data\n",
    "y_pred_lasso = best_lasso_model.predict(X_test)\n",
    "\n",
    "# Calculate the RMSE and R^2 score\n",
    "rmse_lasso = np.sqrt(mean_squared_error(y_test, y_pred_lasso))\n",
    "r2_lasso = r2_score(y_test, y_pred_lasso)\n",
    "\n",
    "print(f\"Lasso Regression - Root Mean Squared Error (RMSE): {rmse_lasso}\")\n",
    "print(f\"Lasso Regression - R^2 Score: {r2_lasso}\")"
   ]
  },
  {
   "cell_type": "markdown",
   "metadata": {},
   "source": [
    "### XGB Regressor"
   ]
  },
  {
   "cell_type": "code",
   "execution_count": null,
   "metadata": {},
   "outputs": [
    {
     "name": "stderr",
     "output_type": "stream",
     "text": [
      "[I 2025-02-26 16:15:15,822] A new study created in memory with name: no-name-542c1906-25f1-42cb-922e-c82cdef6325c\n",
      "[I 2025-02-26 16:15:16,819] Trial 0 finished with value: -607215453.3069445 and parameters: {'n_estimators': 160, 'max_depth': None, 'min_child_weight': 2, 'learning_rate': 0.11556619025036177, 'subsample': 0.7512423763020237, 'colsample_bytree': 0.8951998131862973, 'gamma': 0.5558928345916256, 'reg_alpha': 0.00029245139774104577, 'reg_lambda': 1.0669506744644647e-06, 'bootstrap': False}. Best is trial 0 with value: -607215453.3069445.\n",
      "[I 2025-02-26 16:15:18,970] Trial 1 finished with value: -563407311.319579 and parameters: {'n_estimators': 133, 'max_depth': 10, 'min_child_weight': 2, 'learning_rate': 0.03968297594123062, 'subsample': 0.5004976712421376, 'colsample_bytree': 0.7239209209154773, 'gamma': 9.057760209023986e-05, 'reg_alpha': 0.0009415644530004162, 'reg_lambda': 2.338915414174551e-06, 'bootstrap': True}. Best is trial 1 with value: -563407311.319579.\n",
      "[I 2025-02-26 16:15:19,810] Trial 2 finished with value: -553192812.103732 and parameters: {'n_estimators': 139, 'max_depth': None, 'min_child_weight': 3, 'learning_rate': 0.027051252651737523, 'subsample': 0.6947861878474428, 'colsample_bytree': 0.5754538925174955, 'gamma': 0.007620580814411406, 'reg_alpha': 0.06194826666686588, 'reg_lambda': 8.882693689084113e-08, 'bootstrap': False}. Best is trial 2 with value: -553192812.103732.\n",
      "[I 2025-02-26 16:15:20,802] Trial 3 finished with value: -528552840.8213606 and parameters: {'n_estimators': 193, 'max_depth': None, 'min_child_weight': 1, 'learning_rate': 0.011654646321048068, 'subsample': 0.6928925388304641, 'colsample_bytree': 0.7055374962331713, 'gamma': 0.0015395647073508192, 'reg_alpha': 4.773676792008604e-06, 'reg_lambda': 3.630971708724418e-07, 'bootstrap': True}. Best is trial 3 with value: -528552840.8213606.\n",
      "[I 2025-02-26 16:15:23,080] Trial 4 finished with value: -556309230.7093294 and parameters: {'n_estimators': 150, 'max_depth': 10, 'min_child_weight': 4, 'learning_rate': 0.031055618616270715, 'subsample': 0.7448297765831602, 'colsample_bytree': 0.6002494690446091, 'gamma': 2.7369323934541517e-07, 'reg_alpha': 0.0001283577007150563, 'reg_lambda': 0.12444336666893015, 'bootstrap': True}. Best is trial 3 with value: -528552840.8213606.\n",
      "[I 2025-02-26 16:15:23,805] Trial 5 finished with value: -587902048.362109 and parameters: {'n_estimators': 135, 'max_depth': None, 'min_child_weight': 2, 'learning_rate': 0.14762450517401937, 'subsample': 0.6624572444227115, 'colsample_bytree': 0.9670509890060281, 'gamma': 7.806879102444676e-05, 'reg_alpha': 0.0003299957245987836, 'reg_lambda': 0.011556841281812513, 'bootstrap': True}. Best is trial 3 with value: -528552840.8213606.\n",
      "[I 2025-02-26 16:15:24,527] Trial 6 finished with value: -567662053.3768564 and parameters: {'n_estimators': 146, 'max_depth': None, 'min_child_weight': 3, 'learning_rate': 0.11655375323955225, 'subsample': 0.8555543761953099, 'colsample_bytree': 0.66273652383372, 'gamma': 0.00014546645672423712, 'reg_alpha': 1.1995588410999163e-05, 'reg_lambda': 0.047151185731662056, 'bootstrap': True}. Best is trial 3 with value: -528552840.8213606.\n",
      "[I 2025-02-26 16:15:27,199] Trial 7 finished with value: -568520590.2998395 and parameters: {'n_estimators': 191, 'max_depth': 10, 'min_child_weight': 4, 'learning_rate': 0.0567906852193222, 'subsample': 0.9694592165692857, 'colsample_bytree': 0.5218670178975933, 'gamma': 0.0008871080893764484, 'reg_alpha': 0.007958463890971833, 'reg_lambda': 0.04623749227434381, 'bootstrap': True}. Best is trial 3 with value: -528552840.8213606.\n",
      "[I 2025-02-26 16:15:27,975] Trial 8 finished with value: -579214681.6353927 and parameters: {'n_estimators': 156, 'max_depth': None, 'min_child_weight': 4, 'learning_rate': 0.08730696694624324, 'subsample': 0.7149576262784092, 'colsample_bytree': 0.7636326689728231, 'gamma': 1.170067744225602e-08, 'reg_alpha': 1.0018609761919523e-07, 'reg_lambda': 3.543830764736906e-05, 'bootstrap': False}. Best is trial 3 with value: -528552840.8213606.\n",
      "[I 2025-02-26 16:15:29,862] Trial 9 finished with value: -547917559.8219799 and parameters: {'n_estimators': 107, 'max_depth': 10, 'min_child_weight': 3, 'learning_rate': 0.028015756941504922, 'subsample': 0.9478056642643473, 'colsample_bytree': 0.7104884847513396, 'gamma': 2.442790865033487e-05, 'reg_alpha': 0.0903907525843427, 'reg_lambda': 5.9507554910645396e-08, 'bootstrap': False}. Best is trial 3 with value: -528552840.8213606.\n",
      "[I 2025-02-26 16:17:02,152] Trial 10 finished with value: -527779902.8626604 and parameters: {'n_estimators': 200, 'max_depth': 20, 'min_child_weight': 1, 'learning_rate': 0.014052541865489671, 'subsample': 0.5460790509884965, 'colsample_bytree': 0.8255110836215196, 'gamma': 0.3189690555414615, 'reg_alpha': 8.864444467683495e-07, 'reg_lambda': 0.0009867888365571746, 'bootstrap': True}. Best is trial 10 with value: -527779902.8626604.\n",
      "[I 2025-02-26 16:18:37,250] Trial 11 finished with value: -527967088.46158946 and parameters: {'n_estimators': 200, 'max_depth': 20, 'min_child_weight': 1, 'learning_rate': 0.011362211518962972, 'subsample': 0.5372114615130826, 'colsample_bytree': 0.8135666962899192, 'gamma': 0.7141788870094585, 'reg_alpha': 6.379057177300282e-07, 'reg_lambda': 0.0005208100091060356, 'bootstrap': True}. Best is trial 10 with value: -527779902.8626604.\n",
      "[I 2025-02-26 16:20:00,244] Trial 12 finished with value: -526809107.5490234 and parameters: {'n_estimators': 178, 'max_depth': 20, 'min_child_weight': 1, 'learning_rate': 0.01115834786481582, 'subsample': 0.5108443205647925, 'colsample_bytree': 0.851121479963101, 'gamma': 0.874643620991811, 'reg_alpha': 1.0981665304035044e-08, 'reg_lambda': 0.0009622364012112474, 'bootstrap': True}. Best is trial 12 with value: -526809107.5490234.\n",
      "[I 2025-02-26 16:21:32,730] Trial 13 finished with value: -527101000.06907845 and parameters: {'n_estimators': 176, 'max_depth': 20, 'min_child_weight': 1, 'learning_rate': 0.014400697341330536, 'subsample': 0.5911243091310203, 'colsample_bytree': 0.8532678233560342, 'gamma': 0.02398196763455146, 'reg_alpha': 2.5018706500966277e-08, 'reg_lambda': 0.0008234736389779079, 'bootstrap': True}. Best is trial 12 with value: -526809107.5490234.\n",
      "[I 2025-02-26 16:21:45,381] Trial 14 finished with value: -622187821.1094718 and parameters: {'n_estimators': 174, 'max_depth': 20, 'min_child_weight': 5, 'learning_rate': 0.279833284816834, 'subsample': 0.5912855973521288, 'colsample_bytree': 0.9146890081127137, 'gamma': 0.03057217340167453, 'reg_alpha': 1.236823085453542e-08, 'reg_lambda': 4.7965935881861367e-05, 'bootstrap': True}. Best is trial 12 with value: -526809107.5490234.\n",
      "[I 2025-02-26 16:23:18,019] Trial 15 finished with value: -527389285.89294946 and parameters: {'n_estimators': 176, 'max_depth': 20, 'min_child_weight': 1, 'learning_rate': 0.01699332145602607, 'subsample': 0.6199112729934652, 'colsample_bytree': 0.8647954524115795, 'gamma': 0.04847109595904997, 'reg_alpha': 1.4303927106794817e-08, 'reg_lambda': 0.004424060359009364, 'bootstrap': True}. Best is trial 12 with value: -526809107.5490234.\n",
      "[I 2025-02-26 16:24:01,379] Trial 16 finished with value: -554493173.6075106 and parameters: {'n_estimators': 177, 'max_depth': 20, 'min_child_weight': 2, 'learning_rate': 0.01819939581400263, 'subsample': 0.606570640262285, 'colsample_bytree': 0.9653572621424469, 'gamma': 0.05728502024741241, 'reg_alpha': 9.455798582461327e-08, 'reg_lambda': 0.6876130052693722, 'bootstrap': True}. Best is trial 12 with value: -526809107.5490234.\n",
      "[I 2025-02-26 16:26:06,842] Trial 17 finished with value: -527682228.08869225 and parameters: {'n_estimators': 166, 'max_depth': 20, 'min_child_weight': 1, 'learning_rate': 0.010039848756086331, 'subsample': 0.8000863971222736, 'colsample_bytree': 0.7944971126013948, 'gamma': 6.049047287872691e-06, 'reg_alpha': 9.857317750178036e-08, 'reg_lambda': 1.0111147893005292e-05, 'bootstrap': True}. Best is trial 12 with value: -526809107.5490234.\n",
      "[I 2025-02-26 16:26:47,415] Trial 18 finished with value: -559590748.1760387 and parameters: {'n_estimators': 186, 'max_depth': 20, 'min_child_weight': 2, 'learning_rate': 0.020494210142827856, 'subsample': 0.5054125255002118, 'colsample_bytree': 0.9987753090955063, 'gamma': 0.004141900814786562, 'reg_alpha': 9.034984125477069e-06, 'reg_lambda': 0.00040461484885669124, 'bootstrap': False}. Best is trial 12 with value: -526809107.5490234.\n",
      "[I 2025-02-26 16:27:40,053] Trial 19 finished with value: -527828952.399116 and parameters: {'n_estimators': 101, 'max_depth': 20, 'min_child_weight': 1, 'learning_rate': 0.0510199612830972, 'subsample': 0.5713062884010698, 'colsample_bytree': 0.864522831149793, 'gamma': 0.13221100526169627, 'reg_alpha': 7.790675804385271e-07, 'reg_lambda': 0.004651072330009509, 'bootstrap': True}. Best is trial 12 with value: -526809107.5490234.\n",
      "[I 2025-02-26 16:27:57,765] Trial 20 finished with value: -545284758.2977589 and parameters: {'n_estimators': 121, 'max_depth': 20, 'min_child_weight': 5, 'learning_rate': 0.0221208139649903, 'subsample': 0.6373468993064726, 'colsample_bytree': 0.9331758849294367, 'gamma': 0.007216380693937273, 'reg_alpha': 1.423951085801492e-08, 'reg_lambda': 0.0001756601497299112, 'bootstrap': True}. Best is trial 12 with value: -526809107.5490234.\n",
      "[I 2025-02-26 16:29:31,009] Trial 21 finished with value: -527415903.5183433 and parameters: {'n_estimators': 175, 'max_depth': 20, 'min_child_weight': 1, 'learning_rate': 0.015572444699500887, 'subsample': 0.6211250319673258, 'colsample_bytree': 0.8534838373645022, 'gamma': 0.0356104742958729, 'reg_alpha': 1.5517318752712098e-08, 'reg_lambda': 0.0026799568402443275, 'bootstrap': True}. Best is trial 12 with value: -526809107.5490234.\n",
      "[I 2025-02-26 16:30:55,172] Trial 22 finished with value: -527682726.3210528 and parameters: {'n_estimators': 183, 'max_depth': 20, 'min_child_weight': 1, 'learning_rate': 0.015244246898101546, 'subsample': 0.5474469838212501, 'colsample_bytree': 0.8597213919773593, 'gamma': 0.13426765541903815, 'reg_alpha': 8.035010852794414e-08, 'reg_lambda': 0.005630725776438017, 'bootstrap': True}. Best is trial 12 with value: -526809107.5490234.\n",
      "[I 2025-02-26 16:31:42,714] Trial 23 finished with value: -545259376.8840361 and parameters: {'n_estimators': 168, 'max_depth': 20, 'min_child_weight': 2, 'learning_rate': 0.013653802412746267, 'subsample': 0.5881835091492136, 'colsample_bytree': 0.7743143637474321, 'gamma': 0.019126563337810557, 'reg_alpha': 4.288620857053915e-07, 'reg_lambda': 0.0014072612251954397, 'bootstrap': True}. Best is trial 12 with value: -526809107.5490234.\n",
      "[I 2025-02-26 16:33:06,200] Trial 24 finished with value: -526398733.53767014 and parameters: {'n_estimators': 165, 'max_depth': 20, 'min_child_weight': 1, 'learning_rate': 0.023124280472369776, 'subsample': 0.6443376345235993, 'colsample_bytree': 0.9113219887349586, 'gamma': 0.7020377005674779, 'reg_alpha': 2.990664513363556e-08, 'reg_lambda': 0.018571564950047085, 'bootstrap': True}. Best is trial 24 with value: -526398733.53767014.\n",
      "[I 2025-02-26 16:33:41,611] Trial 25 finished with value: -560904700.1151677 and parameters: {'n_estimators': 163, 'max_depth': 20, 'min_child_weight': 2, 'learning_rate': 0.022924229817642736, 'subsample': 0.5554732086978873, 'colsample_bytree': 0.9070638689488583, 'gamma': 0.7181903155700887, 'reg_alpha': 2.444390091547082e-06, 'reg_lambda': 0.607586829102258, 'bootstrap': True}. Best is trial 24 with value: -526398733.53767014.\n",
      "[I 2025-02-26 16:34:56,887] Trial 26 finished with value: -527740945.5285245 and parameters: {'n_estimators': 155, 'max_depth': 20, 'min_child_weight': 1, 'learning_rate': 0.03655854413464487, 'subsample': 0.6568955777925957, 'colsample_bytree': 0.8157862788190086, 'gamma': 0.17896287910234107, 'reg_alpha': 4.147364003318606e-05, 'reg_lambda': 0.019312072461872474, 'bootstrap': False}. Best is trial 24 with value: -526398733.53767014.\n",
      "[I 2025-02-26 16:35:44,783] Trial 27 finished with value: -547092481.9999679 and parameters: {'n_estimators': 182, 'max_depth': 20, 'min_child_weight': 2, 'learning_rate': 0.010559229709114066, 'subsample': 0.5174688614739055, 'colsample_bytree': 0.9435221513435087, 'gamma': 0.9714642288151819, 'reg_alpha': 5.0661882395208265e-08, 'reg_lambda': 0.00019113625588963498, 'bootstrap': True}. Best is trial 24 with value: -526398733.53767014.\n",
      "[I 2025-02-26 16:37:01,946] Trial 28 finished with value: -526763596.21801007 and parameters: {'n_estimators': 167, 'max_depth': 20, 'min_child_weight': 1, 'learning_rate': 0.06093349586749209, 'subsample': 0.8012984874225639, 'colsample_bytree': 0.8957567044024166, 'gamma': 0.0008165985946112687, 'reg_alpha': 1.5876848870960765e-07, 'reg_lambda': 0.16160569801875196, 'bootstrap': True}. Best is trial 24 with value: -526398733.53767014.\n",
      "[I 2025-02-26 16:37:04,705] Trial 29 finished with value: -589036425.2118616 and parameters: {'n_estimators': 159, 'max_depth': 10, 'min_child_weight': 2, 'learning_rate': 0.07255497592181558, 'subsample': 0.8513333692411177, 'colsample_bytree': 0.8954231785022684, 'gamma': 1.775502103888199e-06, 'reg_alpha': 4.083292991479546e-07, 'reg_lambda': 0.12589461393073426, 'bootstrap': False}. Best is trial 24 with value: -526398733.53767014.\n",
      "[I 2025-02-26 16:37:35,782] Trial 30 finished with value: -572964597.6217844 and parameters: {'n_estimators': 170, 'max_depth': 20, 'min_child_weight': 3, 'learning_rate': 0.04819425905414925, 'subsample': 0.7974708433744058, 'colsample_bytree': 0.9879903770904688, 'gamma': 0.0004923436386609965, 'reg_alpha': 2.58154962728269e-07, 'reg_lambda': 0.2117639001202833, 'bootstrap': True}. Best is trial 24 with value: -526398733.53767014.\n",
      "[I 2025-02-26 16:38:58,999] Trial 31 finished with value: -526932481.83105564 and parameters: {'n_estimators': 163, 'max_depth': 20, 'min_child_weight': 1, 'learning_rate': 0.07384559749827987, 'subsample': 0.7831835244551675, 'colsample_bytree': 0.8861908822082089, 'gamma': 0.0026657604376307408, 'reg_alpha': 3.258299871266477e-08, 'reg_lambda': 0.02410293040806423, 'bootstrap': True}. Best is trial 24 with value: -526398733.53767014.\n",
      "[I 2025-02-26 16:40:17,066] Trial 32 finished with value: -527018779.58593196 and parameters: {'n_estimators': 146, 'max_depth': 20, 'min_child_weight': 1, 'learning_rate': 0.07696089616519873, 'subsample': 0.7977598276066324, 'colsample_bytree': 0.8877621989206615, 'gamma': 0.0018779619206620683, 'reg_alpha': 4.776577655632987e-08, 'reg_lambda': 0.02981804622297217, 'bootstrap': True}. Best is trial 24 with value: -526398733.53767014.\n",
      "[I 2025-02-26 16:41:28,149] Trial 33 finished with value: -526522818.63202953 and parameters: {'n_estimators': 163, 'max_depth': 20, 'min_child_weight': 1, 'learning_rate': 0.10708235965601638, 'subsample': 0.8497616865422688, 'colsample_bytree': 0.9260027247686774, 'gamma': 0.0002247318731579414, 'reg_alpha': 2.4434038848764344e-07, 'reg_lambda': 0.25349699236594475, 'bootstrap': True}. Best is trial 24 with value: -526398733.53767014.\n",
      "[I 2025-02-26 16:42:07,712] Trial 34 finished with value: -587773977.6399658 and parameters: {'n_estimators': 154, 'max_depth': 20, 'min_child_weight': 2, 'learning_rate': 0.16566010736573822, 'subsample': 0.8893362820558084, 'colsample_bytree': 0.9369419045111946, 'gamma': 0.0003321545436177124, 'reg_alpha': 1.901313282281747e-07, 'reg_lambda': 0.3000213530522197, 'bootstrap': True}. Best is trial 24 with value: -526398733.53767014.\n",
      "[I 2025-02-26 16:42:10,754] Trial 35 finished with value: -526417920.26280606 and parameters: {'n_estimators': 170, 'max_depth': 10, 'min_child_weight': 1, 'learning_rate': 0.10295769526601492, 'subsample': 0.8407714939185991, 'colsample_bytree': 0.9574698525176437, 'gamma': 1.9112536662615933e-05, 'reg_alpha': 1.3370006625922786e-06, 'reg_lambda': 0.05806394663582417, 'bootstrap': True}. Best is trial 24 with value: -526398733.53767014.\n",
      "[I 2025-02-26 16:42:13,214] Trial 36 finished with value: -526346169.07026273 and parameters: {'n_estimators': 142, 'max_depth': 10, 'min_child_weight': 1, 'learning_rate': 0.10372772580759564, 'subsample': 0.9003158908460975, 'colsample_bytree': 0.9631661297033047, 'gamma': 1.3330657589706872e-05, 'reg_alpha': 2.765125118670016e-06, 'reg_lambda': 0.9676562138071345, 'bootstrap': True}. Best is trial 36 with value: -526346169.07026273.\n",
      "[I 2025-02-26 16:42:15,649] Trial 37 finished with value: -595428525.4029276 and parameters: {'n_estimators': 140, 'max_depth': 10, 'min_child_weight': 2, 'learning_rate': 0.10471996636715745, 'subsample': 0.905154562306985, 'colsample_bytree': 0.9663741485004492, 'gamma': 9.99132933896126e-07, 'reg_alpha': 0.6088392425124756, 'reg_lambda': 1.0894570840193956e-08, 'bootstrap': False}. Best is trial 36 with value: -526346169.07026273.\n",
      "[I 2025-02-26 16:42:17,989] Trial 38 finished with value: -526689821.8404246 and parameters: {'n_estimators': 127, 'max_depth': 10, 'min_child_weight': 1, 'learning_rate': 0.16792061984820694, 'subsample': 0.8546037632355148, 'colsample_bytree': 0.9597321734941652, 'gamma': 2.9709759506619766e-05, 'reg_alpha': 3.281103711008815e-06, 'reg_lambda': 0.07417004401407866, 'bootstrap': True}. Best is trial 36 with value: -526346169.07026273.\n",
      "[I 2025-02-26 16:42:20,242] Trial 39 finished with value: -574053123.4845026 and parameters: {'n_estimators': 144, 'max_depth': 10, 'min_child_weight': 3, 'learning_rate': 0.12113124731261468, 'subsample': 0.9223217613039463, 'colsample_bytree': 0.98053435791323, 'gamma': 1.0684891298266988e-05, 'reg_alpha': 1.7779231585644342e-05, 'reg_lambda': 0.6084951243467509, 'bootstrap': True}. Best is trial 36 with value: -526346169.07026273.\n",
      "[I 2025-02-26 16:42:22,487] Trial 40 finished with value: -579324831.077236 and parameters: {'n_estimators': 151, 'max_depth': 10, 'min_child_weight': 2, 'learning_rate': 0.20645279666227156, 'subsample': 0.9974669929169748, 'colsample_bytree': 0.6771214081761916, 'gamma': 7.825271441726376e-08, 'reg_alpha': 1.4656538866471088e-06, 'reg_lambda': 0.8379742961051619, 'bootstrap': True}. Best is trial 36 with value: -526346169.07026273.\n",
      "[I 2025-02-26 16:42:24,706] Trial 41 finished with value: -526409380.21755224 and parameters: {'n_estimators': 120, 'max_depth': 10, 'min_child_weight': 1, 'learning_rate': 0.14989643781158443, 'subsample': 0.8825223917452567, 'colsample_bytree': 0.9368978887572649, 'gamma': 0.00010122844700763992, 'reg_alpha': 3.740388928350614e-06, 'reg_lambda': 0.10395165696554104, 'bootstrap': True}. Best is trial 36 with value: -526346169.07026273.\n",
      "[I 2025-02-26 16:42:26,854] Trial 42 finished with value: -526940214.0130834 and parameters: {'n_estimators': 115, 'max_depth': 10, 'min_child_weight': 1, 'learning_rate': 0.1019561649077973, 'subsample': 0.8285615647119478, 'colsample_bytree': 0.920944634775642, 'gamma': 0.00010819589151064413, 'reg_alpha': 0.0013163281828085498, 'reg_lambda': 0.010938960670888332, 'bootstrap': True}. Best is trial 36 with value: -526346169.07026273.\n",
      "[I 2025-02-26 16:42:29,236] Trial 43 finished with value: -526394774.20908695 and parameters: {'n_estimators': 130, 'max_depth': 10, 'min_child_weight': 1, 'learning_rate': 0.13636886332473677, 'subsample': 0.8772130014791912, 'colsample_bytree': 0.9511530934866192, 'gamma': 3.139076306965818e-05, 'reg_alpha': 3.466736295164619e-05, 'reg_lambda': 0.07365584884193112, 'bootstrap': True}. Best is trial 36 with value: -526346169.07026273.\n",
      "[I 2025-02-26 16:42:31,750] Trial 44 finished with value: -526454112.881154 and parameters: {'n_estimators': 134, 'max_depth': 10, 'min_child_weight': 1, 'learning_rate': 0.14002037308210596, 'subsample': 0.8856752762857086, 'colsample_bytree': 0.9501622954232325, 'gamma': 2.8818407102436113e-05, 'reg_alpha': 3.779221856599485e-05, 'reg_lambda': 0.048086895037102964, 'bootstrap': True}. Best is trial 36 with value: -526346169.07026273.\n",
      "[I 2025-02-26 16:42:34,224] Trial 45 finished with value: -526551197.99458313 and parameters: {'n_estimators': 127, 'max_depth': 10, 'min_child_weight': 1, 'learning_rate': 0.22223264843189502, 'subsample': 0.744425688181121, 'colsample_bytree': 0.9976602746155361, 'gamma': 3.889166407816248e-06, 'reg_alpha': 0.0002914324233154675, 'reg_lambda': 0.09352477084495028, 'bootstrap': True}. Best is trial 36 with value: -526346169.07026273.\n",
      "[I 2025-02-26 16:42:36,259] Trial 46 finished with value: -546922453.0628524 and parameters: {'n_estimators': 115, 'max_depth': 10, 'min_child_weight': 1, 'learning_rate': 0.12863698061738035, 'subsample': 0.9415250717209328, 'colsample_bytree': 0.5701279778973096, 'gamma': 3.365378671841979e-07, 'reg_alpha': 8.805059437546687e-05, 'reg_lambda': 0.012813838636789176, 'bootstrap': False}. Best is trial 36 with value: -526346169.07026273.\n",
      "[I 2025-02-26 16:42:37,006] Trial 47 finished with value: -585101539.7993257 and parameters: {'n_estimators': 127, 'max_depth': None, 'min_child_weight': 2, 'learning_rate': 0.09123522750984527, 'subsample': 0.8726723974429575, 'colsample_bytree': 0.9707636306660774, 'gamma': 1.6377145831987158e-05, 'reg_alpha': 4.871398839318622e-06, 'reg_lambda': 0.39843663097829934, 'bootstrap': True}. Best is trial 36 with value: -526346169.07026273.\n",
      "[I 2025-02-26 16:42:39,525] Trial 48 finished with value: -526583680.0399511 and parameters: {'n_estimators': 140, 'max_depth': 10, 'min_child_weight': 1, 'learning_rate': 0.1970863107261491, 'subsample': 0.7023583152097475, 'colsample_bytree': 0.9458987412280505, 'gamma': 6.918838871550636e-05, 'reg_alpha': 8.57513327468167e-06, 'reg_lambda': 0.0686055260428626, 'bootstrap': True}. Best is trial 36 with value: -526346169.07026273.\n",
      "[I 2025-02-26 16:42:41,386] Trial 49 finished with value: -619615911.3018957 and parameters: {'n_estimators': 131, 'max_depth': 10, 'min_child_weight': 4, 'learning_rate': 0.17591738891681497, 'subsample': 0.7606129161966556, 'colsample_bytree': 0.9117836693641495, 'gamma': 5.799035318588813e-05, 'reg_alpha': 0.0020780864281656256, 'reg_lambda': 7.682446016284103e-07, 'bootstrap': True}. Best is trial 36 with value: -526346169.07026273.\n"
     ]
    }
   ],
   "source": [
    "# Define the objective function for Optuna\n",
    "def objective(trial):\n",
    "    param = {\n",
    "        'n_estimators': trial.suggest_int('n_estimators', 100, 200),\n",
    "        'max_depth': trial.suggest_categorical('max_depth', [None, 10, 20]),\n",
    "        'min_child_weight': trial.suggest_int('min_child_weight', 1, 5),\n",
    "        'learning_rate': trial.suggest_loguniform('learning_rate', 0.01, 0.3),\n",
    "        'subsample': trial.suggest_uniform('subsample', 0.5, 1.0),\n",
    "        'colsample_bytree': trial.suggest_uniform('colsample_bytree', 0.5, 1.0),\n",
    "        'gamma': trial.suggest_loguniform('gamma', 1e-8, 1.0),\n",
    "        'reg_alpha': trial.suggest_loguniform('reg_alpha', 1e-8, 1.0),\n",
    "        'reg_lambda': trial.suggest_loguniform('reg_lambda', 1e-8, 1.0),\n",
    "        'bootstrap': trial.suggest_categorical('bootstrap', [True, False])\n",
    "    }\n",
    "    \n",
    "    model = XGBRegressor(**param, random_state=42)\n",
    "    score = cross_val_score(model, X_train, y_train, scoring='neg_mean_squared_error', cv=2).mean() \n",
    "    return score\n",
    "\n",
    "# Create a study object and optimize the objective function\n",
    "study = optuna.create_study(direction='maximize', sampler=TPESampler())\n",
    "study.optimize(objective, n_trials=50)  # Reduced number of trials to 50\n",
    "\n",
    "# Get the best hyperparameters\n",
    "best_params = study.best_params\n",
    "\n",
    "# Initialize the XGB Regressor model with the best hyperparameters\n",
    "xgb_model = XGBRegressor(**best_params, random_state=42)\n",
    "\n",
    "# Fit the model on the training data\n",
    "xgb_model.fit(X_train, y_train)\n",
    "\n",
    "# Save the XGB Regressor model\n",
    "with open(data_path / 'xgb_regression_model_optuna.pkl', 'wb') as file:\n",
    "    pickle.dump(xgb_model, file)"
   ]
  },
  {
   "cell_type": "code",
   "execution_count": null,
   "metadata": {},
   "outputs": [
    {
     "name": "stdout",
     "output_type": "stream",
     "text": [
      "XGB Regressor with Optuna - Root Mean Squared Error (RMSE): 2568.3727037163835\n",
      "XGB Regressor with Optuna - R^2 Score: -0.7802890106266089\n"
     ]
    }
   ],
   "source": [
    "# Predict on the test data\n",
    "y_pred_xgb = xgb_model.predict(X_test)\n",
    "\n",
    "# Calculate the RMSE and R^2 score\n",
    "rmse_xgb = np.sqrt(mean_squared_error(y_test, y_pred_xgb))\n",
    "r2_xgb = r2_score(y_test, y_pred_xgb)\n",
    "\n",
    "print(f\"XGB Regressor with Optuna - Root Mean Squared Error (RMSE): {rmse_xgb}\")\n",
    "print(f\"XGB Regressor with Optuna - R^2 Score: {r2_xgb}\")"
   ]
  }
 ],
 "metadata": {
  "kernelspec": {
   "display_name": "base",
   "language": "python",
   "name": "python3"
  },
  "language_info": {
   "codemirror_mode": {
    "name": "ipython",
    "version": 3
   },
   "file_extension": ".py",
   "mimetype": "text/x-python",
   "name": "python",
   "nbconvert_exporter": "python",
   "pygments_lexer": "ipython3",
   "version": "3.12.3"
  }
 },
 "nbformat": 4,
 "nbformat_minor": 2
}
