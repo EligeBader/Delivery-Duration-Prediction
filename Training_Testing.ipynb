{
 "cells": [
  {
   "cell_type": "code",
   "execution_count": 1,
   "metadata": {},
   "outputs": [],
   "source": [
    "import pandas as pd\n",
    "import numpy as np\n",
    "import matplotlib.pyplot as plt\n",
    "import seaborn as sns\n",
    "\n",
    "from pathlib import Path\n",
    "data_path = Path('./data')\n",
    "\n",
    "from sklearn.linear_model import LinearRegression\n",
    "from sklearn.metrics import mean_squared_error, r2_score\n",
    "from sklearn.model_selection import train_test_split, cross_val_score, GridSearchCV, RandomizedSearchCV\n",
    "from sklearn.ensemble import RandomForestRegressor\n",
    "from sklearn.preprocessing import PolynomialFeatures, StandardScaler\n",
    "from sklearn.linear_model import LinearRegression, Ridge, Lasso\n",
    "from sklearn.pipeline import make_pipeline\n",
    "from xgboost import XGBRegressor\n",
    "import optuna\n",
    "from optuna.samplers import TPESampler\n",
    "\n",
    "# Custom MaskedArray class definition\n",
    "class MaskedArray(np.ma.MaskedArray):\n",
    "    pass\n",
    "\n",
    "from skopt import BayesSearchCV\n",
    "\n",
    "import pickle\n",
    "\n",
    "import warnings\n",
    "warnings.filterwarnings(\"ignore\")"
   ]
  },
  {
   "cell_type": "markdown",
   "metadata": {},
   "source": [
    "# Build and Test Regression Models"
   ]
  },
  {
   "cell_type": "code",
   "execution_count": 2,
   "metadata": {},
   "outputs": [
    {
     "data": {
      "application/vnd.microsoft.datawrangler.viewer.v0+json": {
       "columns": [
        {
         "name": "index",
         "rawType": "int64",
         "type": "integer"
        },
        {
         "name": "market_id",
         "rawType": "float64",
         "type": "float"
        },
        {
         "name": "created_at",
         "rawType": "object",
         "type": "string"
        },
        {
         "name": "actual_delivery_time",
         "rawType": "object",
         "type": "string"
        },
        {
         "name": "store_id",
         "rawType": "int64",
         "type": "integer"
        },
        {
         "name": "store_primary_category",
         "rawType": "float64",
         "type": "float"
        },
        {
         "name": "order_protocol",
         "rawType": "float64",
         "type": "float"
        },
        {
         "name": "total_items",
         "rawType": "int64",
         "type": "integer"
        },
        {
         "name": "subtotal",
         "rawType": "int64",
         "type": "integer"
        },
        {
         "name": "num_distinct_items",
         "rawType": "int64",
         "type": "integer"
        },
        {
         "name": "min_item_price",
         "rawType": "int64",
         "type": "integer"
        },
        {
         "name": "max_item_price",
         "rawType": "int64",
         "type": "integer"
        },
        {
         "name": "total_onshift_dashers",
         "rawType": "float64",
         "type": "float"
        },
        {
         "name": "total_busy_dashers",
         "rawType": "float64",
         "type": "float"
        },
        {
         "name": "total_outstanding_orders",
         "rawType": "float64",
         "type": "float"
        },
        {
         "name": "estimated_order_place_duration",
         "rawType": "int64",
         "type": "integer"
        },
        {
         "name": "estimated_store_to_consumer_driving_duration",
         "rawType": "float64",
         "type": "float"
        },
        {
         "name": "total_delivery_duration_seconds",
         "rawType": "float64",
         "type": "float"
        },
        {
         "name": "created_at_weekday",
         "rawType": "int64",
         "type": "integer"
        },
        {
         "name": "created_at_weekofyear",
         "rawType": "int64",
         "type": "integer"
        },
        {
         "name": "avg_item_price",
         "rawType": "float64",
         "type": "float"
        }
       ],
       "conversionMethod": "pd.DataFrame",
       "ref": "37eaa915-1b9a-48f3-b954-a191fa0f66e2",
       "rows": [
        [
         "0",
         "1.0",
         "2015-02-06 22:24:17",
         "2015-02-06 23:27:16",
         "1845",
         "2870.7155555555555",
         "1.0",
         "4",
         "3441",
         "4",
         "557",
         "1239",
         "33.0",
         "14.0",
         "21.0",
         "446",
         "861.0",
         "3779.0",
         "4",
         "6",
         "860.25"
        ],
        [
         "1",
         "2.0",
         "2015-02-10 21:49:25",
         "2015-02-10 22:56:29",
         "5477",
         "2989.596156430587",
         "2.0",
         "1",
         "1900",
         "1",
         "1400",
         "1400",
         "1.0",
         "2.0",
         "2.0",
         "446",
         "690.0",
         "4024.0",
         "1",
         "7",
         "1900.0"
        ],
        [
         "2",
         "3.0",
         "2015-01-22 20:39:28",
         "2015-01-22 21:09:09",
         "5477",
         "2989.596156430587",
         "1.0",
         "1",
         "1900",
         "1",
         "1900",
         "1900",
         "1.0",
         "0.0",
         "0.0",
         "446",
         "690.0",
         "1781.0",
         "3",
         "4",
         "1900.0"
        ],
        [
         "3",
         "3.0",
         "2015-02-03 21:21:45",
         "2015-02-03 22:13:00",
         "5477",
         "2989.596156430587",
         "1.0",
         "6",
         "6900",
         "5",
         "600",
         "1800",
         "1.0",
         "1.0",
         "2.0",
         "446",
         "289.0",
         "3075.0",
         "1",
         "6",
         "1150.0"
        ],
        [
         "4",
         "3.0",
         "2015-02-15 02:40:36",
         "2015-02-15 03:20:26",
         "5477",
         "2989.596156430587",
         "1.0",
         "3",
         "3900",
         "3",
         "1100",
         "1600",
         "6.0",
         "6.0",
         "9.0",
         "446",
         "650.0",
         "2390.0",
         "6",
         "7",
         "1300.0"
        ]
       ],
       "shape": {
        "columns": 20,
        "rows": 5
       }
      },
      "text/html": [
       "<div>\n",
       "<style scoped>\n",
       "    .dataframe tbody tr th:only-of-type {\n",
       "        vertical-align: middle;\n",
       "    }\n",
       "\n",
       "    .dataframe tbody tr th {\n",
       "        vertical-align: top;\n",
       "    }\n",
       "\n",
       "    .dataframe thead th {\n",
       "        text-align: right;\n",
       "    }\n",
       "</style>\n",
       "<table border=\"1\" class=\"dataframe\">\n",
       "  <thead>\n",
       "    <tr style=\"text-align: right;\">\n",
       "      <th></th>\n",
       "      <th>market_id</th>\n",
       "      <th>created_at</th>\n",
       "      <th>actual_delivery_time</th>\n",
       "      <th>store_id</th>\n",
       "      <th>store_primary_category</th>\n",
       "      <th>order_protocol</th>\n",
       "      <th>total_items</th>\n",
       "      <th>subtotal</th>\n",
       "      <th>num_distinct_items</th>\n",
       "      <th>min_item_price</th>\n",
       "      <th>max_item_price</th>\n",
       "      <th>total_onshift_dashers</th>\n",
       "      <th>total_busy_dashers</th>\n",
       "      <th>total_outstanding_orders</th>\n",
       "      <th>estimated_order_place_duration</th>\n",
       "      <th>estimated_store_to_consumer_driving_duration</th>\n",
       "      <th>total_delivery_duration_seconds</th>\n",
       "      <th>created_at_weekday</th>\n",
       "      <th>created_at_weekofyear</th>\n",
       "      <th>avg_item_price</th>\n",
       "    </tr>\n",
       "  </thead>\n",
       "  <tbody>\n",
       "    <tr>\n",
       "      <th>0</th>\n",
       "      <td>1.0</td>\n",
       "      <td>2015-02-06 22:24:17</td>\n",
       "      <td>2015-02-06 23:27:16</td>\n",
       "      <td>1845</td>\n",
       "      <td>2870.715556</td>\n",
       "      <td>1.0</td>\n",
       "      <td>4</td>\n",
       "      <td>3441</td>\n",
       "      <td>4</td>\n",
       "      <td>557</td>\n",
       "      <td>1239</td>\n",
       "      <td>33.0</td>\n",
       "      <td>14.0</td>\n",
       "      <td>21.0</td>\n",
       "      <td>446</td>\n",
       "      <td>861.0</td>\n",
       "      <td>3779.0</td>\n",
       "      <td>4</td>\n",
       "      <td>6</td>\n",
       "      <td>860.25</td>\n",
       "    </tr>\n",
       "    <tr>\n",
       "      <th>1</th>\n",
       "      <td>2.0</td>\n",
       "      <td>2015-02-10 21:49:25</td>\n",
       "      <td>2015-02-10 22:56:29</td>\n",
       "      <td>5477</td>\n",
       "      <td>2989.596156</td>\n",
       "      <td>2.0</td>\n",
       "      <td>1</td>\n",
       "      <td>1900</td>\n",
       "      <td>1</td>\n",
       "      <td>1400</td>\n",
       "      <td>1400</td>\n",
       "      <td>1.0</td>\n",
       "      <td>2.0</td>\n",
       "      <td>2.0</td>\n",
       "      <td>446</td>\n",
       "      <td>690.0</td>\n",
       "      <td>4024.0</td>\n",
       "      <td>1</td>\n",
       "      <td>7</td>\n",
       "      <td>1900.00</td>\n",
       "    </tr>\n",
       "    <tr>\n",
       "      <th>2</th>\n",
       "      <td>3.0</td>\n",
       "      <td>2015-01-22 20:39:28</td>\n",
       "      <td>2015-01-22 21:09:09</td>\n",
       "      <td>5477</td>\n",
       "      <td>2989.596156</td>\n",
       "      <td>1.0</td>\n",
       "      <td>1</td>\n",
       "      <td>1900</td>\n",
       "      <td>1</td>\n",
       "      <td>1900</td>\n",
       "      <td>1900</td>\n",
       "      <td>1.0</td>\n",
       "      <td>0.0</td>\n",
       "      <td>0.0</td>\n",
       "      <td>446</td>\n",
       "      <td>690.0</td>\n",
       "      <td>1781.0</td>\n",
       "      <td>3</td>\n",
       "      <td>4</td>\n",
       "      <td>1900.00</td>\n",
       "    </tr>\n",
       "    <tr>\n",
       "      <th>3</th>\n",
       "      <td>3.0</td>\n",
       "      <td>2015-02-03 21:21:45</td>\n",
       "      <td>2015-02-03 22:13:00</td>\n",
       "      <td>5477</td>\n",
       "      <td>2989.596156</td>\n",
       "      <td>1.0</td>\n",
       "      <td>6</td>\n",
       "      <td>6900</td>\n",
       "      <td>5</td>\n",
       "      <td>600</td>\n",
       "      <td>1800</td>\n",
       "      <td>1.0</td>\n",
       "      <td>1.0</td>\n",
       "      <td>2.0</td>\n",
       "      <td>446</td>\n",
       "      <td>289.0</td>\n",
       "      <td>3075.0</td>\n",
       "      <td>1</td>\n",
       "      <td>6</td>\n",
       "      <td>1150.00</td>\n",
       "    </tr>\n",
       "    <tr>\n",
       "      <th>4</th>\n",
       "      <td>3.0</td>\n",
       "      <td>2015-02-15 02:40:36</td>\n",
       "      <td>2015-02-15 03:20:26</td>\n",
       "      <td>5477</td>\n",
       "      <td>2989.596156</td>\n",
       "      <td>1.0</td>\n",
       "      <td>3</td>\n",
       "      <td>3900</td>\n",
       "      <td>3</td>\n",
       "      <td>1100</td>\n",
       "      <td>1600</td>\n",
       "      <td>6.0</td>\n",
       "      <td>6.0</td>\n",
       "      <td>9.0</td>\n",
       "      <td>446</td>\n",
       "      <td>650.0</td>\n",
       "      <td>2390.0</td>\n",
       "      <td>6</td>\n",
       "      <td>7</td>\n",
       "      <td>1300.00</td>\n",
       "    </tr>\n",
       "  </tbody>\n",
       "</table>\n",
       "</div>"
      ],
      "text/plain": [
       "   market_id           created_at actual_delivery_time  store_id  \\\n",
       "0        1.0  2015-02-06 22:24:17  2015-02-06 23:27:16      1845   \n",
       "1        2.0  2015-02-10 21:49:25  2015-02-10 22:56:29      5477   \n",
       "2        3.0  2015-01-22 20:39:28  2015-01-22 21:09:09      5477   \n",
       "3        3.0  2015-02-03 21:21:45  2015-02-03 22:13:00      5477   \n",
       "4        3.0  2015-02-15 02:40:36  2015-02-15 03:20:26      5477   \n",
       "\n",
       "   store_primary_category  order_protocol  total_items  subtotal  \\\n",
       "0             2870.715556             1.0            4      3441   \n",
       "1             2989.596156             2.0            1      1900   \n",
       "2             2989.596156             1.0            1      1900   \n",
       "3             2989.596156             1.0            6      6900   \n",
       "4             2989.596156             1.0            3      3900   \n",
       "\n",
       "   num_distinct_items  min_item_price  max_item_price  total_onshift_dashers  \\\n",
       "0                   4             557            1239                   33.0   \n",
       "1                   1            1400            1400                    1.0   \n",
       "2                   1            1900            1900                    1.0   \n",
       "3                   5             600            1800                    1.0   \n",
       "4                   3            1100            1600                    6.0   \n",
       "\n",
       "   total_busy_dashers  total_outstanding_orders  \\\n",
       "0                14.0                      21.0   \n",
       "1                 2.0                       2.0   \n",
       "2                 0.0                       0.0   \n",
       "3                 1.0                       2.0   \n",
       "4                 6.0                       9.0   \n",
       "\n",
       "   estimated_order_place_duration  \\\n",
       "0                             446   \n",
       "1                             446   \n",
       "2                             446   \n",
       "3                             446   \n",
       "4                             446   \n",
       "\n",
       "   estimated_store_to_consumer_driving_duration  \\\n",
       "0                                         861.0   \n",
       "1                                         690.0   \n",
       "2                                         690.0   \n",
       "3                                         289.0   \n",
       "4                                         650.0   \n",
       "\n",
       "   total_delivery_duration_seconds  created_at_weekday  created_at_weekofyear  \\\n",
       "0                           3779.0                   4                      6   \n",
       "1                           4024.0                   1                      7   \n",
       "2                           1781.0                   3                      4   \n",
       "3                           3075.0                   1                      6   \n",
       "4                           2390.0                   6                      7   \n",
       "\n",
       "   avg_item_price  \n",
       "0          860.25  \n",
       "1         1900.00  \n",
       "2         1900.00  \n",
       "3         1150.00  \n",
       "4         1300.00  "
      ]
     },
     "execution_count": 2,
     "metadata": {},
     "output_type": "execute_result"
    }
   ],
   "source": [
    "# Load Cleaned Data\n",
    "df = pd.read_csv(data_path/ 'cleaned_historical_data.csv')\n",
    "df.head()"
   ]
  },
  {
   "cell_type": "markdown",
   "metadata": {},
   "source": [
    "### Full model"
   ]
  },
  {
   "cell_type": "code",
   "execution_count": 3,
   "metadata": {},
   "outputs": [
    {
     "name": "stdout",
     "output_type": "stream",
     "text": [
      "X_train shape: (138194, 15)\n",
      "X_test shape: (59227, 15)\n",
      "y_train shape: (138194,)\n",
      "y_test shape: (59227,)\n"
     ]
    }
   ],
   "source": [
    "# Split the data into features and target variable\n",
    "X = df.drop(columns=['total_delivery_duration_seconds', 'created_at', 'actual_delivery_time', 'market_id', 'store_id'])\n",
    "y = df['total_delivery_duration_seconds']\n",
    "\n",
    "# Split the data into training and testing sets\n",
    "X_train, X_test, y_train, y_test = train_test_split(X, y, test_size=0.3, random_state=42)\n",
    "\n",
    "# Display the shapes of the training and testing sets\n",
    "print(f\"X_train shape: {X_train.shape}\")\n",
    "print(f\"X_test shape: {X_test.shape}\")\n",
    "print(f\"y_train shape: {y_train.shape}\")\n",
    "print(f\"y_test shape: {y_test.shape}\")"
   ]
  },
  {
   "cell_type": "markdown",
   "metadata": {},
   "source": [
    "### Linear Regression"
   ]
  },
  {
   "cell_type": "code",
   "execution_count": null,
   "metadata": {},
   "outputs": [],
   "source": [
    "# Create a pipeline that scales the features and then applies Linear regression\n",
    "linear_pipeline = make_pipeline(StandardScaler(), LinearRegression())\n",
    "\n",
    "# Define the parameter grid for GridSearchCV (no parameters to tune for Linear Regression)\n",
    "param_grid_linear = {\n",
    "    'linearregression__fit_intercept': [True, False]\n",
    "}\n",
    "\n",
    "# Initialize GridSearchCV with the Linear pipeline and parameter grid\n",
    "grid_search_linear = GridSearchCV(linear_pipeline, param_grid_linear, cv=3, scoring='neg_mean_squared_error')\n",
    "\n",
    "# Fit the model on the training data\n",
    "grid_search_linear.fit(X_train, y_train)\n",
    "\n",
    "# Get the best model (no parameters to tune for Linear Regression)\n",
    "best_linear_model = grid_search_linear.best_estimator_\n",
    "\n",
    "# Save the Linear Regression model\n",
    "with open(data_path / 'linear_regression_model.pkl', 'wb') as file:\n",
    "    pickle.dump(best_linear_model, file)\n"
   ]
  },
  {
   "cell_type": "code",
   "execution_count": null,
   "metadata": {},
   "outputs": [
    {
     "name": "stdout",
     "output_type": "stream",
     "text": [
      "Linear Regression - Root Mean Squared Error (RMSE): 2772.01944429843\n",
      "Linear Regression - R^2 Score: -1.073800449804366\n"
     ]
    }
   ],
   "source": [
    "# Predict on the test data\n",
    "y_pred_ridge = best_linear_model.predict(X_test)\n",
    "\n",
    "# Calculate the RMSE and R^2 score\n",
    "rmse_ridge = np.sqrt(mean_squared_error(y_test, y_pred_ridge))\n",
    "r2_ridge = r2_score(y_test, y_pred_ridge)\n",
    "\n",
    "print(f\"Linear Regression - Root Mean Squared Error (RMSE): {rmse_ridge}\")\n",
    "print(f\"Linear Regression - R^2 Score: {r2_ridge}\")"
   ]
  },
  {
   "cell_type": "markdown",
   "metadata": {},
   "source": [
    "### Polynomial Regression"
   ]
  },
  {
   "cell_type": "code",
   "execution_count": null,
   "metadata": {},
   "outputs": [],
   "source": [
    "# Define the degree of the polynomial features\n",
    "degrees = [2, 3, 4]\n",
    "\n",
    "# Create a pipeline that first transforms the features to polynomial features, scales them, and then applies Ridge regression\n",
    "pipeline = make_pipeline(PolynomialFeatures(), StandardScaler(), Ridge())\n",
    "\n",
    "# Use Grid Search to find the optimal degree and regularization strength\n",
    "param_grid = {\n",
    "    'polynomialfeatures__degree': degrees,\n",
    "    'ridge__alpha': [0.1, 1.0, 10.0]\n",
    "}\n",
    "grid_search = GridSearchCV(pipeline, param_grid, cv=3, scoring='neg_mean_squared_error')\n",
    "\n",
    "# Fit the model on the training data\n",
    "grid_search.fit(X_train, y_train)\n",
    "\n",
    "# Get the best parameters and model\n",
    "best_params = grid_search.best_params_\n",
    "best_model = grid_search.best_estimator_\n",
    "\n",
    "\n",
    "# save the model\n",
    "with open(data_path / 'polynomial_regression_model.pkl', 'wb') as file:\n",
    "    pickle.dump(best_model, file)\n"
   ]
  },
  {
   "cell_type": "code",
   "execution_count": null,
   "metadata": {},
   "outputs": [
    {
     "name": "stdout",
     "output_type": "stream",
     "text": [
      "Optimal Degree: 3\n",
      "Optimal Alpha: 0.1\n",
      "Polynomial Regression - Root Mean Squared Error (RMSE): 1836.7215226271348\n",
      "Polynomial Regression - R^2 Score: 0.08953962361224188\n"
     ]
    }
   ],
   "source": [
    "# Predict on the test data\n",
    "y_pred_poly = best_model.predict(X_test)\n",
    "\n",
    "# Calculate the RMSE and R^2 score\n",
    "rmse_poly = np.sqrt(mean_squared_error(y_test, y_pred_poly))\n",
    "r2_poly = r2_score(y_test, y_pred_poly)\n",
    "\n",
    "print(f\"Optimal Degree: {best_params['polynomialfeatures__degree']}\")\n",
    "print(f\"Optimal Alpha: {best_params['ridge__alpha']}\")\n",
    "print(f\"Polynomial Regression - Root Mean Squared Error (RMSE): {rmse_poly}\")\n",
    "print(f\"Polynomial Regression - R^2 Score: {r2_poly}\")"
   ]
  },
  {
   "cell_type": "markdown",
   "metadata": {},
   "source": [
    "### Random Forest Regressor"
   ]
  },
  {
   "cell_type": "code",
   "execution_count": null,
   "metadata": {},
   "outputs": [],
   "source": [
    "# Define the parameter grid for RandomizedSearchCV\n",
    "param_distributions_rf = {\n",
    "    'n_estimators': [100, 200],\n",
    "    'max_depth': [None, 10, 20],\n",
    "    'min_samples_split': [2, 5],\n",
    "    'min_samples_leaf': [1, 2],\n",
    "    'bootstrap': [True, False]\n",
    "}\n",
    "\n",
    "# Initialize RandomizedSearchCV with the Random Forest Regressor and parameter distributions\n",
    "random_search_rf = RandomizedSearchCV(RandomForestRegressor(random_state=42), param_distributions_rf, n_iter=10, cv=3, scoring='neg_mean_squared_error', n_jobs=-1, random_state=42)\n",
    "\n",
    "# Fit the model on the training data\n",
    "random_search_rf.fit(X_train, y_train)\n",
    "\n",
    "# Get the best parameters and model\n",
    "best_params_rf = random_search_rf.best_params_\n",
    "best_rf_model = random_search_rf.best_estimator_\n",
    "\n",
    "# Save the best Random Forest model\n",
    "with open(data_path / 'best_random_forest_regression_model.pkl', 'wb') as file:\n",
    "    pickle.dump(best_rf_model, file)"
   ]
  },
  {
   "cell_type": "code",
   "execution_count": null,
   "metadata": {},
   "outputs": [],
   "source": [
    "# Predict on the test data\n",
    "y_pred_best_rf = best_rf_model.predict(X_test)\n",
    "\n",
    "# Calculate the RMSE and R^2 score\n",
    "rmse_best_rf = np.sqrt(mean_squared_error(y_test, y_pred_best_rf))\n",
    "r2_best_rf = r2_score(y_test, y_pred_best_rf)\n",
    "\n",
    "print(f\"Best Parameters for Random Forest: {best_params_rf}\")\n",
    "print(f\"Best Random Forest Regression - Root Mean Squared Error (RMSE): {rmse_best_rf}\")\n",
    "print(f\"Best Random Forest Regression - R^2 Score: {r2_best_rf}\")"
   ]
  },
  {
   "cell_type": "markdown",
   "metadata": {},
   "source": [
    "### Lasso Model"
   ]
  },
  {
   "cell_type": "code",
   "execution_count": null,
   "metadata": {},
   "outputs": [],
   "source": [
    "# Create a pipeline that scales the features and then applies Lasso regression\n",
    "lasso_pipeline = make_pipeline(StandardScaler(), Lasso())\n",
    "\n",
    "# Define the parameter grid for GridSearchCV\n",
    "param_grid_lasso = {\n",
    "    'lasso__alpha': [0.01, 0.1, 1.0, 10.0, 100.0],\n",
    "    'lasso__fit_intercept': [True, False]\n",
    "}\n",
    "\n",
    "# Initialize GridSearchCV with the Lasso pipeline and parameter grid\n",
    "grid_search_lasso = GridSearchCV(lasso_pipeline, param_grid_lasso, cv=5, scoring='neg_mean_squared_error')\n",
    "\n",
    "# Fit the model on the training data\n",
    "grid_search_lasso.fit(X_train, y_train)\n",
    "\n",
    "# Get the best model\n",
    "best_lasso_model = grid_search_lasso.best_estimator_\n",
    "\n",
    "# Save the Lasso Regression model\n",
    "with open(data_path / 'lasso_regression_model.pkl', 'wb') as file:\n",
    "    pickle.dump(best_lasso_model, file)\n"
   ]
  },
  {
   "cell_type": "code",
   "execution_count": null,
   "metadata": {},
   "outputs": [],
   "source": [
    "# Predict on the test data\n",
    "y_pred_lasso = best_lasso_model.predict(X_test)\n",
    "\n",
    "# Calculate the RMSE and R^2 score\n",
    "rmse_lasso = np.sqrt(mean_squared_error(y_test, y_pred_lasso))\n",
    "r2_lasso = r2_score(y_test, y_pred_lasso)\n",
    "\n",
    "print(f\"Lasso Regression - Root Mean Squared Error (RMSE): {rmse_lasso}\")\n",
    "print(f\"Lasso Regression - R^2 Score: {r2_lasso}\")"
   ]
  },
  {
   "cell_type": "markdown",
   "metadata": {},
   "source": [
    "### XGB Regressor"
   ]
  },
  {
   "cell_type": "code",
   "execution_count": null,
   "metadata": {},
   "outputs": [
    {
     "name": "stderr",
     "output_type": "stream",
     "text": [
      "[I 2025-02-26 14:02:22,196] A new study created in memory with name: no-name-ad933345-5d08-4fb7-a960-68cff1b75d16\n",
      "[I 2025-02-26 14:02:23,312] Trial 0 finished with value: -591208526.1887883 and parameters: {'n_estimators': 104, 'max_depth': None, 'min_child_weight': 3, 'learning_rate': 0.14727716388615508, 'subsample': 0.5254543181500955, 'colsample_bytree': 0.791504288258539, 'gamma': 0.02960167041283239, 'reg_alpha': 0.00041679073996239095, 'reg_lambda': 2.990481913149571e-07, 'bootstrap': True}. Best is trial 0 with value: -591208526.1887883.\n",
      "[I 2025-02-26 14:02:26,173] Trial 1 finished with value: -580028861.4314241 and parameters: {'n_estimators': 121, 'max_depth': 10, 'min_child_weight': 2, 'learning_rate': 0.09860155739655935, 'subsample': 0.8065382840951401, 'colsample_bytree': 0.6539416655209773, 'gamma': 0.8418851935377869, 'reg_alpha': 0.5433867691368162, 'reg_lambda': 5.908214243494761e-08, 'bootstrap': True}. Best is trial 1 with value: -580028861.4314241.\n",
      "[I 2025-02-26 14:03:39,401] Trial 2 finished with value: -541618327.2604357 and parameters: {'n_estimators': 123, 'max_depth': 20, 'min_child_weight': 1, 'learning_rate': 0.05814069220165182, 'subsample': 0.6520167495921713, 'colsample_bytree': 0.502197899931643, 'gamma': 0.00025111351043068233, 'reg_alpha': 0.09713861151805327, 'reg_lambda': 0.009889378957458058, 'bootstrap': False}. Best is trial 2 with value: -541618327.2604357.\n",
      "[I 2025-02-26 14:03:40,778] Trial 3 finished with value: -527181412.42788684 and parameters: {'n_estimators': 168, 'max_depth': None, 'min_child_weight': 1, 'learning_rate': 0.03683182537053295, 'subsample': 0.6170081733991548, 'colsample_bytree': 0.816999556156543, 'gamma': 0.0005459122876104085, 'reg_alpha': 0.3792298709908979, 'reg_lambda': 1.0638745537346471e-06, 'bootstrap': False}. Best is trial 3 with value: -527181412.42788684.\n",
      "[I 2025-02-26 14:03:41,864] Trial 4 finished with value: -591285957.9776335 and parameters: {'n_estimators': 139, 'max_depth': None, 'min_child_weight': 5, 'learning_rate': 0.20771653996763628, 'subsample': 0.9115407850848946, 'colsample_bytree': 0.5243327142524798, 'gamma': 0.3477259441519056, 'reg_alpha': 0.0003134475569037517, 'reg_lambda': 0.00024976102685587645, 'bootstrap': False}. Best is trial 3 with value: -527181412.42788684.\n",
      "[I 2025-02-26 14:04:07,150] Trial 5 finished with value: -573635876.127329 and parameters: {'n_estimators': 150, 'max_depth': 20, 'min_child_weight': 4, 'learning_rate': 0.08996046346817486, 'subsample': 0.9477283835458304, 'colsample_bytree': 0.8377953736376509, 'gamma': 3.11610334572988e-05, 'reg_alpha': 0.001091960805781102, 'reg_lambda': 1.0034116451367451e-07, 'bootstrap': True}. Best is trial 3 with value: -527181412.42788684.\n",
      "[I 2025-02-26 14:04:08,409] Trial 6 finished with value: -625646606.3328247 and parameters: {'n_estimators': 143, 'max_depth': None, 'min_child_weight': 3, 'learning_rate': 0.1684625687661509, 'subsample': 0.5950525417044755, 'colsample_bytree': 0.9145387615791876, 'gamma': 0.1492717844764245, 'reg_alpha': 0.059050013778488744, 'reg_lambda': 0.19524131584503115, 'bootstrap': False}. Best is trial 3 with value: -527181412.42788684.\n",
      "[I 2025-02-26 14:04:37,714] Trial 7 finished with value: -566990606.0474263 and parameters: {'n_estimators': 168, 'max_depth': 20, 'min_child_weight': 4, 'learning_rate': 0.04416919614102653, 'subsample': 0.7497132590488836, 'colsample_bytree': 0.521109992699874, 'gamma': 4.2336148842974825e-07, 'reg_alpha': 0.04610209526788742, 'reg_lambda': 9.494017159857727e-06, 'bootstrap': False}. Best is trial 3 with value: -527181412.42788684.\n",
      "[I 2025-02-26 14:04:38,704] Trial 8 finished with value: -546080084.9252645 and parameters: {'n_estimators': 115, 'max_depth': None, 'min_child_weight': 4, 'learning_rate': 0.021995688153401246, 'subsample': 0.6685855755480977, 'colsample_bytree': 0.828875999553002, 'gamma': 0.0036206973549120364, 'reg_alpha': 0.16846384954043334, 'reg_lambda': 6.296063668220093e-05, 'bootstrap': True}. Best is trial 3 with value: -527181412.42788684.\n",
      "[I 2025-02-26 14:04:40,098] Trial 9 finished with value: -589479735.5807376 and parameters: {'n_estimators': 184, 'max_depth': None, 'min_child_weight': 5, 'learning_rate': 0.19200759683350788, 'subsample': 0.6034001080364548, 'colsample_bytree': 0.9232576441523581, 'gamma': 0.019413052247198158, 'reg_alpha': 0.0498547993843574, 'reg_lambda': 4.1105105943642224e-06, 'bootstrap': False}. Best is trial 3 with value: -527181412.42788684.\n",
      "[I 2025-02-26 14:04:45,178] Trial 10 finished with value: -527534147.33974206 and parameters: {'n_estimators': 198, 'max_depth': 10, 'min_child_weight': 1, 'learning_rate': 0.010601292396388802, 'subsample': 0.7638010111518428, 'colsample_bytree': 0.6981037665127198, 'gamma': 5.3239968053164495e-08, 'reg_alpha': 5.153466387119039e-08, 'reg_lambda': 0.0006364100997517282, 'bootstrap': False}. Best is trial 3 with value: -527181412.42788684.\n",
      "[I 2025-02-26 14:04:50,288] Trial 11 finished with value: -527627374.2478292 and parameters: {'n_estimators': 199, 'max_depth': 10, 'min_child_weight': 1, 'learning_rate': 0.011061365289582438, 'subsample': 0.7946653441573421, 'colsample_bytree': 0.6876986453264551, 'gamma': 1.2368885048968217e-08, 'reg_alpha': 5.526689774970667e-08, 'reg_lambda': 0.0017910637240934602, 'bootstrap': False}. Best is trial 3 with value: -527181412.42788684.\n",
      "[I 2025-02-26 14:04:54,591] Trial 12 finished with value: -538899040.3300966 and parameters: {'n_estimators': 171, 'max_depth': 10, 'min_child_weight': 2, 'learning_rate': 0.010525099392334938, 'subsample': 0.7215079393906233, 'colsample_bytree': 0.7037530378114442, 'gamma': 1.498950541045119e-06, 'reg_alpha': 4.256914685384519e-08, 'reg_lambda': 5.177596589648776e-06, 'bootstrap': False}. Best is trial 3 with value: -527181412.42788684.\n",
      "[I 2025-02-26 14:04:59,419] Trial 13 finished with value: -531572985.98183066 and parameters: {'n_estimators': 199, 'max_depth': 10, 'min_child_weight': 1, 'learning_rate': 0.024735224586827594, 'subsample': 0.8566851895272973, 'colsample_bytree': 0.606037246029266, 'gamma': 0.0002393319612426314, 'reg_alpha': 1.341299081241784e-06, 'reg_lambda': 0.025034432935121906, 'bootstrap': False}. Best is trial 3 with value: -527181412.42788684.\n",
      "[I 2025-02-26 14:05:03,136] Trial 14 finished with value: -556270116.4783124 and parameters: {'n_estimators': 170, 'max_depth': 10, 'min_child_weight': 2, 'learning_rate': 0.02216780866907524, 'subsample': 0.5180894818871012, 'colsample_bytree': 0.7553542044609498, 'gamma': 1.0494370469844334e-05, 'reg_alpha': 1.7921232641356815e-05, 'reg_lambda': 1.2455589105377502e-08, 'bootstrap': False}. Best is trial 3 with value: -527181412.42788684.\n",
      "[I 2025-02-26 14:05:04,656] Trial 15 finished with value: -526522643.7960961 and parameters: {'n_estimators': 184, 'max_depth': None, 'min_child_weight': 1, 'learning_rate': 0.03626858405697432, 'subsample': 0.6842271783022216, 'colsample_bytree': 0.9791924182403957, 'gamma': 3.910011502698475e-08, 'reg_alpha': 2.0220210815883584e-06, 'reg_lambda': 0.0001901460996622648, 'bootstrap': False}. Best is trial 15 with value: -526522643.7960961.\n",
      "[I 2025-02-26 14:05:06,196] Trial 16 finished with value: -576068441.0464565 and parameters: {'n_estimators': 182, 'max_depth': None, 'min_child_weight': 2, 'learning_rate': 0.03619617311051654, 'subsample': 0.680470563882161, 'colsample_bytree': 0.9810441724657625, 'gamma': 0.0016667134518769558, 'reg_alpha': 6.464323475024538e-06, 'reg_lambda': 9.018028475909705e-07, 'bootstrap': False}. Best is trial 15 with value: -526522643.7960961.\n",
      "[I 2025-02-26 14:05:07,504] Trial 17 finished with value: -527826072.2911644 and parameters: {'n_estimators': 155, 'max_depth': None, 'min_child_weight': 1, 'learning_rate': 0.06352656217705362, 'subsample': 0.5906665855898698, 'colsample_bytree': 0.8972705285695429, 'gamma': 1.152023464413708e-06, 'reg_alpha': 0.004579097737650599, 'reg_lambda': 4.160264868532545e-05, 'bootstrap': False}. Best is trial 15 with value: -526522643.7960961.\n",
      "[I 2025-02-26 14:05:09,015] Trial 18 finished with value: -563138809.3047014 and parameters: {'n_estimators': 181, 'max_depth': None, 'min_child_weight': 3, 'learning_rate': 0.03271102075295274, 'subsample': 0.6347771020876077, 'colsample_bytree': 0.9843228315946996, 'gamma': 7.133362325866955e-06, 'reg_alpha': 8.470076519307683e-07, 'reg_lambda': 9.86340877640797e-07, 'bootstrap': True}. Best is trial 15 with value: -526522643.7960961.\n",
      "[I 2025-02-26 14:05:10,388] Trial 19 finished with value: -546217842.2783071 and parameters: {'n_estimators': 157, 'max_depth': None, 'min_child_weight': 2, 'learning_rate': 0.01617781923631951, 'subsample': 0.5546294901063683, 'colsample_bytree': 0.8520051420480306, 'gamma': 0.0018784973892444128, 'reg_alpha': 3.2886440834910314e-05, 'reg_lambda': 0.8130436168085723, 'bootstrap': False}. Best is trial 15 with value: -526522643.7960961.\n",
      "[I 2025-02-26 14:05:11,956] Trial 20 finished with value: -542605955.3839204 and parameters: {'n_estimators': 189, 'max_depth': None, 'min_child_weight': 1, 'learning_rate': 0.08932407854910766, 'subsample': 0.7029466116100103, 'colsample_bytree': 0.7625434348186563, 'gamma': 1.794589446313308e-07, 'reg_alpha': 0.005915916246251945, 'reg_lambda': 0.0024358373695549124, 'bootstrap': False}. Best is trial 15 with value: -526522643.7960961.\n",
      "[I 2025-02-26 14:05:16,987] Trial 21 finished with value: -530018481.567162 and parameters: {'n_estimators': 193, 'max_depth': 10, 'min_child_weight': 1, 'learning_rate': 0.016127593626280225, 'subsample': 0.7756242840726434, 'colsample_bytree': 0.6035700585267769, 'gamma': 2.3195790000709014e-08, 'reg_alpha': 2.662640630812779e-07, 'reg_lambda': 0.0003614384684575616, 'bootstrap': False}. Best is trial 15 with value: -526522643.7960961.\n",
      "[I 2025-02-26 14:05:21,596] Trial 22 finished with value: -527478204.71441364 and parameters: {'n_estimators': 172, 'max_depth': 10, 'min_child_weight': 1, 'learning_rate': 0.03031615218050257, 'subsample': 0.855758455449117, 'colsample_bytree': 0.7123156174812426, 'gamma': 1.2252321630446304e-07, 'reg_alpha': 1.913594722086746e-07, 'reg_lambda': 0.0016405628962960473, 'bootstrap': False}. Best is trial 15 with value: -526522643.7960961.\n",
      "[I 2025-02-26 14:06:21,016] Trial 23 finished with value: -563875117.0636649 and parameters: {'n_estimators': 162, 'max_depth': 20, 'min_child_weight': 2, 'learning_rate': 0.0410702946568422, 'subsample': 0.8858732628001167, 'colsample_bytree': 0.7931069029464508, 'gamma': 9.12283115794767e-08, 'reg_alpha': 2.6612290999596826e-06, 'reg_lambda': 1.839376145574975e-05, 'bootstrap': False}. Best is trial 15 with value: -526522643.7960961.\n",
      "[I 2025-02-26 14:06:22,582] Trial 24 finished with value: -526613124.6898094 and parameters: {'n_estimators': 175, 'max_depth': None, 'min_child_weight': 1, 'learning_rate': 0.29112241746998013, 'subsample': 0.9712450618424872, 'colsample_bytree': 0.8674724201772809, 'gamma': 6.7971795473521e-05, 'reg_alpha': 2.9416523508703144e-07, 'reg_lambda': 0.034664140658058784, 'bootstrap': False}. Best is trial 15 with value: -526522643.7960961.\n",
      "[I 2025-02-26 14:06:24,135] Trial 25 finished with value: -581968016.2431477 and parameters: {'n_estimators': 177, 'max_depth': None, 'min_child_weight': 2, 'learning_rate': 0.13178418881875292, 'subsample': 0.9796584492777993, 'colsample_bytree': 0.9484086317693141, 'gamma': 6.26388466643255e-05, 'reg_alpha': 6.592993440191405e-05, 'reg_lambda': 0.036327260971503225, 'bootstrap': False}. Best is trial 15 with value: -526522643.7960961.\n",
      "[I 2025-02-26 14:06:25,603] Trial 26 finished with value: -526946626.74169105 and parameters: {'n_estimators': 163, 'max_depth': None, 'min_child_weight': 1, 'learning_rate': 0.05010554338438213, 'subsample': 0.7274127982516634, 'colsample_bytree': 0.8744535183329636, 'gamma': 0.0005180241355317643, 'reg_alpha': 1.733570335015749e-08, 'reg_lambda': 0.11389765429457391, 'bootstrap': True}. Best is trial 15 with value: -526522643.7960961.\n",
      "[I 2025-02-26 14:06:26,825] Trial 27 finished with value: -635578101.6536212 and parameters: {'n_estimators': 134, 'max_depth': None, 'min_child_weight': 2, 'learning_rate': 0.26962035374066096, 'subsample': 0.7203224326618466, 'colsample_bytree': 0.8623630398399396, 'gamma': 7.835252803439271e-06, 'reg_alpha': 1.1862669759940107e-08, 'reg_lambda': 0.20975854831814184, 'bootstrap': True}. Best is trial 15 with value: -526522643.7960961.\n",
      "[I 2025-02-26 14:06:28,285] Trial 28 finished with value: -529144448.94758105 and parameters: {'n_estimators': 159, 'max_depth': None, 'min_child_weight': 1, 'learning_rate': 0.05247079323325136, 'subsample': 0.801717816688839, 'colsample_bytree': 0.892114286235571, 'gamma': 0.012505142240625029, 'reg_alpha': 1.0129243465509392e-08, 'reg_lambda': 0.12757511644355823, 'bootstrap': True}. Best is trial 15 with value: -526522643.7960961.\n",
      "[I 2025-02-26 14:06:29,952] Trial 29 finished with value: -593981324.6540135 and parameters: {'n_estimators': 189, 'max_depth': None, 'min_child_weight': 3, 'learning_rate': 0.07426355229303677, 'subsample': 0.8462801725221806, 'colsample_bytree': 0.9445548308548768, 'gamma': 0.0942099221581538, 'reg_alpha': 2.38735026908929e-07, 'reg_lambda': 0.008291397374248466, 'bootstrap': True}. Best is trial 15 with value: -526522643.7960961.\n",
      "[I 2025-02-26 14:06:31,520] Trial 30 finished with value: -580870722.684038 and parameters: {'n_estimators': 178, 'max_depth': None, 'min_child_weight': 2, 'learning_rate': 0.1274447429529669, 'subsample': 0.6973446688515947, 'colsample_bytree': 0.883766583976923, 'gamma': 3.665040450186506e-05, 'reg_alpha': 6.127322727765589e-06, 'reg_lambda': 0.9513674375595694, 'bootstrap': True}. Best is trial 15 with value: -526522643.7960961.\n",
      "[I 2025-02-26 14:06:32,984] Trial 31 finished with value: -533379370.364538 and parameters: {'n_estimators': 163, 'max_depth': None, 'min_child_weight': 1, 'learning_rate': 0.046754078154346956, 'subsample': 0.6326814961382635, 'colsample_bytree': 0.7894883372233685, 'gamma': 0.0004231316793448956, 'reg_alpha': 6.136949920732915e-07, 'reg_lambda': 0.0748099622850719, 'bootstrap': True}. Best is trial 15 with value: -526522643.7960961.\n",
      "[I 2025-02-26 14:06:34,475] Trial 32 finished with value: -528725040.7039137 and parameters: {'n_estimators': 166, 'max_depth': None, 'min_child_weight': 1, 'learning_rate': 0.02886470296424458, 'subsample': 0.7494438411672646, 'colsample_bytree': 0.8114850812548557, 'gamma': 0.0006264345362293092, 'reg_alpha': 0.8795583164775921, 'reg_lambda': 0.0146400303860578, 'bootstrap': True}. Best is trial 15 with value: -526522643.7960961.\n",
      "[I 2025-02-26 14:06:35,849] Trial 33 finished with value: -527226450.97599286 and parameters: {'n_estimators': 151, 'max_depth': None, 'min_child_weight': 1, 'learning_rate': 0.07193105741011574, 'subsample': 0.5694780092365117, 'colsample_bytree': 0.9457703012077248, 'gamma': 0.005743121440169751, 'reg_alpha': 7.414806944806118e-08, 'reg_lambda': 0.004764250540928194, 'bootstrap': False}. Best is trial 15 with value: -526522643.7960961.\n",
      "[I 2025-02-26 14:06:37,399] Trial 34 finished with value: -526926208.33201545 and parameters: {'n_estimators': 174, 'max_depth': None, 'min_child_weight': 1, 'learning_rate': 0.053137896074360605, 'subsample': 0.6436111768780889, 'colsample_bytree': 0.8698771113082847, 'gamma': 0.00012517670997090613, 'reg_alpha': 0.00019138490058406558, 'reg_lambda': 0.00014008176253577857, 'bootstrap': True}. Best is trial 15 with value: -526522643.7960961.\n",
      "[I 2025-02-26 14:08:03,905] Trial 35 finished with value: -528466358.6510633 and parameters: {'n_estimators': 175, 'max_depth': 20, 'min_child_weight': 1, 'learning_rate': 0.11172351515053303, 'subsample': 0.6532012763620522, 'colsample_bytree': 0.9963697357353815, 'gamma': 2.1554187257733917e-06, 'reg_alpha': 0.0002007334587662608, 'reg_lambda': 0.00021714710058652235, 'bootstrap': True}. Best is trial 15 with value: -526522643.7960961.\n",
      "[I 2025-02-26 14:08:05,429] Trial 36 finished with value: -582862488.9779043 and parameters: {'n_estimators': 185, 'max_depth': None, 'min_child_weight': 2, 'learning_rate': 0.056501821099717624, 'subsample': 0.7270155466667408, 'colsample_bytree': 0.8775678273221715, 'gamma': 0.000136549109985031, 'reg_alpha': 0.0011956167136807079, 'reg_lambda': 0.0009662745263979197, 'bootstrap': True}. Best is trial 15 with value: -526522643.7960961.\n",
      "[I 2025-02-26 14:08:06,587] Trial 37 finished with value: -526334860.2821234 and parameters: {'n_estimators': 142, 'max_depth': None, 'min_child_weight': 1, 'learning_rate': 0.07281566673067774, 'subsample': 0.9233261950943517, 'colsample_bytree': 0.965465373836093, 'gamma': 1.6535601314912156e-05, 'reg_alpha': 1.1482965513274518e-05, 'reg_lambda': 0.00021495386743085267, 'bootstrap': True}. Best is trial 37 with value: -526334860.2821234.\n",
      "[I 2025-02-26 14:08:07,612] Trial 38 finished with value: -586705744.9830396 and parameters: {'n_estimators': 130, 'max_depth': None, 'min_child_weight': 3, 'learning_rate': 0.23186804754822132, 'subsample': 0.9998908148094224, 'colsample_bytree': 0.9668054390261346, 'gamma': 1.4029912738933504e-05, 'reg_alpha': 1.189938841723777e-05, 'reg_lambda': 7.735485675331744e-05, 'bootstrap': True}. Best is trial 37 with value: -526334860.2821234.\n",
      "[I 2025-02-26 14:10:12,372] Trial 39 finished with value: -526861233.87786955 and parameters: {'n_estimators': 142, 'max_depth': 20, 'min_child_weight': 1, 'learning_rate': 0.07461400784346904, 'subsample': 0.9357028394643628, 'colsample_bytree': 0.9246532232980342, 'gamma': 4.369268276807038e-07, 'reg_alpha': 2.4596996012458298e-06, 'reg_lambda': 0.0001525816340343383, 'bootstrap': True}. Best is trial 37 with value: -526334860.2821234.\n",
      "[I 2025-02-26 14:11:52,929] Trial 40 finished with value: -526738176.0823195 and parameters: {'n_estimators': 144, 'max_depth': 20, 'min_child_weight': 1, 'learning_rate': 0.1593912325088721, 'subsample': 0.9331652861800599, 'colsample_bytree': 0.9143361319217118, 'gamma': 3.6263766693977765e-06, 'reg_alpha': 2.0003150041554538e-06, 'reg_lambda': 2.5416764694447577e-05, 'bootstrap': True}. Best is trial 37 with value: -526334860.2821234.\n",
      "[I 2025-02-26 14:13:36,974] Trial 41 finished with value: -526531160.4419773 and parameters: {'n_estimators': 144, 'max_depth': 20, 'min_child_weight': 1, 'learning_rate': 0.16432020194594477, 'subsample': 0.9452538646664383, 'colsample_bytree': 0.9134881056175346, 'gamma': 3.970899577188511e-06, 'reg_alpha': 2.604789965717408e-06, 'reg_lambda': 1.7029600356279358e-05, 'bootstrap': True}. Best is trial 37 with value: -526334860.2821234.\n"
     ]
    }
   ],
   "source": [
    "# Define the objective function for Optuna\n",
    "def objective(trial):\n",
    "    param = {\n",
    "        'n_estimators': trial.suggest_int('n_estimators', 100, 200),\n",
    "        'max_depth': trial.suggest_categorical('max_depth', [None, 10, 20]),\n",
    "        'min_child_weight': trial.suggest_int('min_child_weight', 1, 5),\n",
    "        'learning_rate': trial.suggest_loguniform('learning_rate', 0.01, 0.3),\n",
    "        'subsample': trial.suggest_uniform('subsample', 0.5, 1.0),\n",
    "        'colsample_bytree': trial.suggest_uniform('colsample_bytree', 0.5, 1.0),\n",
    "        'gamma': trial.suggest_loguniform('gamma', 1e-8, 1.0),\n",
    "        'reg_alpha': trial.suggest_loguniform('reg_alpha', 1e-8, 1.0),\n",
    "        'reg_lambda': trial.suggest_loguniform('reg_lambda', 1e-8, 1.0),\n",
    "        'bootstrap': trial.suggest_categorical('bootstrap', [True, False])\n",
    "    }\n",
    "    \n",
    "    model = XGBRegressor(**param, random_state=42)\n",
    "    score = cross_val_score(model, X_train, y_train, scoring='neg_mean_squared_error', cv=2).mean() \n",
    "    return score\n",
    "\n",
    "# Create a study object and optimize the objective function\n",
    "study = optuna.create_study(direction='maximize', sampler=TPESampler())\n",
    "study.optimize(objective, n_trials=50)  # Reduced number of trials to 50\n",
    "\n",
    "# Get the best hyperparameters\n",
    "best_params = study.best_params\n",
    "\n",
    "# Initialize the XGB Regressor model with the best hyperparameters\n",
    "xgb_model = XGBRegressor(**best_params, random_state=42)\n",
    "\n",
    "# Fit the model on the training data\n",
    "xgb_model.fit(X_train, y_train)\n",
    "\n",
    "# Save the XGB Regressor model\n",
    "with open(data_path / 'xgb_regression_model_optuna.pkl', 'wb') as file:\n",
    "    pickle.dump(xgb_model, file)"
   ]
  },
  {
   "cell_type": "code",
   "execution_count": 5,
   "metadata": {},
   "outputs": [
    {
     "name": "stdout",
     "output_type": "stream",
     "text": [
      "XGB Regressor with Optuna - Root Mean Squared Error (RMSE): 3465.5865504148214\n",
      "XGB Regressor with Optuna - R^2 Score: -2.241364853648241\n"
     ]
    }
   ],
   "source": [
    "# Predict on the test data\n",
    "y_pred_xgb = xgb_model.predict(X_test)\n",
    "\n",
    "# Calculate the RMSE and R^2 score\n",
    "rmse_xgb = np.sqrt(mean_squared_error(y_test, y_pred_xgb))\n",
    "r2_xgb = r2_score(y_test, y_pred_xgb)\n",
    "\n",
    "print(f\"XGB Regressor with Optuna - Root Mean Squared Error (RMSE): {rmse_xgb}\")\n",
    "print(f\"XGB Regressor with Optuna - R^2 Score: {r2_xgb}\")"
   ]
  }
 ],
 "metadata": {
  "kernelspec": {
   "display_name": "base",
   "language": "python",
   "name": "python3"
  },
  "language_info": {
   "codemirror_mode": {
    "name": "ipython",
    "version": 3
   },
   "file_extension": ".py",
   "mimetype": "text/x-python",
   "name": "python",
   "nbconvert_exporter": "python",
   "pygments_lexer": "ipython3",
   "version": "3.12.7"
  }
 },
 "nbformat": 4,
 "nbformat_minor": 2
}
