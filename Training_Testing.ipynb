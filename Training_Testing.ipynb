{
 "cells": [
  {
   "cell_type": "code",
   "execution_count": 15,
   "metadata": {},
   "outputs": [],
   "source": [
    "import pandas as pd\n",
    "import numpy as np\n",
    "import matplotlib.pyplot as plt\n",
    "import seaborn as sns\n",
    "\n",
    "from pathlib import Path\n",
    "data_path = Path('./data')\n",
    "\n",
    "from sklearn.linear_model import LinearRegression\n",
    "from sklearn.metrics import mean_squared_error, r2_score\n",
    "from sklearn.model_selection import train_test_split, cross_val_score, GridSearchCV\n",
    "from sklearn.ensemble import RandomForestRegressor\n",
    "\n",
    "\n",
    "\n",
    "from sklearn.preprocessing import PolynomialFeatures, StandardScaler\n",
    "from sklearn.linear_model import LinearRegression, Ridge, Lasso\n",
    "from sklearn.pipeline import make_pipeline\n",
    "\n",
    "import pickle\n",
    "\n",
    "import warnings\n",
    "warnings.filterwarnings(\"ignore\")"
   ]
  },
  {
   "cell_type": "markdown",
   "metadata": {},
   "source": [
    "# Build and Test Regression Models"
   ]
  },
  {
   "cell_type": "code",
   "execution_count": 2,
   "metadata": {},
   "outputs": [
    {
     "data": {
      "application/vnd.microsoft.datawrangler.viewer.v0+json": {
       "columns": [
        {
         "name": "index",
         "rawType": "int64",
         "type": "integer"
        },
        {
         "name": "market_id",
         "rawType": "float64",
         "type": "float"
        },
        {
         "name": "created_at",
         "rawType": "object",
         "type": "string"
        },
        {
         "name": "actual_delivery_time",
         "rawType": "object",
         "type": "string"
        },
        {
         "name": "store_id",
         "rawType": "int64",
         "type": "integer"
        },
        {
         "name": "store_primary_category",
         "rawType": "float64",
         "type": "float"
        },
        {
         "name": "order_protocol",
         "rawType": "float64",
         "type": "float"
        },
        {
         "name": "total_items",
         "rawType": "int64",
         "type": "integer"
        },
        {
         "name": "subtotal",
         "rawType": "int64",
         "type": "integer"
        },
        {
         "name": "num_distinct_items",
         "rawType": "int64",
         "type": "integer"
        },
        {
         "name": "min_item_price",
         "rawType": "int64",
         "type": "integer"
        },
        {
         "name": "max_item_price",
         "rawType": "int64",
         "type": "integer"
        },
        {
         "name": "total_onshift_dashers",
         "rawType": "float64",
         "type": "float"
        },
        {
         "name": "total_busy_dashers",
         "rawType": "float64",
         "type": "float"
        },
        {
         "name": "total_outstanding_orders",
         "rawType": "float64",
         "type": "float"
        },
        {
         "name": "estimated_order_place_duration",
         "rawType": "int64",
         "type": "integer"
        },
        {
         "name": "estimated_store_to_consumer_driving_duration",
         "rawType": "float64",
         "type": "float"
        },
        {
         "name": "total_delivery_duration_seconds",
         "rawType": "float64",
         "type": "float"
        },
        {
         "name": "created_at_weekday",
         "rawType": "int64",
         "type": "integer"
        },
        {
         "name": "created_at_weekofyear",
         "rawType": "int64",
         "type": "integer"
        },
        {
         "name": "avg_item_price",
         "rawType": "float64",
         "type": "float"
        }
       ],
       "conversionMethod": "pd.DataFrame",
       "ref": "fcc5fb8b-6255-4a81-ad8c-0e67e0a02f71",
       "rows": [
        [
         "0",
         "1.0",
         "2015-02-06 22:24:17",
         "2015-02-06 23:27:16",
         "1845",
         "2870.7155555555555",
         "1.0",
         "4",
         "3441",
         "4",
         "557",
         "1239",
         "33.0",
         "14.0",
         "21.0",
         "446",
         "861.0",
         "3779.0",
         "4",
         "6",
         "860.25"
        ],
        [
         "1",
         "2.0",
         "2015-02-10 21:49:25",
         "2015-02-10 22:56:29",
         "5477",
         "2989.596156430587",
         "2.0",
         "1",
         "1900",
         "1",
         "1400",
         "1400",
         "1.0",
         "2.0",
         "2.0",
         "446",
         "690.0",
         "4024.0",
         "1",
         "7",
         "1900.0"
        ],
        [
         "2",
         "3.0",
         "2015-01-22 20:39:28",
         "2015-01-22 21:09:09",
         "5477",
         "2989.596156430587",
         "1.0",
         "1",
         "1900",
         "1",
         "1900",
         "1900",
         "1.0",
         "0.0",
         "0.0",
         "446",
         "690.0",
         "1781.0",
         "3",
         "4",
         "1900.0"
        ],
        [
         "3",
         "3.0",
         "2015-02-03 21:21:45",
         "2015-02-03 22:13:00",
         "5477",
         "2989.596156430587",
         "1.0",
         "6",
         "6900",
         "5",
         "600",
         "1800",
         "1.0",
         "1.0",
         "2.0",
         "446",
         "289.0",
         "3075.0",
         "1",
         "6",
         "1150.0"
        ],
        [
         "4",
         "3.0",
         "2015-02-15 02:40:36",
         "2015-02-15 03:20:26",
         "5477",
         "2989.596156430587",
         "1.0",
         "3",
         "3900",
         "3",
         "1100",
         "1600",
         "6.0",
         "6.0",
         "9.0",
         "446",
         "650.0",
         "2390.0",
         "6",
         "7",
         "1300.0"
        ]
       ],
       "shape": {
        "columns": 20,
        "rows": 5
       }
      },
      "text/html": [
       "<div>\n",
       "<style scoped>\n",
       "    .dataframe tbody tr th:only-of-type {\n",
       "        vertical-align: middle;\n",
       "    }\n",
       "\n",
       "    .dataframe tbody tr th {\n",
       "        vertical-align: top;\n",
       "    }\n",
       "\n",
       "    .dataframe thead th {\n",
       "        text-align: right;\n",
       "    }\n",
       "</style>\n",
       "<table border=\"1\" class=\"dataframe\">\n",
       "  <thead>\n",
       "    <tr style=\"text-align: right;\">\n",
       "      <th></th>\n",
       "      <th>market_id</th>\n",
       "      <th>created_at</th>\n",
       "      <th>actual_delivery_time</th>\n",
       "      <th>store_id</th>\n",
       "      <th>store_primary_category</th>\n",
       "      <th>order_protocol</th>\n",
       "      <th>total_items</th>\n",
       "      <th>subtotal</th>\n",
       "      <th>num_distinct_items</th>\n",
       "      <th>min_item_price</th>\n",
       "      <th>max_item_price</th>\n",
       "      <th>total_onshift_dashers</th>\n",
       "      <th>total_busy_dashers</th>\n",
       "      <th>total_outstanding_orders</th>\n",
       "      <th>estimated_order_place_duration</th>\n",
       "      <th>estimated_store_to_consumer_driving_duration</th>\n",
       "      <th>total_delivery_duration_seconds</th>\n",
       "      <th>created_at_weekday</th>\n",
       "      <th>created_at_weekofyear</th>\n",
       "      <th>avg_item_price</th>\n",
       "    </tr>\n",
       "  </thead>\n",
       "  <tbody>\n",
       "    <tr>\n",
       "      <th>0</th>\n",
       "      <td>1.0</td>\n",
       "      <td>2015-02-06 22:24:17</td>\n",
       "      <td>2015-02-06 23:27:16</td>\n",
       "      <td>1845</td>\n",
       "      <td>2870.715556</td>\n",
       "      <td>1.0</td>\n",
       "      <td>4</td>\n",
       "      <td>3441</td>\n",
       "      <td>4</td>\n",
       "      <td>557</td>\n",
       "      <td>1239</td>\n",
       "      <td>33.0</td>\n",
       "      <td>14.0</td>\n",
       "      <td>21.0</td>\n",
       "      <td>446</td>\n",
       "      <td>861.0</td>\n",
       "      <td>3779.0</td>\n",
       "      <td>4</td>\n",
       "      <td>6</td>\n",
       "      <td>860.25</td>\n",
       "    </tr>\n",
       "    <tr>\n",
       "      <th>1</th>\n",
       "      <td>2.0</td>\n",
       "      <td>2015-02-10 21:49:25</td>\n",
       "      <td>2015-02-10 22:56:29</td>\n",
       "      <td>5477</td>\n",
       "      <td>2989.596156</td>\n",
       "      <td>2.0</td>\n",
       "      <td>1</td>\n",
       "      <td>1900</td>\n",
       "      <td>1</td>\n",
       "      <td>1400</td>\n",
       "      <td>1400</td>\n",
       "      <td>1.0</td>\n",
       "      <td>2.0</td>\n",
       "      <td>2.0</td>\n",
       "      <td>446</td>\n",
       "      <td>690.0</td>\n",
       "      <td>4024.0</td>\n",
       "      <td>1</td>\n",
       "      <td>7</td>\n",
       "      <td>1900.00</td>\n",
       "    </tr>\n",
       "    <tr>\n",
       "      <th>2</th>\n",
       "      <td>3.0</td>\n",
       "      <td>2015-01-22 20:39:28</td>\n",
       "      <td>2015-01-22 21:09:09</td>\n",
       "      <td>5477</td>\n",
       "      <td>2989.596156</td>\n",
       "      <td>1.0</td>\n",
       "      <td>1</td>\n",
       "      <td>1900</td>\n",
       "      <td>1</td>\n",
       "      <td>1900</td>\n",
       "      <td>1900</td>\n",
       "      <td>1.0</td>\n",
       "      <td>0.0</td>\n",
       "      <td>0.0</td>\n",
       "      <td>446</td>\n",
       "      <td>690.0</td>\n",
       "      <td>1781.0</td>\n",
       "      <td>3</td>\n",
       "      <td>4</td>\n",
       "      <td>1900.00</td>\n",
       "    </tr>\n",
       "    <tr>\n",
       "      <th>3</th>\n",
       "      <td>3.0</td>\n",
       "      <td>2015-02-03 21:21:45</td>\n",
       "      <td>2015-02-03 22:13:00</td>\n",
       "      <td>5477</td>\n",
       "      <td>2989.596156</td>\n",
       "      <td>1.0</td>\n",
       "      <td>6</td>\n",
       "      <td>6900</td>\n",
       "      <td>5</td>\n",
       "      <td>600</td>\n",
       "      <td>1800</td>\n",
       "      <td>1.0</td>\n",
       "      <td>1.0</td>\n",
       "      <td>2.0</td>\n",
       "      <td>446</td>\n",
       "      <td>289.0</td>\n",
       "      <td>3075.0</td>\n",
       "      <td>1</td>\n",
       "      <td>6</td>\n",
       "      <td>1150.00</td>\n",
       "    </tr>\n",
       "    <tr>\n",
       "      <th>4</th>\n",
       "      <td>3.0</td>\n",
       "      <td>2015-02-15 02:40:36</td>\n",
       "      <td>2015-02-15 03:20:26</td>\n",
       "      <td>5477</td>\n",
       "      <td>2989.596156</td>\n",
       "      <td>1.0</td>\n",
       "      <td>3</td>\n",
       "      <td>3900</td>\n",
       "      <td>3</td>\n",
       "      <td>1100</td>\n",
       "      <td>1600</td>\n",
       "      <td>6.0</td>\n",
       "      <td>6.0</td>\n",
       "      <td>9.0</td>\n",
       "      <td>446</td>\n",
       "      <td>650.0</td>\n",
       "      <td>2390.0</td>\n",
       "      <td>6</td>\n",
       "      <td>7</td>\n",
       "      <td>1300.00</td>\n",
       "    </tr>\n",
       "  </tbody>\n",
       "</table>\n",
       "</div>"
      ],
      "text/plain": [
       "   market_id           created_at actual_delivery_time  store_id  \\\n",
       "0        1.0  2015-02-06 22:24:17  2015-02-06 23:27:16      1845   \n",
       "1        2.0  2015-02-10 21:49:25  2015-02-10 22:56:29      5477   \n",
       "2        3.0  2015-01-22 20:39:28  2015-01-22 21:09:09      5477   \n",
       "3        3.0  2015-02-03 21:21:45  2015-02-03 22:13:00      5477   \n",
       "4        3.0  2015-02-15 02:40:36  2015-02-15 03:20:26      5477   \n",
       "\n",
       "   store_primary_category  order_protocol  total_items  subtotal  \\\n",
       "0             2870.715556             1.0            4      3441   \n",
       "1             2989.596156             2.0            1      1900   \n",
       "2             2989.596156             1.0            1      1900   \n",
       "3             2989.596156             1.0            6      6900   \n",
       "4             2989.596156             1.0            3      3900   \n",
       "\n",
       "   num_distinct_items  min_item_price  max_item_price  total_onshift_dashers  \\\n",
       "0                   4             557            1239                   33.0   \n",
       "1                   1            1400            1400                    1.0   \n",
       "2                   1            1900            1900                    1.0   \n",
       "3                   5             600            1800                    1.0   \n",
       "4                   3            1100            1600                    6.0   \n",
       "\n",
       "   total_busy_dashers  total_outstanding_orders  \\\n",
       "0                14.0                      21.0   \n",
       "1                 2.0                       2.0   \n",
       "2                 0.0                       0.0   \n",
       "3                 1.0                       2.0   \n",
       "4                 6.0                       9.0   \n",
       "\n",
       "   estimated_order_place_duration  \\\n",
       "0                             446   \n",
       "1                             446   \n",
       "2                             446   \n",
       "3                             446   \n",
       "4                             446   \n",
       "\n",
       "   estimated_store_to_consumer_driving_duration  \\\n",
       "0                                         861.0   \n",
       "1                                         690.0   \n",
       "2                                         690.0   \n",
       "3                                         289.0   \n",
       "4                                         650.0   \n",
       "\n",
       "   total_delivery_duration_seconds  created_at_weekday  created_at_weekofyear  \\\n",
       "0                           3779.0                   4                      6   \n",
       "1                           4024.0                   1                      7   \n",
       "2                           1781.0                   3                      4   \n",
       "3                           3075.0                   1                      6   \n",
       "4                           2390.0                   6                      7   \n",
       "\n",
       "   avg_item_price  \n",
       "0          860.25  \n",
       "1         1900.00  \n",
       "2         1900.00  \n",
       "3         1150.00  \n",
       "4         1300.00  "
      ]
     },
     "execution_count": 2,
     "metadata": {},
     "output_type": "execute_result"
    }
   ],
   "source": [
    "# Load Cleaned Data\n",
    "df = pd.read_csv(data_path/ 'cleaned_historical_data.csv')\n",
    "df.head()"
   ]
  },
  {
   "cell_type": "markdown",
   "metadata": {},
   "source": [
    "### Full model"
   ]
  },
  {
   "cell_type": "code",
   "execution_count": 3,
   "metadata": {},
   "outputs": [
    {
     "name": "stdout",
     "output_type": "stream",
     "text": [
      "X_train shape: (138194, 15)\n",
      "X_test shape: (59227, 15)\n",
      "y_train shape: (138194,)\n",
      "y_test shape: (59227,)\n"
     ]
    }
   ],
   "source": [
    "# Split the data into features and target variable\n",
    "X = df.drop(columns=['total_delivery_duration_seconds', 'created_at', 'actual_delivery_time', 'market_id', 'store_id'])\n",
    "y = df['total_delivery_duration_seconds']\n",
    "\n",
    "# Split the data into training and testing sets\n",
    "X_train, X_test, y_train, y_test = train_test_split(X, y, test_size=0.3, random_state=42)\n",
    "\n",
    "# Display the shapes of the training and testing sets\n",
    "print(f\"X_train shape: {X_train.shape}\")\n",
    "print(f\"X_test shape: {X_test.shape}\")\n",
    "print(f\"y_train shape: {y_train.shape}\")\n",
    "print(f\"y_test shape: {y_test.shape}\")"
   ]
  },
  {
   "cell_type": "markdown",
   "metadata": {},
   "source": [
    "### Linear Regression"
   ]
  },
  {
   "cell_type": "code",
   "execution_count": 13,
   "metadata": {},
   "outputs": [],
   "source": [
    "# Create a pipeline that scales the features and then applies Linear regression\n",
    "linear_pipeline = make_pipeline(StandardScaler(), LinearRegression())\n",
    "\n",
    "# Define the parameter grid for GridSearchCV (no parameters to tune for Linear Regression)\n",
    "param_grid_linear = {\n",
    "    'linearregression__fit_intercept': [True, False]\n",
    "}\n",
    "\n",
    "# Initialize GridSearchCV with the Linear pipeline and parameter grid\n",
    "grid_search_linear = GridSearchCV(linear_pipeline, param_grid_linear, cv=3, scoring='neg_mean_squared_error')\n",
    "\n",
    "# Fit the model on the training data\n",
    "grid_search_linear.fit(X_train, y_train)\n",
    "\n",
    "# Get the best model (no parameters to tune for Linear Regression)\n",
    "best_linear_model = grid_search_linear.best_estimator_\n",
    "\n",
    "# Save the Linear Regression model\n",
    "with open(data_path / 'linear_regression_model.pkl', 'wb') as file:\n",
    "    pickle.dump(best_linear_model, file)\n"
   ]
  },
  {
   "cell_type": "code",
   "execution_count": 14,
   "metadata": {},
   "outputs": [
    {
     "name": "stdout",
     "output_type": "stream",
     "text": [
      "Linear Regression - Root Mean Squared Error (RMSE): 2772.01944429843\n",
      "Linear Regression - R^2 Score: -1.073800449804366\n"
     ]
    }
   ],
   "source": [
    "# Predict on the test data\n",
    "y_pred_ridge = best_linear_model.predict(X_test)\n",
    "\n",
    "# Calculate the RMSE and R^2 score\n",
    "rmse_ridge = np.sqrt(mean_squared_error(y_test, y_pred_ridge))\n",
    "r2_ridge = r2_score(y_test, y_pred_ridge)\n",
    "\n",
    "print(f\"Linear Regression - Root Mean Squared Error (RMSE): {rmse_ridge}\")\n",
    "print(f\"Linear Regression - R^2 Score: {r2_ridge}\")"
   ]
  },
  {
   "cell_type": "markdown",
   "metadata": {},
   "source": [
    "### Polynomial Regression"
   ]
  },
  {
   "cell_type": "code",
   "execution_count": null,
   "metadata": {},
   "outputs": [],
   "source": [
    "# Define the degree of the polynomial features\n",
    "degrees = [2, 3, 4]\n",
    "\n",
    "# Create a pipeline that first transforms the features to polynomial features, scales them, and then applies Ridge regression\n",
    "pipeline = make_pipeline(PolynomialFeatures(), StandardScaler(), Ridge())\n",
    "\n",
    "# Use Grid Search to find the optimal degree and regularization strength\n",
    "param_grid = {\n",
    "    'polynomialfeatures__degree': degrees,\n",
    "    'ridge__alpha': [0.1, 1.0, 10.0]\n",
    "}\n",
    "grid_search = GridSearchCV(pipeline, param_grid, cv=3, scoring='neg_mean_squared_error')\n",
    "\n",
    "# Fit the model on the training data\n",
    "grid_search.fit(X_train, y_train)\n",
    "\n",
    "# Get the best parameters and model\n",
    "best_params = grid_search.best_params_\n",
    "best_model = grid_search.best_estimator_\n",
    "\n",
    "\n",
    "# save the model\n",
    "with open(data_path / 'polynomial_regression_model.pkl', 'wb') as file:\n",
    "    pickle.dump(best_model, file)\n"
   ]
  },
  {
   "cell_type": "code",
   "execution_count": null,
   "metadata": {},
   "outputs": [
    {
     "name": "stdout",
     "output_type": "stream",
     "text": [
      "Optimal Degree: 3\n",
      "Optimal Alpha: 0.1\n",
      "Polynomial Regression - Root Mean Squared Error (RMSE): 1836.7215226271348\n",
      "Polynomial Regression - R^2 Score: 0.08953962361224188\n"
     ]
    }
   ],
   "source": [
    "# Predict on the test data\n",
    "y_pred_poly = best_model.predict(X_test)\n",
    "\n",
    "# Calculate the RMSE and R^2 score\n",
    "rmse_poly = np.sqrt(mean_squared_error(y_test, y_pred_poly))\n",
    "r2_poly = r2_score(y_test, y_pred_poly)\n",
    "\n",
    "print(f\"Optimal Degree: {best_params['polynomialfeatures__degree']}\")\n",
    "print(f\"Optimal Alpha: {best_params['ridge__alpha']}\")\n",
    "print(f\"Polynomial Regression - Root Mean Squared Error (RMSE): {rmse_poly}\")\n",
    "print(f\"Polynomial Regression - R^2 Score: {r2_poly}\")"
   ]
  },
  {
   "cell_type": "markdown",
   "metadata": {},
   "source": [
    "### Random Forest Regressor"
   ]
  },
  {
   "cell_type": "code",
   "execution_count": null,
   "metadata": {},
   "outputs": [],
   "source": [
    "# Define the parameter grid for GridSearchCV\n",
    "param_grid_rf = {\n",
    "    'n_estimators': [100, 200],\n",
    "    'max_depth': [None, 10, 20],\n",
    "    'min_samples_split': [2, 5],\n",
    "    'min_samples_leaf': [1, 2],\n",
    "    'bootstrap': [True, False]\n",
    "}\n",
    "\n",
    "# Initialize GridSearchCV with the Random Forest Regressor and parameter grid\n",
    "grid_search_rf = GridSearchCV(RandomForestRegressor(random_state=42), param_grid_rf, cv=3, scoring='neg_mean_squared_error', n_jobs=-1)\n",
    "\n",
    "# Fit the model on the training data\n",
    "grid_search_rf.fit(X_train, y_train)\n",
    "\n",
    "# Get the best parameters and model\n",
    "best_params_rf = grid_search_rf.best_params_\n",
    "best_rf_model = grid_search_rf.best_estimator_\n",
    "\n",
    "# Save the best Random Forest model\n",
    "with open(data_path / 'best_random_forest_regression_model.pkl', 'wb') as file:\n",
    "    pickle.dump(best_rf_model, file)"
   ]
  },
  {
   "cell_type": "code",
   "execution_count": null,
   "metadata": {},
   "outputs": [],
   "source": [
    "# Predict on the test data\n",
    "y_pred_best_rf = best_rf_model.predict(X_test)\n",
    "\n",
    "# Calculate the RMSE and R^2 score\n",
    "rmse_best_rf = np.sqrt(mean_squared_error(y_test, y_pred_best_rf))\n",
    "r2_best_rf = r2_score(y_test, y_pred_best_rf)\n",
    "\n",
    "print(f\"Best Parameters for Random Forest: {best_params_rf}\")\n",
    "print(f\"Best Random Forest Regression - Root Mean Squared Error (RMSE): {rmse_best_rf}\")\n",
    "print(f\"Best Random Forest Regression - R^2 Score: {r2_best_rf}\")"
   ]
  },
  {
   "cell_type": "markdown",
   "metadata": {},
   "source": [
    "### Lasso Model"
   ]
  },
  {
   "cell_type": "code",
   "execution_count": null,
   "metadata": {},
   "outputs": [],
   "source": [
    "\n",
    "# # Create a pipeline that scales the features and then applies Lasso regression\n",
    "# lasso_pipeline = make_pipeline(StandardScaler(), Lasso())\n",
    "\n",
    "# # Define the parameter grid for GridSearchCV\n",
    "# param_grid_lasso = {\n",
    "#     'lasso__alpha': [0.01, 0.1, 1.0, 10.0, 100.0],\n",
    "#     'lasso__fit_intercept': [True, False]\n",
    "# }\n",
    "\n",
    "# # Initialize GridSearchCV with the Lasso pipeline and parameter grid\n",
    "# grid_search_lasso = GridSearchCV(lasso_pipeline, param_grid_lasso, cv=5, scoring='neg_mean_squared_error')\n",
    "\n",
    "# # Fit the model on the training data\n",
    "# grid_search_lasso.fit(X_train, y_train)\n",
    "\n",
    "# # Get the best model\n",
    "# best_lasso_model = grid_search_lasso.best_estimator_\n",
    "\n",
    "# # Save the Lasso Regression model\n",
    "# with open(data_path / 'lasso_regression_model.pkl', 'wb') as file:\n",
    "#     pickle.dump(best_lasso_model, file)\n"
   ]
  },
  {
   "cell_type": "code",
   "execution_count": null,
   "metadata": {},
   "outputs": [],
   "source": [
    "# # Predict on the test data\n",
    "# y_pred_lasso = best_lasso_model.predict(X_test)\n",
    "\n",
    "# # Calculate the RMSE and R^2 score\n",
    "# rmse_lasso = np.sqrt(mean_squared_error(y_test, y_pred_lasso))\n",
    "# r2_lasso = r2_score(y_test, y_pred_lasso)\n",
    "\n",
    "# print(f\"Lasso Regression - Root Mean Squared Error (RMSE): {rmse_lasso}\")\n",
    "# print(f\"Lasso Regression - R^2 Score: {r2_lasso}\")"
   ]
  },
  {
   "cell_type": "markdown",
   "metadata": {},
   "source": [
    "### XGB Regressor"
   ]
  },
  {
   "cell_type": "markdown",
   "metadata": {},
   "source": [
    "create a README\n",
    "write out what the business problem is.\n",
    "pick a metric : RMSE\n",
    "figure out the target column\n",
    "basic eda including summary stats\n",
    "at last 5 plots\n",
    "clean the data - get rid of nulls, address errors or conflicts in the data\n",
    "univariate analysis\n",
    "multivariate analysis\n",
    "check for multicollinearity\n",
    "\n",
    "Run these models:\n",
    "1. linear regression\n",
    "2. polynomial regression\n",
    "3. random forest regressor\n",
    "\n",
    "Feature importance\n",
    "\n",
    "metric anlysis for each model\n",
    "pick the best model\n",
    "summary of your results in plots and prose\n",
    "\"future directions\"\n",
    "\n",
    "1. what would you do to the modeling if you had more time\n",
    "2. What else could doordash analyze to improve based on your experience with this data\n",
    "3. minimum 30 commits to complete"
   ]
  }
 ],
 "metadata": {
  "kernelspec": {
   "display_name": "base",
   "language": "python",
   "name": "python3"
  },
  "language_info": {
   "codemirror_mode": {
    "name": "ipython",
    "version": 3
   },
   "file_extension": ".py",
   "mimetype": "text/x-python",
   "name": "python",
   "nbconvert_exporter": "python",
   "pygments_lexer": "ipython3",
   "version": "3.12.7"
  }
 },
 "nbformat": 4,
 "nbformat_minor": 2
}
