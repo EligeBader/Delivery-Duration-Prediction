{
 "cells": [
  {
   "cell_type": "code",
   "execution_count": 1,
   "metadata": {},
   "outputs": [],
   "source": [
    "import pandas as pd\n",
    "import numpy as np\n",
    "import matplotlib.pyplot as plt\n",
    "import seaborn as sns\n",
    "\n",
    "from pathlib import Path\n",
    "data_path = Path('./data')\n",
    "\n",
    "from sklearn.linear_model import LinearRegression\n",
    "from sklearn.metrics import mean_squared_error, r2_score\n",
    "from sklearn.model_selection import train_test_split, cross_val_score, GridSearchCV, RandomizedSearchCV\n",
    "from sklearn.ensemble import RandomForestRegressor\n",
    "from sklearn.preprocessing import PolynomialFeatures, StandardScaler\n",
    "from sklearn.linear_model import LinearRegression, Ridge, Lasso\n",
    "from sklearn.pipeline import make_pipeline\n",
    "from xgboost import XGBRegressor\n",
    "import optuna\n",
    "import logging\n",
    "from optuna.samplers import TPESampler\n",
    "\n",
    "# Custom MaskedArray class definition\n",
    "class MaskedArray(np.ma.MaskedArray):\n",
    "    pass\n",
    "\n",
    "from skopt import BayesSearchCV\n",
    "\n",
    "import pickle\n",
    "\n",
    "import warnings\n",
    "warnings.filterwarnings(\"ignore\")"
   ]
  },
  {
   "cell_type": "markdown",
   "metadata": {},
   "source": [
    "# Build and Test Regression Models"
   ]
  },
  {
   "cell_type": "code",
   "execution_count": 2,
   "metadata": {},
   "outputs": [
    {
     "data": {
      "text/html": [
       "<div>\n",
       "<style scoped>\n",
       "    .dataframe tbody tr th:only-of-type {\n",
       "        vertical-align: middle;\n",
       "    }\n",
       "\n",
       "    .dataframe tbody tr th {\n",
       "        vertical-align: top;\n",
       "    }\n",
       "\n",
       "    .dataframe thead th {\n",
       "        text-align: right;\n",
       "    }\n",
       "</style>\n",
       "<table border=\"1\" class=\"dataframe\">\n",
       "  <thead>\n",
       "    <tr style=\"text-align: right;\">\n",
       "      <th></th>\n",
       "      <th>market_id</th>\n",
       "      <th>created_at</th>\n",
       "      <th>actual_delivery_time</th>\n",
       "      <th>store_id</th>\n",
       "      <th>store_primary_category</th>\n",
       "      <th>order_protocol</th>\n",
       "      <th>total_items</th>\n",
       "      <th>subtotal</th>\n",
       "      <th>num_distinct_items</th>\n",
       "      <th>min_item_price</th>\n",
       "      <th>...</th>\n",
       "      <th>total_onshift_dashers</th>\n",
       "      <th>total_busy_dashers</th>\n",
       "      <th>total_outstanding_orders</th>\n",
       "      <th>estimated_order_place_duration</th>\n",
       "      <th>estimated_store_to_consumer_driving_duration</th>\n",
       "      <th>total_delivery_duration_seconds</th>\n",
       "      <th>created_at_weekday</th>\n",
       "      <th>created_at_weekofyear</th>\n",
       "      <th>avg_item_price</th>\n",
       "      <th>log_avg_item_price</th>\n",
       "    </tr>\n",
       "  </thead>\n",
       "  <tbody>\n",
       "    <tr>\n",
       "      <th>0</th>\n",
       "      <td>1.0</td>\n",
       "      <td>2015-02-06 22:24:17</td>\n",
       "      <td>2015-02-06 23:27:16</td>\n",
       "      <td>1845</td>\n",
       "      <td>2870.715556</td>\n",
       "      <td>1.0</td>\n",
       "      <td>4</td>\n",
       "      <td>3441</td>\n",
       "      <td>4</td>\n",
       "      <td>557</td>\n",
       "      <td>...</td>\n",
       "      <td>33.0</td>\n",
       "      <td>14.0</td>\n",
       "      <td>21.0</td>\n",
       "      <td>446</td>\n",
       "      <td>861.0</td>\n",
       "      <td>3779.0</td>\n",
       "      <td>4</td>\n",
       "      <td>6</td>\n",
       "      <td>860.25</td>\n",
       "      <td>6.758385</td>\n",
       "    </tr>\n",
       "    <tr>\n",
       "      <th>1</th>\n",
       "      <td>2.0</td>\n",
       "      <td>2015-02-10 21:49:25</td>\n",
       "      <td>2015-02-10 22:56:29</td>\n",
       "      <td>5477</td>\n",
       "      <td>2989.596156</td>\n",
       "      <td>2.0</td>\n",
       "      <td>1</td>\n",
       "      <td>1900</td>\n",
       "      <td>1</td>\n",
       "      <td>1400</td>\n",
       "      <td>...</td>\n",
       "      <td>1.0</td>\n",
       "      <td>2.0</td>\n",
       "      <td>2.0</td>\n",
       "      <td>446</td>\n",
       "      <td>690.0</td>\n",
       "      <td>4024.0</td>\n",
       "      <td>1</td>\n",
       "      <td>7</td>\n",
       "      <td>1900.00</td>\n",
       "      <td>7.550135</td>\n",
       "    </tr>\n",
       "    <tr>\n",
       "      <th>2</th>\n",
       "      <td>3.0</td>\n",
       "      <td>2015-01-22 20:39:28</td>\n",
       "      <td>2015-01-22 21:09:09</td>\n",
       "      <td>5477</td>\n",
       "      <td>2989.596156</td>\n",
       "      <td>1.0</td>\n",
       "      <td>1</td>\n",
       "      <td>1900</td>\n",
       "      <td>1</td>\n",
       "      <td>1900</td>\n",
       "      <td>...</td>\n",
       "      <td>1.0</td>\n",
       "      <td>0.0</td>\n",
       "      <td>0.0</td>\n",
       "      <td>446</td>\n",
       "      <td>690.0</td>\n",
       "      <td>1781.0</td>\n",
       "      <td>3</td>\n",
       "      <td>4</td>\n",
       "      <td>1900.00</td>\n",
       "      <td>7.550135</td>\n",
       "    </tr>\n",
       "    <tr>\n",
       "      <th>3</th>\n",
       "      <td>3.0</td>\n",
       "      <td>2015-02-03 21:21:45</td>\n",
       "      <td>2015-02-03 22:13:00</td>\n",
       "      <td>5477</td>\n",
       "      <td>2989.596156</td>\n",
       "      <td>1.0</td>\n",
       "      <td>6</td>\n",
       "      <td>6900</td>\n",
       "      <td>5</td>\n",
       "      <td>600</td>\n",
       "      <td>...</td>\n",
       "      <td>1.0</td>\n",
       "      <td>1.0</td>\n",
       "      <td>2.0</td>\n",
       "      <td>446</td>\n",
       "      <td>289.0</td>\n",
       "      <td>3075.0</td>\n",
       "      <td>1</td>\n",
       "      <td>6</td>\n",
       "      <td>1150.00</td>\n",
       "      <td>7.048386</td>\n",
       "    </tr>\n",
       "    <tr>\n",
       "      <th>4</th>\n",
       "      <td>3.0</td>\n",
       "      <td>2015-02-15 02:40:36</td>\n",
       "      <td>2015-02-15 03:20:26</td>\n",
       "      <td>5477</td>\n",
       "      <td>2989.596156</td>\n",
       "      <td>1.0</td>\n",
       "      <td>3</td>\n",
       "      <td>3900</td>\n",
       "      <td>3</td>\n",
       "      <td>1100</td>\n",
       "      <td>...</td>\n",
       "      <td>6.0</td>\n",
       "      <td>6.0</td>\n",
       "      <td>9.0</td>\n",
       "      <td>446</td>\n",
       "      <td>650.0</td>\n",
       "      <td>2390.0</td>\n",
       "      <td>6</td>\n",
       "      <td>7</td>\n",
       "      <td>1300.00</td>\n",
       "      <td>7.170888</td>\n",
       "    </tr>\n",
       "  </tbody>\n",
       "</table>\n",
       "<p>5 rows × 21 columns</p>\n",
       "</div>"
      ],
      "text/plain": [
       "   market_id           created_at actual_delivery_time  store_id  \\\n",
       "0        1.0  2015-02-06 22:24:17  2015-02-06 23:27:16      1845   \n",
       "1        2.0  2015-02-10 21:49:25  2015-02-10 22:56:29      5477   \n",
       "2        3.0  2015-01-22 20:39:28  2015-01-22 21:09:09      5477   \n",
       "3        3.0  2015-02-03 21:21:45  2015-02-03 22:13:00      5477   \n",
       "4        3.0  2015-02-15 02:40:36  2015-02-15 03:20:26      5477   \n",
       "\n",
       "   store_primary_category  order_protocol  total_items  subtotal  \\\n",
       "0             2870.715556             1.0            4      3441   \n",
       "1             2989.596156             2.0            1      1900   \n",
       "2             2989.596156             1.0            1      1900   \n",
       "3             2989.596156             1.0            6      6900   \n",
       "4             2989.596156             1.0            3      3900   \n",
       "\n",
       "   num_distinct_items  min_item_price  ...  total_onshift_dashers  \\\n",
       "0                   4             557  ...                   33.0   \n",
       "1                   1            1400  ...                    1.0   \n",
       "2                   1            1900  ...                    1.0   \n",
       "3                   5             600  ...                    1.0   \n",
       "4                   3            1100  ...                    6.0   \n",
       "\n",
       "   total_busy_dashers  total_outstanding_orders  \\\n",
       "0                14.0                      21.0   \n",
       "1                 2.0                       2.0   \n",
       "2                 0.0                       0.0   \n",
       "3                 1.0                       2.0   \n",
       "4                 6.0                       9.0   \n",
       "\n",
       "   estimated_order_place_duration  \\\n",
       "0                             446   \n",
       "1                             446   \n",
       "2                             446   \n",
       "3                             446   \n",
       "4                             446   \n",
       "\n",
       "   estimated_store_to_consumer_driving_duration  \\\n",
       "0                                         861.0   \n",
       "1                                         690.0   \n",
       "2                                         690.0   \n",
       "3                                         289.0   \n",
       "4                                         650.0   \n",
       "\n",
       "   total_delivery_duration_seconds  created_at_weekday  created_at_weekofyear  \\\n",
       "0                           3779.0                   4                      6   \n",
       "1                           4024.0                   1                      7   \n",
       "2                           1781.0                   3                      4   \n",
       "3                           3075.0                   1                      6   \n",
       "4                           2390.0                   6                      7   \n",
       "\n",
       "   avg_item_price  log_avg_item_price  \n",
       "0          860.25            6.758385  \n",
       "1         1900.00            7.550135  \n",
       "2         1900.00            7.550135  \n",
       "3         1150.00            7.048386  \n",
       "4         1300.00            7.170888  \n",
       "\n",
       "[5 rows x 21 columns]"
      ]
     },
     "execution_count": 2,
     "metadata": {},
     "output_type": "execute_result"
    }
   ],
   "source": [
    "# Load Cleaned Data\n",
    "df = pd.read_csv(data_path/ 'cleaned_historical_data.csv')\n",
    "df.head()"
   ]
  },
  {
   "cell_type": "markdown",
   "metadata": {},
   "source": [
    "### Full model"
   ]
  },
  {
   "cell_type": "code",
   "execution_count": 3,
   "metadata": {},
   "outputs": [
    {
     "name": "stdout",
     "output_type": "stream",
     "text": [
      "X_train shape: (129426, 14)\n",
      "X_test shape: (55469, 14)\n",
      "y_train shape: (129426,)\n",
      "y_test shape: (55469,)\n"
     ]
    }
   ],
   "source": [
    "# Split the data into features and target variable\n",
    "X = df.drop(columns=['total_delivery_duration_seconds', 'created_at', 'actual_delivery_time', \n",
    "                     'total_onshift_dashers', 'total_outstanding_orders', \n",
    "                     'min_item_price', 'max_item_price'])\n",
    "y = df['total_delivery_duration_seconds']\n",
    "\n",
    "# Split the data into training and testing sets\n",
    "X_train, X_test, y_train, y_test = train_test_split(X, y, test_size=0.3, random_state=42)\n",
    "\n",
    "# Display the shapes of the training and testing sets\n",
    "print(f\"X_train shape: {X_train.shape}\")\n",
    "print(f\"X_test shape: {X_test.shape}\")\n",
    "print(f\"y_train shape: {y_train.shape}\")\n",
    "print(f\"y_test shape: {y_test.shape}\")"
   ]
  },
  {
   "cell_type": "markdown",
   "metadata": {},
   "source": [
    "### Linear Regression"
   ]
  },
  {
   "cell_type": "code",
   "execution_count": 4,
   "metadata": {},
   "outputs": [],
   "source": [
    "# Create a pipeline that scales the features and then applies Linear regression\n",
    "linear_pipeline = make_pipeline(StandardScaler(), LinearRegression())\n",
    "\n",
    "# Define the parameter grid for GridSearchCV (no parameters to tune for Linear Regression)\n",
    "param_grid_linear = {\n",
    "    'linearregression__fit_intercept': [True, False]\n",
    "}\n",
    "\n",
    "# Initialize GridSearchCV with the Linear pipeline and parameter grid\n",
    "grid_search_linear = GridSearchCV(linear_pipeline, param_grid_linear, cv=3, scoring='neg_mean_squared_error')\n",
    "\n",
    "# Fit the model on the training data\n",
    "grid_search_linear.fit(X_train, y_train)\n",
    "\n",
    "# Get the best model (no parameters to tune for Linear Regression)\n",
    "best_linear_model = grid_search_linear.best_estimator_\n",
    "\n",
    "# Save the Linear Regression model\n",
    "with open(data_path / 'linear_regression_model.pkl', 'wb') as file:\n",
    "    pickle.dump(best_linear_model, file)\n"
   ]
  },
  {
   "cell_type": "code",
   "execution_count": 5,
   "metadata": {},
   "outputs": [
    {
     "name": "stdout",
     "output_type": "stream",
     "text": [
      "Linear Regression - Root Mean Squared Error (RMSE): 739.7548060754148\n",
      "Linear Regression - R^2 Score: 0.1475791432699367\n"
     ]
    }
   ],
   "source": [
    "# Predict on the test data\n",
    "y_pred_ridge = best_linear_model.predict(X_test)\n",
    "\n",
    "# Calculate the RMSE and R^2 score\n",
    "rmse_ridge = np.sqrt(mean_squared_error(y_test, y_pred_ridge))\n",
    "r2_ridge = r2_score(y_test, y_pred_ridge)\n",
    "\n",
    "print(f\"Linear Regression - Root Mean Squared Error (RMSE): {rmse_ridge}\")\n",
    "print(f\"Linear Regression - R^2 Score: {r2_ridge}\")"
   ]
  },
  {
   "cell_type": "markdown",
   "metadata": {},
   "source": [
    "### Polynomial Regression"
   ]
  },
  {
   "cell_type": "code",
   "execution_count": 6,
   "metadata": {},
   "outputs": [],
   "source": [
    "# Define the degree of the polynomial features\n",
    "degrees = [2, 3, 4]\n",
    "\n",
    "# Create a pipeline that first transforms the features to polynomial features, scales them, and then applies Ridge regression\n",
    "pipeline = make_pipeline(PolynomialFeatures(), StandardScaler(), Ridge())\n",
    "\n",
    "# Use Grid Search to find the optimal degree and regularization strength\n",
    "param_grid = {\n",
    "    'polynomialfeatures__degree': degrees,\n",
    "    'ridge__alpha': [0.1, 1.0, 10.0]\n",
    "}\n",
    "grid_search = GridSearchCV(pipeline, param_grid, cv=3, scoring='neg_mean_squared_error')\n",
    "\n",
    "# Fit the model on the training data\n",
    "grid_search.fit(X_train, y_train)\n",
    "\n",
    "# Get the best parameters and model\n",
    "best_params = grid_search.best_params_\n",
    "best_model = grid_search.best_estimator_\n",
    "\n",
    "\n",
    "# save the model\n",
    "with open(data_path / 'polynomial_regression_model.pkl', 'wb') as file:\n",
    "    pickle.dump(best_model, file)\n"
   ]
  },
  {
   "cell_type": "code",
   "execution_count": 7,
   "metadata": {},
   "outputs": [
    {
     "name": "stdout",
     "output_type": "stream",
     "text": [
      "Optimal Degree: 3\n",
      "Optimal Alpha: 1.0\n",
      "Polynomial Regression - Root Mean Squared Error (RMSE): 960.9865058096137\n",
      "Polynomial Regression - R^2 Score: -0.4385105629090875\n"
     ]
    }
   ],
   "source": [
    "# Predict on the test data\n",
    "y_pred_poly = best_model.predict(X_test)\n",
    "\n",
    "# Calculate the RMSE and R^2 score\n",
    "rmse_poly = np.sqrt(mean_squared_error(y_test, y_pred_poly))\n",
    "r2_poly = r2_score(y_test, y_pred_poly)\n",
    "\n",
    "print(f\"Optimal Degree: {best_params['polynomialfeatures__degree']}\")\n",
    "print(f\"Optimal Alpha: {best_params['ridge__alpha']}\")\n",
    "print(f\"Polynomial Regression - Root Mean Squared Error (RMSE): {rmse_poly}\")\n",
    "print(f\"Polynomial Regression - R^2 Score: {r2_poly}\")"
   ]
  },
  {
   "cell_type": "markdown",
   "metadata": {},
   "source": [
    "### Random Forest Regressor"
   ]
  },
  {
   "cell_type": "code",
   "execution_count": 8,
   "metadata": {},
   "outputs": [],
   "source": [
    "# Define the parameter grid for RandomizedSearchCV\n",
    "param_distributions_rf = {\n",
    "    'n_estimators': [100, 200],\n",
    "    'max_depth': [None, 10, 20],\n",
    "    'min_samples_split': [2, 5],\n",
    "    'min_samples_leaf': [1, 2],\n",
    "    'bootstrap': [True, False]\n",
    "}\n",
    "\n",
    "# Initialize RandomizedSearchCV with the Random Forest Regressor and parameter distributions\n",
    "random_search_rf = RandomizedSearchCV(RandomForestRegressor(random_state=42), param_distributions_rf, n_iter=10, cv=3, scoring='neg_mean_squared_error', n_jobs=-1, random_state=42)\n",
    "\n",
    "# Fit the model on the training data\n",
    "random_search_rf.fit(X_train, y_train)\n",
    "\n",
    "# Get the best parameters and model\n",
    "best_params_rf = random_search_rf.best_params_\n",
    "best_rf_model = random_search_rf.best_estimator_\n",
    "\n",
    "# Save the best Random Forest model\n",
    "with open(data_path / 'best_random_forest_regression_model.pkl', 'wb') as file:\n",
    "    pickle.dump(best_rf_model, file)"
   ]
  },
  {
   "cell_type": "code",
   "execution_count": 9,
   "metadata": {},
   "outputs": [
    {
     "name": "stdout",
     "output_type": "stream",
     "text": [
      "Best Parameters for Random Forest: {'n_estimators': 200, 'min_samples_split': 5, 'min_samples_leaf': 1, 'max_depth': 20, 'bootstrap': True}\n",
      "Best Random Forest Regression - Root Mean Squared Error (RMSE): 715.9329111945497\n",
      "Best Random Forest Regression - R^2 Score: 0.2015952150845891\n"
     ]
    }
   ],
   "source": [
    "# Predict on the test data\n",
    "y_pred_best_rf = best_rf_model.predict(X_test)\n",
    "\n",
    "# Calculate the RMSE and R^2 score\n",
    "rmse_best_rf = np.sqrt(mean_squared_error(y_test, y_pred_best_rf))\n",
    "r2_best_rf = r2_score(y_test, y_pred_best_rf)\n",
    "\n",
    "print(f\"Best Parameters for Random Forest: {best_params_rf}\")\n",
    "print(f\"Best Random Forest Regression - Root Mean Squared Error (RMSE): {rmse_best_rf}\")\n",
    "print(f\"Best Random Forest Regression - R^2 Score: {r2_best_rf}\")"
   ]
  },
  {
   "cell_type": "markdown",
   "metadata": {},
   "source": [
    "### Lasso Model"
   ]
  },
  {
   "cell_type": "code",
   "execution_count": 10,
   "metadata": {},
   "outputs": [],
   "source": [
    "# Create a pipeline that scales the features and then applies Lasso regression\n",
    "lasso_pipeline = make_pipeline(StandardScaler(), Lasso())\n",
    "\n",
    "# Define the parameter grid for GridSearchCV\n",
    "param_grid_lasso = {\n",
    "    'lasso__alpha': [0.01, 0.1, 1.0, 10.0, 100.0],\n",
    "    'lasso__fit_intercept': [True, False]\n",
    "}\n",
    "\n",
    "# Initialize GridSearchCV with the Lasso pipeline and parameter grid\n",
    "grid_search_lasso = GridSearchCV(lasso_pipeline, param_grid_lasso, cv=5, scoring='neg_mean_squared_error')\n",
    "\n",
    "# Fit the model on the training data\n",
    "grid_search_lasso.fit(X_train, y_train)\n",
    "\n",
    "# Get the best model\n",
    "best_lasso_model = grid_search_lasso.best_estimator_\n",
    "\n",
    "# Save the Lasso Regression model\n",
    "with open(data_path / 'lasso_regression_model.pkl', 'wb') as file:\n",
    "    pickle.dump(best_lasso_model, file)\n"
   ]
  },
  {
   "cell_type": "code",
   "execution_count": 11,
   "metadata": {},
   "outputs": [
    {
     "name": "stdout",
     "output_type": "stream",
     "text": [
      "Lasso Regression - Root Mean Squared Error (RMSE): 739.7501194296605\n",
      "Lasso Regression - R^2 Score: 0.1475899440971873\n"
     ]
    }
   ],
   "source": [
    "# Predict on the test data\n",
    "y_pred_lasso = best_lasso_model.predict(X_test)\n",
    "\n",
    "# Calculate the RMSE and R^2 score\n",
    "rmse_lasso = np.sqrt(mean_squared_error(y_test, y_pred_lasso))\n",
    "r2_lasso = r2_score(y_test, y_pred_lasso)\n",
    "\n",
    "print(f\"Lasso Regression - Root Mean Squared Error (RMSE): {rmse_lasso}\")\n",
    "print(f\"Lasso Regression - R^2 Score: {r2_lasso}\")"
   ]
  },
  {
   "cell_type": "markdown",
   "metadata": {},
   "source": [
    "### XGB Regressor"
   ]
  },
  {
   "cell_type": "code",
   "execution_count": 12,
   "metadata": {},
   "outputs": [],
   "source": [
    "# Suppress Optuna logs\n",
    "optuna.logging.set_verbosity(optuna.logging.CRITICAL)\n",
    "\n",
    "def objective(trial):\n",
    "    param = {\n",
    "        'n_estimators': trial.suggest_int('n_estimators', 100, 200),\n",
    "        'max_depth': trial.suggest_categorical('max_depth', [None, 10, 20]),\n",
    "        'min_child_weight': trial.suggest_int('min_child_weight', 1, 5),\n",
    "        'learning_rate': trial.suggest_loguniform('learning_rate', 0.01, 0.3),\n",
    "        'subsample': trial.suggest_uniform('subsample', 0.5, 1.0),\n",
    "        'colsample_bytree': trial.suggest_uniform('colsample_bytree', 0.5, 1.0),\n",
    "        'gamma': trial.suggest_loguniform('gamma', 1e-8, 1.0),\n",
    "        'reg_alpha': trial.suggest_loguniform('reg_alpha', 1e-8, 1.0),\n",
    "        'reg_lambda': trial.suggest_loguniform('reg_lambda', 1e-8, 1.0),\n",
    "        'bootstrap': trial.suggest_categorical('bootstrap', [True, False])\n",
    "    }\n",
    "    \n",
    "    model = XGBRegressor(**param, random_state=42)\n",
    "    score = cross_val_score(model, X_train, y_train, scoring='neg_mean_squared_error', cv=2).mean() \n",
    "    return score\n",
    "\n",
    "# Create a study object and optimize the objective function\n",
    "study = optuna.create_study(direction='maximize', sampler=TPESampler())\n",
    "study.optimize(objective, n_trials=50)  # Reduced number of trials to 50\n",
    "\n",
    "# Get the best hyperparameters\n",
    "best_params = study.best_params\n",
    "\n",
    "# Initialize the XGB Regressor model with the best hyperparameters\n",
    "xgb_model = XGBRegressor(**best_params, random_state=42)\n",
    "\n",
    "# Fit the model on the training data\n",
    "xgb_model.fit(X_train, y_train)\n",
    "\n",
    "# Save the XGB Regressor model\n",
    "with open(data_path / 'xgb_regression_model_optuna.pkl', 'wb') as file:\n",
    "    pickle.dump(xgb_model, file)"
   ]
  },
  {
   "cell_type": "code",
   "execution_count": 13,
   "metadata": {},
   "outputs": [
    {
     "name": "stdout",
     "output_type": "stream",
     "text": [
      "XGB Regressor with Optuna - Root Mean Squared Error (RMSE): 688.8981470279163\n",
      "XGB Regressor with Optuna - R^2 Score: 0.2607548059850615\n"
     ]
    }
   ],
   "source": [
    "# Predict on the test data\n",
    "y_pred_xgb = xgb_model.predict(X_test)\n",
    "\n",
    "# Calculate the RMSE and R^2 score\n",
    "rmse_xgb = np.sqrt(mean_squared_error(y_test, y_pred_xgb))\n",
    "r2_xgb = r2_score(y_test, y_pred_xgb)\n",
    "\n",
    "print(f\"XGB Regressor with Optuna - Root Mean Squared Error (RMSE): {rmse_xgb}\")\n",
    "print(f\"XGB Regressor with Optuna - R^2 Score: {r2_xgb}\")"
   ]
  },
  {
   "cell_type": "code",
   "execution_count": 14,
   "metadata": {},
   "outputs": [
    {
     "name": "stdout",
     "output_type": "stream",
     "text": [
      "Best parameters for GridSearchCV: {'n_estimators': 179, 'max_depth': 10, 'learning_rate': 0.06275144895944304, 'subsample': 0.9383942513741346, 'colsample_bytree': 0.7279003797030842}\n"
     ]
    }
   ],
   "source": [
    "# Define the objective function for GridSearchCV\n",
    "def objective_grid(trial):\n",
    "    param_grid = {\n",
    "        'n_estimators': [trial.suggest_int('n_estimators', 100, 200)],\n",
    "        'max_depth': [trial.suggest_categorical('max_depth', [None, 10, 20])],\n",
    "        'learning_rate': [trial.suggest_loguniform('learning_rate', 0.01, 0.3)],\n",
    "        'subsample': [trial.suggest_uniform('subsample', 0.5, 1.0)],\n",
    "        'colsample_bytree': [trial.suggest_uniform('colsample_bytree', 0.5, 1.0)],\n",
    "    }\n",
    "    \n",
    "    model = XGBRegressor(random_state=42)\n",
    "    grid_search = GridSearchCV(model, param_grid, cv=3, scoring='neg_mean_squared_error')\n",
    "    grid_search.fit(X_train, y_train)\n",
    "    \n",
    "    return -grid_search.best_score_\n",
    "\n",
    "# Create studies for search method\n",
    "study_grid = optuna.create_study(direction='minimize')\n",
    "study_grid.optimize(objective_grid, n_trials=50)\n",
    "\n",
    "# Get the best parameters and models\n",
    "best_params_grid = study_grid.best_params\n",
    "\n",
    "print(\"Best parameters for GridSearchCV:\", best_params_grid)\n",
    "\n",
    "# Initialize the XGB Regressor models with the best hyperparameters\n",
    "xgb_model_grid = XGBRegressor(**best_params_grid, random_state=42)\n",
    "\n",
    "# Fit the models on the training data\n",
    "xgb_model_grid.fit(X_train, y_train)\n",
    "\n",
    "# Save the models\n",
    "with open(data_path / 'xgb_regression_model_grid.pkl', 'wb') as file:\n",
    "    pickle.dump(xgb_model_grid, file)\n"
   ]
  },
  {
   "cell_type": "code",
   "execution_count": 15,
   "metadata": {},
   "outputs": [
    {
     "name": "stdout",
     "output_type": "stream",
     "text": [
      "XGB Regressor with GridSearchCV - Root Mean Squared Error (RMSE): 686.779427741978\n",
      "XGB Regressor with GridSearchCV - R^2 Score: 0.26529493876346644\n"
     ]
    }
   ],
   "source": [
    "# Predict on the test data\n",
    "y_pred_xgb_grid = xgb_model_grid.predict(X_test)\n",
    "\n",
    "# Calculate the RMSE and R^2 score\n",
    "rmse_xgb_grid = np.sqrt(mean_squared_error(y_test, y_pred_xgb_grid))\n",
    "r2_xgb_grid = r2_score(y_test, y_pred_xgb_grid)\n",
    "\n",
    "print(f\"XGB Regressor with GridSearchCV - Root Mean Squared Error (RMSE): {rmse_xgb_grid}\")\n",
    "print(f\"XGB Regressor with GridSearchCV - R^2 Score: {r2_xgb_grid}\")"
   ]
  },
  {
   "cell_type": "code",
   "execution_count": 16,
   "metadata": {},
   "outputs": [
    {
     "name": "stdout",
     "output_type": "stream",
     "text": [
      "Best parameters for RandomizedSearchCV: {'n_estimators': 157, 'max_depth': 10, 'learning_rate': 0.07139675707933621, 'subsample': 0.8903758582580603, 'colsample_bytree': 0.9626065588423781}\n"
     ]
    }
   ],
   "source": [
    "# Define the objective function for RandomizedSearchCV\n",
    "def objective_random(trial):\n",
    "    param_distributions = {\n",
    "        'n_estimators': [trial.suggest_int('n_estimators', 100, 200)],\n",
    "        'max_depth': [trial.suggest_categorical('max_depth', [None, 10, 20])],\n",
    "        'learning_rate': [trial.suggest_loguniform('learning_rate', 0.01, 0.3)],\n",
    "        'subsample': [trial.suggest_uniform('subsample', 0.5, 1.0)],\n",
    "        'colsample_bytree': [trial.suggest_uniform('colsample_bytree', 0.5, 1.0)],\n",
    "    }\n",
    "    \n",
    "    model = XGBRegressor(random_state=42)\n",
    "    random_search = RandomizedSearchCV(model, param_distributions, n_iter=10, cv=3, scoring='neg_mean_squared_error', random_state=42)\n",
    "    random_search.fit(X_train, y_train)\n",
    "    \n",
    "    return -random_search.best_score_\n",
    "\n",
    "# Create studies\n",
    "study_random = optuna.create_study(direction='minimize')\n",
    "study_random.optimize(objective_random, n_trials=50)\n",
    "\n",
    "# Get the best parameters and models\n",
    "best_params_random = study_random.best_params\n",
    "\n",
    "print(\"Best parameters for RandomizedSearchCV:\", best_params_random)\n",
    "\n",
    "# Initialize the XGB Regressor models with the best hyperparameters\n",
    "xgb_model_random = XGBRegressor(**best_params_random, random_state=42)\n",
    "\n",
    "# Fit the models on the training data\n",
    "xgb_model_random.fit(X_train, y_train)\n",
    "\n",
    "# save the model\n",
    "with open(data_path / 'xgb_regression_model_random.pkl', 'wb') as file:\n",
    "    pickle.dump(xgb_model_random, file)\n"
   ]
  },
  {
   "cell_type": "code",
   "execution_count": 17,
   "metadata": {},
   "outputs": [
    {
     "name": "stdout",
     "output_type": "stream",
     "text": [
      "XGB Regressor with RandomizedSearchCV - Root Mean Squared Error (RMSE): 686.4429638791853\n",
      "XGB Regressor with RandomizedSearchCV - R^2 Score: 0.2660146491652787\n"
     ]
    }
   ],
   "source": [
    "# Predict on the test data\n",
    "y_pred_xgb_random = xgb_model_random.predict(X_test)\n",
    "\n",
    "# Calculate the RMSE and R^2 score\n",
    "rmse_xgb_random = np.sqrt(mean_squared_error(y_test, y_pred_xgb_random))\n",
    "r2_xgb_random = r2_score(y_test, y_pred_xgb_random)\n",
    "\n",
    "print(f\"XGB Regressor with RandomizedSearchCV - Root Mean Squared Error (RMSE): {rmse_xgb_random}\")\n",
    "print(f\"XGB Regressor with RandomizedSearchCV - R^2 Score: {r2_xgb_random}\")"
   ]
  }
 ],
 "metadata": {
  "kernelspec": {
   "display_name": "base",
   "language": "python",
   "name": "python3"
  },
  "language_info": {
   "codemirror_mode": {
    "name": "ipython",
    "version": 3
   },
   "file_extension": ".py",
   "mimetype": "text/x-python",
   "name": "python",
   "nbconvert_exporter": "python",
   "pygments_lexer": "ipython3",
   "version": "3.12.3"
  }
 },
 "nbformat": 4,
 "nbformat_minor": 2
}
