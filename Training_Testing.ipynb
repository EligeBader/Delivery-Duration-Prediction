{
 "cells": [
  {
   "cell_type": "code",
   "execution_count": 22,
   "metadata": {},
   "outputs": [],
   "source": [
    "import pandas as pd\n",
    "import numpy as np\n",
    "import matplotlib.pyplot as plt\n",
    "import seaborn as sns\n",
    "\n",
    "from pathlib import Path\n",
    "data_path = Path('./data')\n",
    "\n",
    "from sklearn.linear_model import LinearRegression\n",
    "from sklearn.metrics import mean_squared_error, r2_score\n",
    "from sklearn.model_selection import train_test_split, cross_val_score, GridSearchCV, RandomizedSearchCV\n",
    "from sklearn.ensemble import RandomForestRegressor\n",
    "from sklearn.preprocessing import PolynomialFeatures, StandardScaler\n",
    "from sklearn.linear_model import LinearRegression, Ridge, Lasso\n",
    "from sklearn.pipeline import make_pipeline\n",
    "from xgboost import XGBRegressor\n",
    "import optuna\n",
    "from optuna.samplers import TPESampler\n",
    "\n",
    "# Custom MaskedArray class definition\n",
    "class MaskedArray(np.ma.MaskedArray):\n",
    "    pass\n",
    "\n",
    "from skopt import BayesSearchCV\n",
    "\n",
    "import pickle\n",
    "\n",
    "import warnings\n",
    "warnings.filterwarnings(\"ignore\")"
   ]
  },
  {
   "cell_type": "markdown",
   "metadata": {},
   "source": [
    "# Build and Test Regression Models"
   ]
  },
  {
   "cell_type": "code",
   "execution_count": 23,
   "metadata": {},
   "outputs": [
    {
     "data": {
      "application/vnd.microsoft.datawrangler.viewer.v0+json": {
       "columns": [
        {
         "name": "index",
         "rawType": "int64",
         "type": "integer"
        },
        {
         "name": "market_id",
         "rawType": "float64",
         "type": "float"
        },
        {
         "name": "created_at",
         "rawType": "object",
         "type": "string"
        },
        {
         "name": "actual_delivery_time",
         "rawType": "object",
         "type": "string"
        },
        {
         "name": "store_id",
         "rawType": "int64",
         "type": "integer"
        },
        {
         "name": "store_primary_category",
         "rawType": "float64",
         "type": "float"
        },
        {
         "name": "order_protocol",
         "rawType": "float64",
         "type": "float"
        },
        {
         "name": "total_items",
         "rawType": "int64",
         "type": "integer"
        },
        {
         "name": "subtotal",
         "rawType": "int64",
         "type": "integer"
        },
        {
         "name": "num_distinct_items",
         "rawType": "int64",
         "type": "integer"
        },
        {
         "name": "min_item_price",
         "rawType": "int64",
         "type": "integer"
        },
        {
         "name": "max_item_price",
         "rawType": "int64",
         "type": "integer"
        },
        {
         "name": "total_onshift_dashers",
         "rawType": "float64",
         "type": "float"
        },
        {
         "name": "total_busy_dashers",
         "rawType": "float64",
         "type": "float"
        },
        {
         "name": "total_outstanding_orders",
         "rawType": "float64",
         "type": "float"
        },
        {
         "name": "estimated_order_place_duration",
         "rawType": "int64",
         "type": "integer"
        },
        {
         "name": "estimated_store_to_consumer_driving_duration",
         "rawType": "float64",
         "type": "float"
        },
        {
         "name": "total_delivery_duration_seconds",
         "rawType": "float64",
         "type": "float"
        },
        {
         "name": "created_at_weekday",
         "rawType": "int64",
         "type": "integer"
        },
        {
         "name": "created_at_weekofyear",
         "rawType": "int64",
         "type": "integer"
        },
        {
         "name": "avg_item_price",
         "rawType": "float64",
         "type": "float"
        },
        {
         "name": "log_avg_item_price",
         "rawType": "float64",
         "type": "float"
        }
       ],
       "conversionMethod": "pd.DataFrame",
       "ref": "9749ea17-a0e8-4be1-96e6-8dc856d5aa30",
       "rows": [
        [
         "0",
         "1.0",
         "2015-02-06 22:24:17",
         "2015-02-06 23:27:16",
         "1845",
         "2870.7155555555555",
         "1.0",
         "4",
         "3441",
         "4",
         "557",
         "1239",
         "33.0",
         "14.0",
         "21.0",
         "446",
         "861.0",
         "3779.0",
         "4",
         "6",
         "860.25",
         "6.758384822327868"
        ],
        [
         "1",
         "2.0",
         "2015-02-10 21:49:25",
         "2015-02-10 22:56:29",
         "5477",
         "2989.596156430587",
         "2.0",
         "1",
         "1900",
         "1",
         "1400",
         "1400",
         "1.0",
         "2.0",
         "2.0",
         "446",
         "690.0",
         "4024.0",
         "1",
         "7",
         "1900.0",
         "7.550135342488429"
        ],
        [
         "2",
         "3.0",
         "2015-01-22 20:39:28",
         "2015-01-22 21:09:09",
         "5477",
         "2989.596156430587",
         "1.0",
         "1",
         "1900",
         "1",
         "1900",
         "1900",
         "1.0",
         "0.0",
         "0.0",
         "446",
         "690.0",
         "1781.0",
         "3",
         "4",
         "1900.0",
         "7.550135342488429"
        ],
        [
         "3",
         "3.0",
         "2015-02-03 21:21:45",
         "2015-02-03 22:13:00",
         "5477",
         "2989.596156430587",
         "1.0",
         "6",
         "6900",
         "5",
         "600",
         "1800",
         "1.0",
         "1.0",
         "2.0",
         "446",
         "289.0",
         "3075.0",
         "1",
         "6",
         "1150.0",
         "7.048386408721883"
        ],
        [
         "4",
         "3.0",
         "2015-02-15 02:40:36",
         "2015-02-15 03:20:26",
         "5477",
         "2989.596156430587",
         "1.0",
         "3",
         "3900",
         "3",
         "1100",
         "1600",
         "6.0",
         "6.0",
         "9.0",
         "446",
         "650.0",
         "2390.0",
         "6",
         "7",
         "1300.0",
         "7.170888478512505"
        ]
       ],
       "shape": {
        "columns": 21,
        "rows": 5
       }
      },
      "text/html": [
       "<div>\n",
       "<style scoped>\n",
       "    .dataframe tbody tr th:only-of-type {\n",
       "        vertical-align: middle;\n",
       "    }\n",
       "\n",
       "    .dataframe tbody tr th {\n",
       "        vertical-align: top;\n",
       "    }\n",
       "\n",
       "    .dataframe thead th {\n",
       "        text-align: right;\n",
       "    }\n",
       "</style>\n",
       "<table border=\"1\" class=\"dataframe\">\n",
       "  <thead>\n",
       "    <tr style=\"text-align: right;\">\n",
       "      <th></th>\n",
       "      <th>market_id</th>\n",
       "      <th>created_at</th>\n",
       "      <th>actual_delivery_time</th>\n",
       "      <th>store_id</th>\n",
       "      <th>store_primary_category</th>\n",
       "      <th>order_protocol</th>\n",
       "      <th>total_items</th>\n",
       "      <th>subtotal</th>\n",
       "      <th>num_distinct_items</th>\n",
       "      <th>min_item_price</th>\n",
       "      <th>...</th>\n",
       "      <th>total_onshift_dashers</th>\n",
       "      <th>total_busy_dashers</th>\n",
       "      <th>total_outstanding_orders</th>\n",
       "      <th>estimated_order_place_duration</th>\n",
       "      <th>estimated_store_to_consumer_driving_duration</th>\n",
       "      <th>total_delivery_duration_seconds</th>\n",
       "      <th>created_at_weekday</th>\n",
       "      <th>created_at_weekofyear</th>\n",
       "      <th>avg_item_price</th>\n",
       "      <th>log_avg_item_price</th>\n",
       "    </tr>\n",
       "  </thead>\n",
       "  <tbody>\n",
       "    <tr>\n",
       "      <th>0</th>\n",
       "      <td>1.0</td>\n",
       "      <td>2015-02-06 22:24:17</td>\n",
       "      <td>2015-02-06 23:27:16</td>\n",
       "      <td>1845</td>\n",
       "      <td>2870.715556</td>\n",
       "      <td>1.0</td>\n",
       "      <td>4</td>\n",
       "      <td>3441</td>\n",
       "      <td>4</td>\n",
       "      <td>557</td>\n",
       "      <td>...</td>\n",
       "      <td>33.0</td>\n",
       "      <td>14.0</td>\n",
       "      <td>21.0</td>\n",
       "      <td>446</td>\n",
       "      <td>861.0</td>\n",
       "      <td>3779.0</td>\n",
       "      <td>4</td>\n",
       "      <td>6</td>\n",
       "      <td>860.25</td>\n",
       "      <td>6.758385</td>\n",
       "    </tr>\n",
       "    <tr>\n",
       "      <th>1</th>\n",
       "      <td>2.0</td>\n",
       "      <td>2015-02-10 21:49:25</td>\n",
       "      <td>2015-02-10 22:56:29</td>\n",
       "      <td>5477</td>\n",
       "      <td>2989.596156</td>\n",
       "      <td>2.0</td>\n",
       "      <td>1</td>\n",
       "      <td>1900</td>\n",
       "      <td>1</td>\n",
       "      <td>1400</td>\n",
       "      <td>...</td>\n",
       "      <td>1.0</td>\n",
       "      <td>2.0</td>\n",
       "      <td>2.0</td>\n",
       "      <td>446</td>\n",
       "      <td>690.0</td>\n",
       "      <td>4024.0</td>\n",
       "      <td>1</td>\n",
       "      <td>7</td>\n",
       "      <td>1900.00</td>\n",
       "      <td>7.550135</td>\n",
       "    </tr>\n",
       "    <tr>\n",
       "      <th>2</th>\n",
       "      <td>3.0</td>\n",
       "      <td>2015-01-22 20:39:28</td>\n",
       "      <td>2015-01-22 21:09:09</td>\n",
       "      <td>5477</td>\n",
       "      <td>2989.596156</td>\n",
       "      <td>1.0</td>\n",
       "      <td>1</td>\n",
       "      <td>1900</td>\n",
       "      <td>1</td>\n",
       "      <td>1900</td>\n",
       "      <td>...</td>\n",
       "      <td>1.0</td>\n",
       "      <td>0.0</td>\n",
       "      <td>0.0</td>\n",
       "      <td>446</td>\n",
       "      <td>690.0</td>\n",
       "      <td>1781.0</td>\n",
       "      <td>3</td>\n",
       "      <td>4</td>\n",
       "      <td>1900.00</td>\n",
       "      <td>7.550135</td>\n",
       "    </tr>\n",
       "    <tr>\n",
       "      <th>3</th>\n",
       "      <td>3.0</td>\n",
       "      <td>2015-02-03 21:21:45</td>\n",
       "      <td>2015-02-03 22:13:00</td>\n",
       "      <td>5477</td>\n",
       "      <td>2989.596156</td>\n",
       "      <td>1.0</td>\n",
       "      <td>6</td>\n",
       "      <td>6900</td>\n",
       "      <td>5</td>\n",
       "      <td>600</td>\n",
       "      <td>...</td>\n",
       "      <td>1.0</td>\n",
       "      <td>1.0</td>\n",
       "      <td>2.0</td>\n",
       "      <td>446</td>\n",
       "      <td>289.0</td>\n",
       "      <td>3075.0</td>\n",
       "      <td>1</td>\n",
       "      <td>6</td>\n",
       "      <td>1150.00</td>\n",
       "      <td>7.048386</td>\n",
       "    </tr>\n",
       "    <tr>\n",
       "      <th>4</th>\n",
       "      <td>3.0</td>\n",
       "      <td>2015-02-15 02:40:36</td>\n",
       "      <td>2015-02-15 03:20:26</td>\n",
       "      <td>5477</td>\n",
       "      <td>2989.596156</td>\n",
       "      <td>1.0</td>\n",
       "      <td>3</td>\n",
       "      <td>3900</td>\n",
       "      <td>3</td>\n",
       "      <td>1100</td>\n",
       "      <td>...</td>\n",
       "      <td>6.0</td>\n",
       "      <td>6.0</td>\n",
       "      <td>9.0</td>\n",
       "      <td>446</td>\n",
       "      <td>650.0</td>\n",
       "      <td>2390.0</td>\n",
       "      <td>6</td>\n",
       "      <td>7</td>\n",
       "      <td>1300.00</td>\n",
       "      <td>7.170888</td>\n",
       "    </tr>\n",
       "  </tbody>\n",
       "</table>\n",
       "<p>5 rows × 21 columns</p>\n",
       "</div>"
      ],
      "text/plain": [
       "   market_id           created_at actual_delivery_time  store_id  \\\n",
       "0        1.0  2015-02-06 22:24:17  2015-02-06 23:27:16      1845   \n",
       "1        2.0  2015-02-10 21:49:25  2015-02-10 22:56:29      5477   \n",
       "2        3.0  2015-01-22 20:39:28  2015-01-22 21:09:09      5477   \n",
       "3        3.0  2015-02-03 21:21:45  2015-02-03 22:13:00      5477   \n",
       "4        3.0  2015-02-15 02:40:36  2015-02-15 03:20:26      5477   \n",
       "\n",
       "   store_primary_category  order_protocol  total_items  subtotal  \\\n",
       "0             2870.715556             1.0            4      3441   \n",
       "1             2989.596156             2.0            1      1900   \n",
       "2             2989.596156             1.0            1      1900   \n",
       "3             2989.596156             1.0            6      6900   \n",
       "4             2989.596156             1.0            3      3900   \n",
       "\n",
       "   num_distinct_items  min_item_price  ...  total_onshift_dashers  \\\n",
       "0                   4             557  ...                   33.0   \n",
       "1                   1            1400  ...                    1.0   \n",
       "2                   1            1900  ...                    1.0   \n",
       "3                   5             600  ...                    1.0   \n",
       "4                   3            1100  ...                    6.0   \n",
       "\n",
       "   total_busy_dashers  total_outstanding_orders  \\\n",
       "0                14.0                      21.0   \n",
       "1                 2.0                       2.0   \n",
       "2                 0.0                       0.0   \n",
       "3                 1.0                       2.0   \n",
       "4                 6.0                       9.0   \n",
       "\n",
       "   estimated_order_place_duration  \\\n",
       "0                             446   \n",
       "1                             446   \n",
       "2                             446   \n",
       "3                             446   \n",
       "4                             446   \n",
       "\n",
       "   estimated_store_to_consumer_driving_duration  \\\n",
       "0                                         861.0   \n",
       "1                                         690.0   \n",
       "2                                         690.0   \n",
       "3                                         289.0   \n",
       "4                                         650.0   \n",
       "\n",
       "   total_delivery_duration_seconds  created_at_weekday  created_at_weekofyear  \\\n",
       "0                           3779.0                   4                      6   \n",
       "1                           4024.0                   1                      7   \n",
       "2                           1781.0                   3                      4   \n",
       "3                           3075.0                   1                      6   \n",
       "4                           2390.0                   6                      7   \n",
       "\n",
       "   avg_item_price  log_avg_item_price  \n",
       "0          860.25            6.758385  \n",
       "1         1900.00            7.550135  \n",
       "2         1900.00            7.550135  \n",
       "3         1150.00            7.048386  \n",
       "4         1300.00            7.170888  \n",
       "\n",
       "[5 rows x 21 columns]"
      ]
     },
     "execution_count": 23,
     "metadata": {},
     "output_type": "execute_result"
    }
   ],
   "source": [
    "# Load Cleaned Data\n",
    "df = pd.read_csv(data_path/ 'cleaned_historical_data.csv')\n",
    "df.head()"
   ]
  },
  {
   "cell_type": "markdown",
   "metadata": {},
   "source": [
    "### Full model"
   ]
  },
  {
   "cell_type": "code",
   "execution_count": 24,
   "metadata": {},
   "outputs": [
    {
     "name": "stdout",
     "output_type": "stream",
     "text": [
      "X_train shape: (133800, 14)\n",
      "X_test shape: (57343, 14)\n",
      "y_train shape: (133800,)\n",
      "y_test shape: (57343,)\n"
     ]
    }
   ],
   "source": [
    "# Split the data into features and target variable\n",
    "X = df.drop(columns=['total_delivery_duration_seconds', 'created_at', 'actual_delivery_time', \n",
    "                     'total_onshift_dashers', 'total_outstanding_orders', \n",
    "                     'min_item_price', 'max_item_price'])\n",
    "y = df['total_delivery_duration_seconds']\n",
    "\n",
    "# Split the data into training and testing sets\n",
    "X_train, X_test, y_train, y_test = train_test_split(X, y, test_size=0.3, random_state=42)\n",
    "\n",
    "# Display the shapes of the training and testing sets\n",
    "print(f\"X_train shape: {X_train.shape}\")\n",
    "print(f\"X_test shape: {X_test.shape}\")\n",
    "print(f\"y_train shape: {y_train.shape}\")\n",
    "print(f\"y_test shape: {y_test.shape}\")"
   ]
  },
  {
   "cell_type": "markdown",
   "metadata": {},
   "source": [
    "### Linear Regression"
   ]
  },
  {
   "cell_type": "code",
   "execution_count": 25,
   "metadata": {},
   "outputs": [],
   "source": [
    "# Create a pipeline that scales the features and then applies Linear regression\n",
    "linear_pipeline = make_pipeline(StandardScaler(), LinearRegression())\n",
    "\n",
    "# Define the parameter grid for GridSearchCV (no parameters to tune for Linear Regression)\n",
    "param_grid_linear = {\n",
    "    'linearregression__fit_intercept': [True, False]\n",
    "}\n",
    "\n",
    "# Initialize GridSearchCV with the Linear pipeline and parameter grid\n",
    "grid_search_linear = GridSearchCV(linear_pipeline, param_grid_linear, cv=3, scoring='neg_mean_squared_error')\n",
    "\n",
    "# Fit the model on the training data\n",
    "grid_search_linear.fit(X_train, y_train)\n",
    "\n",
    "# Get the best model (no parameters to tune for Linear Regression)\n",
    "best_linear_model = grid_search_linear.best_estimator_\n",
    "\n",
    "# Save the Linear Regression model\n",
    "with open(data_path / 'linear_regression_model.pkl', 'wb') as file:\n",
    "    pickle.dump(best_linear_model, file)\n"
   ]
  },
  {
   "cell_type": "code",
   "execution_count": 26,
   "metadata": {},
   "outputs": [
    {
     "name": "stdout",
     "output_type": "stream",
     "text": [
      "Linear Regression - Root Mean Squared Error (RMSE): 820.7037562303215\n",
      "Linear Regression - R^2 Score: 0.14528335434785\n"
     ]
    }
   ],
   "source": [
    "# Predict on the test data\n",
    "y_pred_ridge = best_linear_model.predict(X_test)\n",
    "\n",
    "# Calculate the RMSE and R^2 score\n",
    "rmse_ridge = np.sqrt(mean_squared_error(y_test, y_pred_ridge))\n",
    "r2_ridge = r2_score(y_test, y_pred_ridge)\n",
    "\n",
    "print(f\"Linear Regression - Root Mean Squared Error (RMSE): {rmse_ridge}\")\n",
    "print(f\"Linear Regression - R^2 Score: {r2_ridge}\")"
   ]
  },
  {
   "cell_type": "markdown",
   "metadata": {},
   "source": [
    "### Polynomial Regression"
   ]
  },
  {
   "cell_type": "code",
   "execution_count": 27,
   "metadata": {},
   "outputs": [],
   "source": [
    "# Define the degree of the polynomial features\n",
    "degrees = [2, 3, 4]\n",
    "\n",
    "# Create a pipeline that first transforms the features to polynomial features, scales them, and then applies Ridge regression\n",
    "pipeline = make_pipeline(PolynomialFeatures(), StandardScaler(), Ridge())\n",
    "\n",
    "# Use Grid Search to find the optimal degree and regularization strength\n",
    "param_grid = {\n",
    "    'polynomialfeatures__degree': degrees,\n",
    "    'ridge__alpha': [0.1, 1.0, 10.0]\n",
    "}\n",
    "grid_search = GridSearchCV(pipeline, param_grid, cv=3, scoring='neg_mean_squared_error')\n",
    "\n",
    "# Fit the model on the training data\n",
    "grid_search.fit(X_train, y_train)\n",
    "\n",
    "# Get the best parameters and model\n",
    "best_params = grid_search.best_params_\n",
    "best_model = grid_search.best_estimator_\n",
    "\n",
    "\n",
    "# save the model\n",
    "with open(data_path / 'polynomial_regression_model.pkl', 'wb') as file:\n",
    "    pickle.dump(best_model, file)\n"
   ]
  },
  {
   "cell_type": "code",
   "execution_count": 28,
   "metadata": {},
   "outputs": [
    {
     "name": "stdout",
     "output_type": "stream",
     "text": [
      "Optimal Degree: 2\n",
      "Optimal Alpha: 10.0\n",
      "Polynomial Regression - Root Mean Squared Error (RMSE): 807.1329568439619\n",
      "Polynomial Regression - R^2 Score: 0.1733160969419173\n"
     ]
    }
   ],
   "source": [
    "# Predict on the test data\n",
    "y_pred_poly = best_model.predict(X_test)\n",
    "\n",
    "# Calculate the RMSE and R^2 score\n",
    "rmse_poly = np.sqrt(mean_squared_error(y_test, y_pred_poly))\n",
    "r2_poly = r2_score(y_test, y_pred_poly)\n",
    "\n",
    "print(f\"Optimal Degree: {best_params['polynomialfeatures__degree']}\")\n",
    "print(f\"Optimal Alpha: {best_params['ridge__alpha']}\")\n",
    "print(f\"Polynomial Regression - Root Mean Squared Error (RMSE): {rmse_poly}\")\n",
    "print(f\"Polynomial Regression - R^2 Score: {r2_poly}\")"
   ]
  },
  {
   "cell_type": "markdown",
   "metadata": {},
   "source": [
    "### Random Forest Regressor"
   ]
  },
  {
   "cell_type": "code",
   "execution_count": 29,
   "metadata": {},
   "outputs": [],
   "source": [
    "# Define the parameter grid for RandomizedSearchCV\n",
    "param_distributions_rf = {\n",
    "    'n_estimators': [100, 200],\n",
    "    'max_depth': [None, 10, 20],\n",
    "    'min_samples_split': [2, 5],\n",
    "    'min_samples_leaf': [1, 2],\n",
    "    'bootstrap': [True, False]\n",
    "}\n",
    "\n",
    "# Initialize RandomizedSearchCV with the Random Forest Regressor and parameter distributions\n",
    "random_search_rf = RandomizedSearchCV(RandomForestRegressor(random_state=42), param_distributions_rf, n_iter=10, cv=3, scoring='neg_mean_squared_error', n_jobs=-1, random_state=42)\n",
    "\n",
    "# Fit the model on the training data\n",
    "random_search_rf.fit(X_train, y_train)\n",
    "\n",
    "# Get the best parameters and model\n",
    "best_params_rf = random_search_rf.best_params_\n",
    "best_rf_model = random_search_rf.best_estimator_\n",
    "\n",
    "# Save the best Random Forest model\n",
    "with open(data_path / 'best_random_forest_regression_model.pkl', 'wb') as file:\n",
    "    pickle.dump(best_rf_model, file)"
   ]
  },
  {
   "cell_type": "code",
   "execution_count": 30,
   "metadata": {},
   "outputs": [
    {
     "name": "stdout",
     "output_type": "stream",
     "text": [
      "Best Parameters for Random Forest: {'n_estimators': 200, 'min_samples_split': 5, 'min_samples_leaf': 1, 'max_depth': 20, 'bootstrap': True}\n",
      "Best Random Forest Regression - Root Mean Squared Error (RMSE): 788.3725102288266\n",
      "Best Random Forest Regression - R^2 Score: 0.2112992303983371\n"
     ]
    }
   ],
   "source": [
    "# Predict on the test data\n",
    "y_pred_best_rf = best_rf_model.predict(X_test)\n",
    "\n",
    "# Calculate the RMSE and R^2 score\n",
    "rmse_best_rf = np.sqrt(mean_squared_error(y_test, y_pred_best_rf))\n",
    "r2_best_rf = r2_score(y_test, y_pred_best_rf)\n",
    "\n",
    "print(f\"Best Parameters for Random Forest: {best_params_rf}\")\n",
    "print(f\"Best Random Forest Regression - Root Mean Squared Error (RMSE): {rmse_best_rf}\")\n",
    "print(f\"Best Random Forest Regression - R^2 Score: {r2_best_rf}\")"
   ]
  },
  {
   "cell_type": "markdown",
   "metadata": {},
   "source": [
    "### Lasso Model"
   ]
  },
  {
   "cell_type": "code",
   "execution_count": 31,
   "metadata": {},
   "outputs": [],
   "source": [
    "# Create a pipeline that scales the features and then applies Lasso regression\n",
    "lasso_pipeline = make_pipeline(StandardScaler(), Lasso())\n",
    "\n",
    "# Define the parameter grid for GridSearchCV\n",
    "param_grid_lasso = {\n",
    "    'lasso__alpha': [0.01, 0.1, 1.0, 10.0, 100.0],\n",
    "    'lasso__fit_intercept': [True, False]\n",
    "}\n",
    "\n",
    "# Initialize GridSearchCV with the Lasso pipeline and parameter grid\n",
    "grid_search_lasso = GridSearchCV(lasso_pipeline, param_grid_lasso, cv=5, scoring='neg_mean_squared_error')\n",
    "\n",
    "# Fit the model on the training data\n",
    "grid_search_lasso.fit(X_train, y_train)\n",
    "\n",
    "# Get the best model\n",
    "best_lasso_model = grid_search_lasso.best_estimator_\n",
    "\n",
    "# Save the Lasso Regression model\n",
    "with open(data_path / 'lasso_regression_model.pkl', 'wb') as file:\n",
    "    pickle.dump(best_lasso_model, file)\n"
   ]
  },
  {
   "cell_type": "code",
   "execution_count": 32,
   "metadata": {},
   "outputs": [
    {
     "name": "stdout",
     "output_type": "stream",
     "text": [
      "Lasso Regression - Root Mean Squared Error (RMSE): 820.7038158485756\n",
      "Lasso Regression - R^2 Score: 0.1452832301697512\n"
     ]
    }
   ],
   "source": [
    "# Predict on the test data\n",
    "y_pred_lasso = best_lasso_model.predict(X_test)\n",
    "\n",
    "# Calculate the RMSE and R^2 score\n",
    "rmse_lasso = np.sqrt(mean_squared_error(y_test, y_pred_lasso))\n",
    "r2_lasso = r2_score(y_test, y_pred_lasso)\n",
    "\n",
    "print(f\"Lasso Regression - Root Mean Squared Error (RMSE): {rmse_lasso}\")\n",
    "print(f\"Lasso Regression - R^2 Score: {r2_lasso}\")"
   ]
  },
  {
   "cell_type": "markdown",
   "metadata": {},
   "source": [
    "### XGB Regressor"
   ]
  },
  {
   "cell_type": "code",
   "execution_count": 33,
   "metadata": {},
   "outputs": [
    {
     "name": "stderr",
     "output_type": "stream",
     "text": [
      "[I 2025-02-28 13:20:53,855] A new study created in memory with name: no-name-27b0172c-8475-488b-b56a-3abb23a1c7e6\n"
     ]
    },
    {
     "name": "stderr",
     "output_type": "stream",
     "text": [
      "[I 2025-02-28 13:20:56,392] Trial 0 finished with value: -608432.4819602958 and parameters: {'n_estimators': 166, 'max_depth': 10, 'min_child_weight': 3, 'learning_rate': 0.015568919893363965, 'subsample': 0.6590284547766372, 'colsample_bytree': 0.7575133888981085, 'gamma': 0.0033029924498792435, 'reg_alpha': 0.06153127345810638, 'reg_lambda': 0.026063505404329633, 'bootstrap': True}. Best is trial 0 with value: -608432.4819602958.\n",
      "[I 2025-02-28 13:20:58,422] Trial 1 finished with value: -720343.6455668062 and parameters: {'n_estimators': 135, 'max_depth': 10, 'min_child_weight': 1, 'learning_rate': 0.275456202624095, 'subsample': 0.6311616742171773, 'colsample_bytree': 0.9800235129653788, 'gamma': 7.80914954170921e-06, 'reg_alpha': 0.15977535840549126, 'reg_lambda': 0.04836784924680834, 'bootstrap': False}. Best is trial 0 with value: -608432.4819602958.\n",
      "[I 2025-02-28 13:20:59,986] Trial 2 finished with value: -621998.9418950423 and parameters: {'n_estimators': 107, 'max_depth': 10, 'min_child_weight': 5, 'learning_rate': 0.01755204413810999, 'subsample': 0.7735799406006951, 'colsample_bytree': 0.7709394413867424, 'gamma': 0.13028111465484193, 'reg_alpha': 0.36472549954692873, 'reg_lambda': 5.835662867587334e-06, 'bootstrap': False}. Best is trial 0 with value: -608432.4819602958.\n",
      "[I 2025-02-28 13:21:27,314] Trial 3 finished with value: -644171.8645011811 and parameters: {'n_estimators': 200, 'max_depth': 20, 'min_child_weight': 4, 'learning_rate': 0.09598006980387758, 'subsample': 0.826259820195609, 'colsample_bytree': 0.8195794544241376, 'gamma': 5.0951701438990735e-06, 'reg_alpha': 1.8244398257616703e-07, 'reg_lambda': 0.001451634374410924, 'bootstrap': True}. Best is trial 0 with value: -608432.4819602958.\n",
      "[I 2025-02-28 13:21:28,903] Trial 4 finished with value: -636237.4944250721 and parameters: {'n_estimators': 105, 'max_depth': 10, 'min_child_weight': 5, 'learning_rate': 0.012818929930689189, 'subsample': 0.6958459311727564, 'colsample_bytree': 0.9445159029565904, 'gamma': 0.00029130441276072294, 'reg_alpha': 1.2325214267256075e-08, 'reg_lambda': 0.0012768513978484966, 'bootstrap': True}. Best is trial 0 with value: -608432.4819602958.\n",
      "[I 2025-02-28 13:22:37,400] Trial 5 finished with value: -693301.7832755763 and parameters: {'n_estimators': 146, 'max_depth': 20, 'min_child_weight': 1, 'learning_rate': 0.15324852761593252, 'subsample': 0.7350416445439311, 'colsample_bytree': 0.9007545957256551, 'gamma': 4.413067059653087e-07, 'reg_alpha': 0.00219578022793016, 'reg_lambda': 0.006695019226920621, 'bootstrap': False}. Best is trial 0 with value: -608432.4819602958.\n",
      "[I 2025-02-28 13:22:39,233] Trial 6 finished with value: -596266.3585389592 and parameters: {'n_estimators': 163, 'max_depth': 10, 'min_child_weight': 5, 'learning_rate': 0.09018347556635371, 'subsample': 0.6588435692568742, 'colsample_bytree': 0.5424208843764009, 'gamma': 0.00429189909159109, 'reg_alpha': 6.342039202105672e-07, 'reg_lambda': 0.00015658061435147152, 'bootstrap': False}. Best is trial 6 with value: -596266.3585389592.\n",
      "[I 2025-02-28 13:22:40,948] Trial 7 finished with value: -593325.5319484501 and parameters: {'n_estimators': 143, 'max_depth': 10, 'min_child_weight': 5, 'learning_rate': 0.10815432856929379, 'subsample': 0.8057204928950934, 'colsample_bytree': 0.7528464764341214, 'gamma': 6.739243430521404e-08, 'reg_alpha': 0.008585413774913684, 'reg_lambda': 7.573581691289029e-05, 'bootstrap': False}. Best is trial 7 with value: -593325.5319484501.\n",
      "[I 2025-02-28 13:22:43,055] Trial 8 finished with value: -587376.4456754092 and parameters: {'n_estimators': 136, 'max_depth': 10, 'min_child_weight': 5, 'learning_rate': 0.05361685738884801, 'subsample': 0.8331036351313654, 'colsample_bytree': 0.5914148246312378, 'gamma': 0.11230211904963493, 'reg_alpha': 1.4722189136051959e-08, 'reg_lambda': 0.017429975357555902, 'bootstrap': True}. Best is trial 8 with value: -587376.4456754092.\n",
      "[I 2025-02-28 13:23:06,882] Trial 9 finished with value: -621543.7190542611 and parameters: {'n_estimators': 113, 'max_depth': 20, 'min_child_weight': 4, 'learning_rate': 0.02355008299906723, 'subsample': 0.8612597395495514, 'colsample_bytree': 0.6291544887016414, 'gamma': 0.003201797966959276, 'reg_alpha': 0.2125325005204513, 'reg_lambda': 2.1986123244681236e-06, 'bootstrap': True}. Best is trial 8 with value: -587376.4456754092.\n",
      "[I 2025-02-28 13:23:07,828] Trial 10 finished with value: -595554.0595984336 and parameters: {'n_estimators': 192, 'max_depth': None, 'min_child_weight': 3, 'learning_rate': 0.04315844105973282, 'subsample': 0.9848267575682599, 'colsample_bytree': 0.6335930211091216, 'gamma': 0.3392406885807427, 'reg_alpha': 3.651355238914367e-05, 'reg_lambda': 1.0043757219957857e-08, 'bootstrap': True}. Best is trial 8 with value: -587376.4456754092.\n",
      "[I 2025-02-28 13:23:08,588] Trial 11 finished with value: -606107.4315273736 and parameters: {'n_estimators': 132, 'max_depth': None, 'min_child_weight': 4, 'learning_rate': 0.04135867319065164, 'subsample': 0.5227697965736524, 'colsample_bytree': 0.6533985075129158, 'gamma': 2.00014378526113e-08, 'reg_alpha': 0.0005486067393629197, 'reg_lambda': 0.5723900072599079, 'bootstrap': False}. Best is trial 8 with value: -587376.4456754092.\n",
      "[I 2025-02-28 13:23:10,381] Trial 12 finished with value: -587778.9361953817 and parameters: {'n_estimators': 129, 'max_depth': 10, 'min_child_weight': 5, 'learning_rate': 0.08159793497504353, 'subsample': 0.9089134747421763, 'colsample_bytree': 0.5042767378596273, 'gamma': 1.439750762337327e-08, 'reg_alpha': 2.742973845679122e-05, 'reg_lambda': 1.1212263109099295e-05, 'bootstrap': False}. Best is trial 8 with value: -587376.4456754092.\n",
      "[I 2025-02-28 13:23:12,336] Trial 13 finished with value: -590391.8791043165 and parameters: {'n_estimators': 119, 'max_depth': 10, 'min_child_weight': 2, 'learning_rate': 0.06509916448752004, 'subsample': 0.9136584984764734, 'colsample_bytree': 0.5040058997866124, 'gamma': 3.191733842671562e-05, 'reg_alpha': 2.5561851220222934e-05, 'reg_lambda': 2.3318787554485575e-07, 'bootstrap': True}. Best is trial 8 with value: -587376.4456754092.\n",
      "[I 2025-02-28 13:23:14,283] Trial 14 finished with value: -592110.3801408723 and parameters: {'n_estimators': 125, 'max_depth': 10, 'min_child_weight': 4, 'learning_rate': 0.040408744226906206, 'subsample': 0.9304969390695594, 'colsample_bytree': 0.5835999748757874, 'gamma': 0.9027085415341778, 'reg_alpha': 2.264934773665547e-06, 'reg_lambda': 2.8243793668513713e-05, 'bootstrap': False}. Best is trial 8 with value: -587376.4456754092.\n",
      "[I 2025-02-28 13:23:15,282] Trial 15 finished with value: -612446.3967051154 and parameters: {'n_estimators': 169, 'max_depth': None, 'min_child_weight': 5, 'learning_rate': 0.028307171249266294, 'subsample': 0.8880781371004606, 'colsample_bytree': 0.5667440514113958, 'gamma': 0.03470759119638747, 'reg_alpha': 1.0980209093646621e-08, 'reg_lambda': 0.612761313501798, 'bootstrap': True}. Best is trial 8 with value: -587376.4456754092.\n",
      "[I 2025-02-28 13:23:17,374] Trial 16 finished with value: -611788.3886578649 and parameters: {'n_estimators': 155, 'max_depth': 10, 'min_child_weight': 2, 'learning_rate': 0.17377831041394726, 'subsample': 0.9833169629956701, 'colsample_bytree': 0.6698106292990863, 'gamma': 4.6364218618075723e-07, 'reg_alpha': 3.828496320849902e-06, 'reg_lambda': 4.6290890410475135e-07, 'bootstrap': False}. Best is trial 8 with value: -587376.4456754092.\n",
      "[I 2025-02-28 13:23:19,228] Trial 17 finished with value: -589615.1688885967 and parameters: {'n_estimators': 130, 'max_depth': 10, 'min_child_weight': 4, 'learning_rate': 0.06492933688830822, 'subsample': 0.8405751253662531, 'colsample_bytree': 0.5049152957986781, 'gamma': 0.0001857159672285219, 'reg_alpha': 1.6774370101202262e-07, 'reg_lambda': 0.0010016715708515938, 'bootstrap': True}. Best is trial 8 with value: -587376.4456754092.\n",
      "[I 2025-02-28 13:23:20,228] Trial 18 finished with value: -581776.1319329976 and parameters: {'n_estimators': 178, 'max_depth': None, 'min_child_weight': 3, 'learning_rate': 0.1468310887308353, 'subsample': 0.9203598338033588, 'colsample_bytree': 0.5914770687630533, 'gamma': 0.02463490134988308, 'reg_alpha': 0.00044033590948701676, 'reg_lambda': 0.07105711528766569, 'bootstrap': True}. Best is trial 18 with value: -581776.1319329976.\n",
      "[I 2025-02-28 13:23:21,202] Trial 19 finished with value: -602699.8010117665 and parameters: {'n_estimators': 177, 'max_depth': None, 'min_child_weight': 2, 'learning_rate': 0.27935278047714696, 'subsample': 0.7615641249536994, 'colsample_bytree': 0.7093212107221172, 'gamma': 0.03560517947637026, 'reg_alpha': 0.0003191653379534306, 'reg_lambda': 0.03500236609554825, 'bootstrap': True}. Best is trial 18 with value: -581776.1319329976.\n",
      "[I 2025-02-28 13:23:22,186] Trial 20 finished with value: -578936.8226148742 and parameters: {'n_estimators': 181, 'max_depth': None, 'min_child_weight': 3, 'learning_rate': 0.16733728927884822, 'subsample': 0.958668988427104, 'colsample_bytree': 0.8372972064318602, 'gamma': 0.018374484036260772, 'reg_alpha': 0.010087538415177557, 'reg_lambda': 0.20940138734403177, 'bootstrap': True}. Best is trial 20 with value: -578936.8226148742.\n",
      "[I 2025-02-28 13:23:23,181] Trial 21 finished with value: -577994.8946251901 and parameters: {'n_estimators': 183, 'max_depth': None, 'min_child_weight': 3, 'learning_rate': 0.16000818999216537, 'subsample': 0.9538066998941839, 'colsample_bytree': 0.8740166351055468, 'gamma': 0.020190246379265173, 'reg_alpha': 0.00953780734347367, 'reg_lambda': 0.16786627891658756, 'bootstrap': True}. Best is trial 21 with value: -577994.8946251901.\n",
      "[I 2025-02-28 13:23:24,175] Trial 22 finished with value: -580133.9007690276 and parameters: {'n_estimators': 183, 'max_depth': None, 'min_child_weight': 3, 'learning_rate': 0.1749640455022899, 'subsample': 0.9573472503936488, 'colsample_bytree': 0.8568414076690379, 'gamma': 0.011139736978734377, 'reg_alpha': 0.01874096458112084, 'reg_lambda': 0.17540686203529196, 'bootstrap': True}. Best is trial 21 with value: -577994.8946251901.\n",
      "[I 2025-02-28 13:23:25,246] Trial 23 finished with value: -581980.6163328007 and parameters: {'n_estimators': 186, 'max_depth': None, 'min_child_weight': 3, 'learning_rate': 0.19599858821928404, 'subsample': 0.95642420146821, 'colsample_bytree': 0.8423162431130439, 'gamma': 0.0008951535806178783, 'reg_alpha': 0.015767616135374217, 'reg_lambda': 0.2828646753335014, 'bootstrap': True}. Best is trial 21 with value: -577994.8946251901.\n",
      "[I 2025-02-28 13:23:26,283] Trial 24 finished with value: -583563.2896358544 and parameters: {'n_estimators': 185, 'max_depth': None, 'min_child_weight': 2, 'learning_rate': 0.22057478939174482, 'subsample': 0.9979131326748685, 'colsample_bytree': 0.8557980260777188, 'gamma': 0.005098356495193448, 'reg_alpha': 0.019062762555996423, 'reg_lambda': 0.1623574899701238, 'bootstrap': True}. Best is trial 21 with value: -577994.8946251901.\n",
      "[I 2025-02-28 13:23:27,517] Trial 25 finished with value: -578729.1390358391 and parameters: {'n_estimators': 200, 'max_depth': None, 'min_child_weight': 3, 'learning_rate': 0.12449226243929692, 'subsample': 0.8784869466596155, 'colsample_bytree': 0.8983504294164811, 'gamma': 0.011459928726733444, 'reg_alpha': 0.00544762564995151, 'reg_lambda': 0.0057425540082023715, 'bootstrap': True}. Best is trial 21 with value: -577994.8946251901.\n",
      "[I 2025-02-28 13:23:28,737] Trial 26 finished with value: -579854.4281500697 and parameters: {'n_estimators': 199, 'max_depth': None, 'min_child_weight': 3, 'learning_rate': 0.12678424766386015, 'subsample': 0.8739081384004371, 'colsample_bytree': 0.9152000985968859, 'gamma': 0.0006967640303483625, 'reg_alpha': 0.004102919208424375, 'reg_lambda': 0.006023964737443458, 'bootstrap': True}. Best is trial 21 with value: -577994.8946251901.\n",
      "[I 2025-02-28 13:23:29,911] Trial 27 finished with value: -579534.4086925768 and parameters: {'n_estimators': 192, 'max_depth': None, 'min_child_weight': 2, 'learning_rate': 0.11485916007906374, 'subsample': 0.9482149924478526, 'colsample_bytree': 0.8023548471068196, 'gamma': 0.092968683166034, 'reg_alpha': 0.8674570094690328, 'reg_lambda': 0.005007918240730617, 'bootstrap': True}. Best is trial 21 with value: -577994.8946251901.\n",
      "[I 2025-02-28 13:23:30,989] Trial 28 finished with value: -587663.4330372234 and parameters: {'n_estimators': 175, 'max_depth': None, 'min_child_weight': 3, 'learning_rate': 0.21902644179610914, 'subsample': 0.896518398674793, 'colsample_bytree': 0.8882361256353212, 'gamma': 0.0008654566345770117, 'reg_alpha': 0.0017910269171550032, 'reg_lambda': 0.0003913972571786802, 'bootstrap': True}. Best is trial 21 with value: -577994.8946251901.\n",
      "[I 2025-02-28 13:23:31,928] Trial 29 finished with value: -587240.9582828169 and parameters: {'n_estimators': 161, 'max_depth': None, 'min_child_weight': 3, 'learning_rate': 0.13172009623115616, 'subsample': 0.5793498964171107, 'colsample_bytree': 0.9980206281742368, 'gamma': 0.9220714939069566, 'reg_alpha': 0.07453648510827797, 'reg_lambda': 0.016916660212262492, 'bootstrap': True}. Best is trial 21 with value: -577994.8946251901.\n",
      "[I 2025-02-28 13:23:32,918] Trial 30 finished with value: -583463.190969619 and parameters: {'n_estimators': 170, 'max_depth': None, 'min_child_weight': 2, 'learning_rate': 0.07443669056324494, 'subsample': 0.8021260701106363, 'colsample_bytree': 0.9468682747101164, 'gamma': 7.692683882898791e-05, 'reg_alpha': 0.049937386154164515, 'reg_lambda': 0.878414377992606, 'bootstrap': True}. Best is trial 21 with value: -577994.8946251901.\n",
      "[I 2025-02-28 13:23:34,002] Trial 31 finished with value: -580771.7543661322 and parameters: {'n_estimators': 193, 'max_depth': None, 'min_child_weight': 2, 'learning_rate': 0.11631404936945934, 'subsample': 0.9399448404278566, 'colsample_bytree': 0.7976219966336459, 'gamma': 0.08741987962679229, 'reg_alpha': 0.8595116710581217, 'reg_lambda': 0.007658505261929391, 'bootstrap': True}. Best is trial 21 with value: -577994.8946251901.\n",
      "[I 2025-02-28 13:23:34,937] Trial 32 finished with value: -588327.362538306 and parameters: {'n_estimators': 192, 'max_depth': None, 'min_child_weight': 1, 'learning_rate': 0.25342980745538635, 'subsample': 0.9707106671035127, 'colsample_bytree': 0.7840879395503871, 'gamma': 0.014001724081531568, 'reg_alpha': 0.062483876275299624, 'reg_lambda': 0.07108404459714064, 'bootstrap': True}. Best is trial 21 with value: -577994.8946251901.\n",
      "[I 2025-02-28 13:23:35,909] Trial 33 finished with value: -579671.1193395494 and parameters: {'n_estimators': 195, 'max_depth': None, 'min_child_weight': 2, 'learning_rate': 0.10711045806937039, 'subsample': 0.9433805307923098, 'colsample_bytree': 0.730273497457284, 'gamma': 0.23384545714154864, 'reg_alpha': 0.6592561944999121, 'reg_lambda': 0.004339144415198901, 'bootstrap': True}. Best is trial 21 with value: -577994.8946251901.\n",
      "[I 2025-02-28 13:24:09,813] Trial 34 finished with value: -670034.0123850717 and parameters: {'n_estimators': 181, 'max_depth': 20, 'min_child_weight': 3, 'learning_rate': 0.15299121678522234, 'subsample': 0.870689833953481, 'colsample_bytree': 0.8184815704275199, 'gamma': 0.0024713443248387578, 'reg_alpha': 0.00010304682513280765, 'reg_lambda': 0.12889239089074034, 'bootstrap': True}. Best is trial 21 with value: -577994.8946251901.\n",
      "[I 2025-02-28 13:24:10,763] Trial 35 finished with value: -598412.5763716107 and parameters: {'n_estimators': 188, 'max_depth': None, 'min_child_weight': 1, 'learning_rate': 0.29681395548617606, 'subsample': 0.9569239007823938, 'colsample_bytree': 0.8783520008328121, 'gamma': 0.08839755040624987, 'reg_alpha': 0.2489237303213674, 'reg_lambda': 0.002587149380836537, 'bootstrap': True}. Best is trial 21 with value: -577994.8946251901.\n",
      "[I 2025-02-28 13:24:11,680] Trial 36 finished with value: -580242.4676638986 and parameters: {'n_estimators': 197, 'max_depth': None, 'min_child_weight': 4, 'learning_rate': 0.188620623979745, 'subsample': 0.9955731589805856, 'colsample_bytree': 0.924407957429618, 'gamma': 0.012115181802349195, 'reg_alpha': 0.0011922101182782517, 'reg_lambda': 0.00048237359326013364, 'bootstrap': True}. Best is trial 21 with value: -577994.8946251901.\n",
      "[I 2025-02-28 13:24:44,691] Trial 37 finished with value: -653348.7966220111 and parameters: {'n_estimators': 188, 'max_depth': 20, 'min_child_weight': 3, 'learning_rate': 0.091308635164854, 'subsample': 0.7191677877327372, 'colsample_bytree': 0.9540956914920014, 'gamma': 0.31486198491940437, 'reg_alpha': 0.005356732928004288, 'reg_lambda': 0.020633715004154233, 'bootstrap': True}. Best is trial 21 with value: -577994.8946251901.\n",
      "[I 2025-02-28 13:24:45,537] Trial 38 finished with value: -580327.5793157206 and parameters: {'n_estimators': 199, 'max_depth': None, 'min_child_weight': 2, 'learning_rate': 0.13878163821988712, 'subsample': 0.8564280893047227, 'colsample_bytree': 0.8237383750025348, 'gamma': 0.04887642742967412, 'reg_alpha': 0.08178432985720382, 'reg_lambda': 0.04490862775287215, 'bootstrap': True}. Best is trial 21 with value: -577994.8946251901.\n",
      "[I 2025-02-28 13:24:46,353] Trial 39 finished with value: -646663.2146602962 and parameters: {'n_estimators': 172, 'max_depth': None, 'min_child_weight': 3, 'learning_rate': 0.010301032698501498, 'subsample': 0.8135058580615766, 'colsample_bytree': 0.8018932343388516, 'gamma': 1.347098425894757e-05, 'reg_alpha': 0.0001371021557367275, 'reg_lambda': 0.3014062069048518, 'bootstrap': True}. Best is trial 21 with value: -577994.8946251901.\n",
      "[I 2025-02-28 13:26:21,241] Trial 40 finished with value: -661754.503238918 and parameters: {'n_estimators': 164, 'max_depth': 20, 'min_child_weight': 1, 'learning_rate': 0.10120456859914101, 'subsample': 0.7865625203130953, 'colsample_bytree': 0.8632156846544481, 'gamma': 0.0017712093417462846, 'reg_alpha': 0.010350181491106648, 'reg_lambda': 9.400569347889858e-05, 'bootstrap': True}. Best is trial 21 with value: -577994.8946251901.\n",
      "[I 2025-02-28 13:26:21,914] Trial 41 finished with value: -578319.1049582883 and parameters: {'n_estimators': 194, 'max_depth': None, 'min_child_weight': 2, 'learning_rate': 0.10647799276277205, 'subsample': 0.94174959317919, 'colsample_bytree': 0.7224589801237743, 'gamma': 0.31344242834164876, 'reg_alpha': 0.39887720725769504, 'reg_lambda': 0.004922556701788814, 'bootstrap': True}. Best is trial 21 with value: -577994.8946251901.\n",
      "[I 2025-02-28 13:26:22,614] Trial 42 finished with value: -588435.444278465 and parameters: {'n_estimators': 190, 'max_depth': None, 'min_child_weight': 2, 'learning_rate': 0.23148043042939573, 'subsample': 0.8983726556249709, 'colsample_bytree': 0.7624218986856499, 'gamma': 0.18041901264668642, 'reg_alpha': 0.429000332314723, 'reg_lambda': 0.01082254118199099, 'bootstrap': True}. Best is trial 21 with value: -577994.8946251901.\n",
      "[I 2025-02-28 13:26:23,289] Trial 43 finished with value: -579343.5807171897 and parameters: {'n_estimators': 184, 'max_depth': None, 'min_child_weight': 2, 'learning_rate': 0.11812359859946242, 'subsample': 0.9395481006170214, 'colsample_bytree': 0.6974697608907385, 'gamma': 0.006933259677824819, 'reg_alpha': 0.15967370053270394, 'reg_lambda': 0.0017550419757768445, 'bootstrap': True}. Best is trial 21 with value: -577994.8946251901.\n",
      "[I 2025-02-28 13:26:23,955] Trial 44 finished with value: -582486.486972419 and parameters: {'n_estimators': 181, 'max_depth': None, 'min_child_weight': 3, 'learning_rate': 0.16409178256287976, 'subsample': 0.9261234691680448, 'colsample_bytree': 0.6964472141073743, 'gamma': 0.00764385405712299, 'reg_alpha': 0.03078902448796892, 'reg_lambda': 0.00185430137516978, 'bootstrap': True}. Best is trial 21 with value: -577994.8946251901.\n",
      "[I 2025-02-28 13:26:24,688] Trial 45 finished with value: -581445.0297463869 and parameters: {'n_estimators': 200, 'max_depth': None, 'min_child_weight': 4, 'learning_rate': 0.08860885788793395, 'subsample': 0.844648680689956, 'colsample_bytree': 0.7327118816840568, 'gamma': 0.01941940278991328, 'reg_alpha': 0.15390816027632465, 'reg_lambda': 0.00027078590502025454, 'bootstrap': False}. Best is trial 21 with value: -577994.8946251901.\n",
      "[I 2025-02-28 13:26:25,296] Trial 46 finished with value: -595265.3915524124 and parameters: {'n_estimators': 152, 'max_depth': None, 'min_child_weight': 1, 'learning_rate': 0.05148591936121806, 'subsample': 0.9737788801349747, 'colsample_bytree': 0.686948807464542, 'gamma': 0.0004301006705000328, 'reg_alpha': 0.14499901499658183, 'reg_lambda': 4.3016311393947624e-05, 'bootstrap': True}. Best is trial 21 with value: -577994.8946251901.\n",
      "[I 2025-02-28 13:26:25,952] Trial 47 finished with value: -584695.2394131187 and parameters: {'n_estimators': 174, 'max_depth': None, 'min_child_weight': 3, 'learning_rate': 0.07308268110855999, 'subsample': 0.8937687183062839, 'colsample_bytree': 0.734065184997984, 'gamma': 0.4362173604311762, 'reg_alpha': 0.005402290929014254, 'reg_lambda': 0.0008745141004986799, 'bootstrap': True}. Best is trial 21 with value: -577994.8946251901.\n",
      "[I 2025-02-28 13:27:04,902] Trial 48 finished with value: -680286.0656253935 and parameters: {'n_estimators': 182, 'max_depth': 20, 'min_child_weight': 2, 'learning_rate': 0.12899111467724705, 'subsample': 0.6680878655970359, 'colsample_bytree': 0.9656918637740537, 'gamma': 0.0017791851328963551, 'reg_alpha': 0.001018754558332736, 'reg_lambda': 0.028874101738977094, 'bootstrap': False}. Best is trial 21 with value: -577994.8946251901.\n",
      "[I 2025-02-28 13:27:05,722] Trial 49 finished with value: -579512.5122502056 and parameters: {'n_estimators': 159, 'max_depth': None, 'min_child_weight': 3, 'learning_rate': 0.15344392762044837, 'subsample': 0.9158135622802382, 'colsample_bytree': 0.910706365401062, 'gamma': 0.005056324135747227, 'reg_alpha': 0.13288397930651075, 'reg_lambda': 0.0021053098323173675, 'bootstrap': True}. Best is trial 21 with value: -577994.8946251901.\n"
     ]
    }
   ],
   "source": [
    "# Define the objective function for Optuna\n",
    "def objective(trial):\n",
    "    param = {\n",
    "        'n_estimators': trial.suggest_int('n_estimators', 100, 200),\n",
    "        'max_depth': trial.suggest_categorical('max_depth', [None, 10, 20]),\n",
    "        'min_child_weight': trial.suggest_int('min_child_weight', 1, 5),\n",
    "        'learning_rate': trial.suggest_loguniform('learning_rate', 0.01, 0.3),\n",
    "        'subsample': trial.suggest_uniform('subsample', 0.5, 1.0),\n",
    "        'colsample_bytree': trial.suggest_uniform('colsample_bytree', 0.5, 1.0),\n",
    "        'gamma': trial.suggest_loguniform('gamma', 1e-8, 1.0),\n",
    "        'reg_alpha': trial.suggest_loguniform('reg_alpha', 1e-8, 1.0),\n",
    "        'reg_lambda': trial.suggest_loguniform('reg_lambda', 1e-8, 1.0),\n",
    "        'bootstrap': trial.suggest_categorical('bootstrap', [True, False])\n",
    "    }\n",
    "    \n",
    "    model = XGBRegressor(**param, random_state=42)\n",
    "    score = cross_val_score(model, X_train, y_train, scoring='neg_mean_squared_error', cv=2).mean() \n",
    "    return score\n",
    "\n",
    "# Create a study object and optimize the objective function\n",
    "study = optuna.create_study(direction='maximize', sampler=TPESampler())\n",
    "study.optimize(objective, n_trials=50)  # Reduced number of trials to 50\n",
    "\n",
    "# Get the best hyperparameters\n",
    "best_params = study.best_params\n",
    "\n",
    "# Initialize the XGB Regressor model with the best hyperparameters\n",
    "xgb_model = XGBRegressor(**best_params, random_state=42)\n",
    "\n",
    "# Fit the model on the training data\n",
    "xgb_model.fit(X_train, y_train)\n",
    "\n",
    "# Save the XGB Regressor model\n",
    "with open(data_path / 'xgb_regression_model_optuna.pkl', 'wb') as file:\n",
    "    pickle.dump(xgb_model, file)"
   ]
  },
  {
   "cell_type": "code",
   "execution_count": 34,
   "metadata": {},
   "outputs": [
    {
     "name": "stdout",
     "output_type": "stream",
     "text": [
      "XGB Regressor with Optuna - Root Mean Squared Error (RMSE): 752.5047595808942\n",
      "XGB Regressor with Optuna - R^2 Score: 0.2814320840431015\n"
     ]
    }
   ],
   "source": [
    "# Predict on the test data\n",
    "y_pred_xgb = xgb_model.predict(X_test)\n",
    "\n",
    "# Calculate the RMSE and R^2 score\n",
    "rmse_xgb = np.sqrt(mean_squared_error(y_test, y_pred_xgb))\n",
    "r2_xgb = r2_score(y_test, y_pred_xgb)\n",
    "\n",
    "print(f\"XGB Regressor with Optuna - Root Mean Squared Error (RMSE): {rmse_xgb}\")\n",
    "print(f\"XGB Regressor with Optuna - R^2 Score: {r2_xgb}\")"
   ]
  }
 ],
 "metadata": {
  "kernelspec": {
   "display_name": "base",
   "language": "python",
   "name": "python3"
  },
  "language_info": {
   "codemirror_mode": {
    "name": "ipython",
    "version": 3
   },
   "file_extension": ".py",
   "mimetype": "text/x-python",
   "name": "python",
   "nbconvert_exporter": "python",
   "pygments_lexer": "ipython3",
   "version": "3.12.3"
  }
 },
 "nbformat": 4,
 "nbformat_minor": 2
}
