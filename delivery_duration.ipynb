{
 "cells": [
  {
   "cell_type": "markdown",
   "metadata": {},
   "source": [
    "In the data preparation phase of this notebook, I performed several steps to clean and preprocess the dataset, including converting timestamps, handling missing and bad values, and encoding categorical variables. The purpose of this notebook is to build and evaluate regression models to predict delivery duration using the provided dataset. This project aims to analyze and predict DoorDash delivery durations, which can help in optimizing delivery times and improving customer satisfaction."
   ]
  },
  {
   "cell_type": "markdown",
   "metadata": {},
   "source": [
    "# Delivery Duration Prediction (Stratascratch)"
   ]
  },
  {
   "cell_type": "code",
   "execution_count": 12,
   "metadata": {},
   "outputs": [
    {
     "name": "stdout",
     "output_type": "stream",
     "text": [
      "Requirement already satisfied: category_encoders in c:\\users\\elige\\anaconda3\\lib\\site-packages (2.8.0)Note: you may need to restart the kernel to use updated packages.\n",
      "\n",
      "Requirement already satisfied: numpy>=1.14.0 in c:\\users\\elige\\anaconda3\\lib\\site-packages (from category_encoders) (1.26.4)\n",
      "Requirement already satisfied: pandas>=1.0.5 in c:\\users\\elige\\anaconda3\\lib\\site-packages (from category_encoders) (2.2.2)\n",
      "Requirement already satisfied: patsy>=0.5.1 in c:\\users\\elige\\anaconda3\\lib\\site-packages (from category_encoders) (0.5.6)\n",
      "Requirement already satisfied: scikit-learn>=1.6.0 in c:\\users\\elige\\anaconda3\\lib\\site-packages (from category_encoders) (1.6.1)\n",
      "Requirement already satisfied: scipy>=1.0.0 in c:\\users\\elige\\anaconda3\\lib\\site-packages (from category_encoders) (1.13.1)\n",
      "Requirement already satisfied: statsmodels>=0.9.0 in c:\\users\\elige\\anaconda3\\lib\\site-packages (from category_encoders) (0.14.2)\n",
      "Requirement already satisfied: python-dateutil>=2.8.2 in c:\\users\\elige\\appdata\\roaming\\python\\python312\\site-packages (from pandas>=1.0.5->category_encoders) (2.9.0.post0)\n",
      "Requirement already satisfied: pytz>=2020.1 in c:\\users\\elige\\anaconda3\\lib\\site-packages (from pandas>=1.0.5->category_encoders) (2024.1)\n",
      "Requirement already satisfied: tzdata>=2022.7 in c:\\users\\elige\\anaconda3\\lib\\site-packages (from pandas>=1.0.5->category_encoders) (2023.3)\n",
      "Requirement already satisfied: six in c:\\users\\elige\\appdata\\roaming\\python\\python312\\site-packages (from patsy>=0.5.1->category_encoders) (1.16.0)\n",
      "Requirement already satisfied: joblib>=1.2.0 in c:\\users\\elige\\anaconda3\\lib\\site-packages (from scikit-learn>=1.6.0->category_encoders) (1.4.2)\n",
      "Requirement already satisfied: threadpoolctl>=3.1.0 in c:\\users\\elige\\anaconda3\\lib\\site-packages (from scikit-learn>=1.6.0->category_encoders) (3.5.0)\n",
      "Requirement already satisfied: packaging>=21.3 in c:\\users\\elige\\appdata\\roaming\\python\\python312\\site-packages (from statsmodels>=0.9.0->category_encoders) (24.2)\n"
     ]
    }
   ],
   "source": [
    "%pip install category_encoders\n",
    "\n",
    "from IPython.display import Markdown, display\n",
    "\n",
    "import pandas as pd\n",
    "import numpy as np\n",
    "np.random.seed(42)\n",
    "rng = np.random.default_rng(42)\n",
    "\n",
    "import matplotlib.pyplot as plt\n",
    "import seaborn as sns\n",
    "%matplotlib inline\n",
    "%config InlineBackend.figure_format = 'svg'\n",
    "\n",
    "from pathlib import Path\n",
    "data_path = Path('./data')\n",
    "from sklearn.impute import KNNImputer\n",
    "from category_encoders import TargetEncoder\n",
    "import warnings\n",
    "warnings.filterwarnings(\"ignore\")"
   ]
  },
  {
   "cell_type": "markdown",
   "metadata": {},
   "source": [
    "# Load Data"
   ]
  },
  {
   "cell_type": "code",
   "execution_count": 13,
   "metadata": {},
   "outputs": [],
   "source": [
    "# Load data\n",
    "df = pd.read_csv(data_path /'historical_data.csv')"
   ]
  },
  {
   "cell_type": "code",
   "execution_count": 14,
   "metadata": {},
   "outputs": [
    {
     "data": {
      "application/vnd.microsoft.datawrangler.viewer.v0+json": {
       "columns": [
        {
         "name": "index",
         "rawType": "int64",
         "type": "integer"
        },
        {
         "name": "market_id",
         "rawType": "float64",
         "type": "float"
        },
        {
         "name": "created_at",
         "rawType": "object",
         "type": "string"
        },
        {
         "name": "actual_delivery_time",
         "rawType": "object",
         "type": "string"
        },
        {
         "name": "store_id",
         "rawType": "int64",
         "type": "integer"
        },
        {
         "name": "store_primary_category",
         "rawType": "object",
         "type": "unknown"
        },
        {
         "name": "order_protocol",
         "rawType": "float64",
         "type": "float"
        },
        {
         "name": "total_items",
         "rawType": "int64",
         "type": "integer"
        },
        {
         "name": "subtotal",
         "rawType": "int64",
         "type": "integer"
        },
        {
         "name": "num_distinct_items",
         "rawType": "int64",
         "type": "integer"
        },
        {
         "name": "min_item_price",
         "rawType": "int64",
         "type": "integer"
        },
        {
         "name": "max_item_price",
         "rawType": "int64",
         "type": "integer"
        },
        {
         "name": "total_onshift_dashers",
         "rawType": "float64",
         "type": "float"
        },
        {
         "name": "total_busy_dashers",
         "rawType": "float64",
         "type": "float"
        },
        {
         "name": "total_outstanding_orders",
         "rawType": "float64",
         "type": "float"
        },
        {
         "name": "estimated_order_place_duration",
         "rawType": "int64",
         "type": "integer"
        },
        {
         "name": "estimated_store_to_consumer_driving_duration",
         "rawType": "float64",
         "type": "float"
        }
       ],
       "conversionMethod": "pd.DataFrame",
       "ref": "ec0c4072-c00d-4092-9532-9cffb6acd3bc",
       "rows": [
        [
         "0",
         "1.0",
         "2015-02-06 22:24:17",
         "2015-02-06 23:27:16",
         "1845",
         "american",
         "1.0",
         "4",
         "3441",
         "4",
         "557",
         "1239",
         "33.0",
         "14.0",
         "21.0",
         "446",
         "861.0"
        ],
        [
         "1",
         "2.0",
         "2015-02-10 21:49:25",
         "2015-02-10 22:56:29",
         "5477",
         "mexican",
         "2.0",
         "1",
         "1900",
         "1",
         "1400",
         "1400",
         "1.0",
         "2.0",
         "2.0",
         "446",
         "690.0"
        ],
        [
         "2",
         "3.0",
         "2015-01-22 20:39:28",
         "2015-01-22 21:09:09",
         "5477",
         null,
         "1.0",
         "1",
         "1900",
         "1",
         "1900",
         "1900",
         "1.0",
         "0.0",
         "0.0",
         "446",
         "690.0"
        ],
        [
         "3",
         "3.0",
         "2015-02-03 21:21:45",
         "2015-02-03 22:13:00",
         "5477",
         null,
         "1.0",
         "6",
         "6900",
         "5",
         "600",
         "1800",
         "1.0",
         "1.0",
         "2.0",
         "446",
         "289.0"
        ],
        [
         "4",
         "3.0",
         "2015-02-15 02:40:36",
         "2015-02-15 03:20:26",
         "5477",
         null,
         "1.0",
         "3",
         "3900",
         "3",
         "1100",
         "1600",
         "6.0",
         "6.0",
         "9.0",
         "446",
         "650.0"
        ]
       ],
       "shape": {
        "columns": 16,
        "rows": 5
       }
      },
      "text/html": [
       "<div>\n",
       "<style scoped>\n",
       "    .dataframe tbody tr th:only-of-type {\n",
       "        vertical-align: middle;\n",
       "    }\n",
       "\n",
       "    .dataframe tbody tr th {\n",
       "        vertical-align: top;\n",
       "    }\n",
       "\n",
       "    .dataframe thead th {\n",
       "        text-align: right;\n",
       "    }\n",
       "</style>\n",
       "<table border=\"1\" class=\"dataframe\">\n",
       "  <thead>\n",
       "    <tr style=\"text-align: right;\">\n",
       "      <th></th>\n",
       "      <th>market_id</th>\n",
       "      <th>created_at</th>\n",
       "      <th>actual_delivery_time</th>\n",
       "      <th>store_id</th>\n",
       "      <th>store_primary_category</th>\n",
       "      <th>order_protocol</th>\n",
       "      <th>total_items</th>\n",
       "      <th>subtotal</th>\n",
       "      <th>num_distinct_items</th>\n",
       "      <th>min_item_price</th>\n",
       "      <th>max_item_price</th>\n",
       "      <th>total_onshift_dashers</th>\n",
       "      <th>total_busy_dashers</th>\n",
       "      <th>total_outstanding_orders</th>\n",
       "      <th>estimated_order_place_duration</th>\n",
       "      <th>estimated_store_to_consumer_driving_duration</th>\n",
       "    </tr>\n",
       "  </thead>\n",
       "  <tbody>\n",
       "    <tr>\n",
       "      <th>0</th>\n",
       "      <td>1.0</td>\n",
       "      <td>2015-02-06 22:24:17</td>\n",
       "      <td>2015-02-06 23:27:16</td>\n",
       "      <td>1845</td>\n",
       "      <td>american</td>\n",
       "      <td>1.0</td>\n",
       "      <td>4</td>\n",
       "      <td>3441</td>\n",
       "      <td>4</td>\n",
       "      <td>557</td>\n",
       "      <td>1239</td>\n",
       "      <td>33.0</td>\n",
       "      <td>14.0</td>\n",
       "      <td>21.0</td>\n",
       "      <td>446</td>\n",
       "      <td>861.0</td>\n",
       "    </tr>\n",
       "    <tr>\n",
       "      <th>1</th>\n",
       "      <td>2.0</td>\n",
       "      <td>2015-02-10 21:49:25</td>\n",
       "      <td>2015-02-10 22:56:29</td>\n",
       "      <td>5477</td>\n",
       "      <td>mexican</td>\n",
       "      <td>2.0</td>\n",
       "      <td>1</td>\n",
       "      <td>1900</td>\n",
       "      <td>1</td>\n",
       "      <td>1400</td>\n",
       "      <td>1400</td>\n",
       "      <td>1.0</td>\n",
       "      <td>2.0</td>\n",
       "      <td>2.0</td>\n",
       "      <td>446</td>\n",
       "      <td>690.0</td>\n",
       "    </tr>\n",
       "    <tr>\n",
       "      <th>2</th>\n",
       "      <td>3.0</td>\n",
       "      <td>2015-01-22 20:39:28</td>\n",
       "      <td>2015-01-22 21:09:09</td>\n",
       "      <td>5477</td>\n",
       "      <td>NaN</td>\n",
       "      <td>1.0</td>\n",
       "      <td>1</td>\n",
       "      <td>1900</td>\n",
       "      <td>1</td>\n",
       "      <td>1900</td>\n",
       "      <td>1900</td>\n",
       "      <td>1.0</td>\n",
       "      <td>0.0</td>\n",
       "      <td>0.0</td>\n",
       "      <td>446</td>\n",
       "      <td>690.0</td>\n",
       "    </tr>\n",
       "    <tr>\n",
       "      <th>3</th>\n",
       "      <td>3.0</td>\n",
       "      <td>2015-02-03 21:21:45</td>\n",
       "      <td>2015-02-03 22:13:00</td>\n",
       "      <td>5477</td>\n",
       "      <td>NaN</td>\n",
       "      <td>1.0</td>\n",
       "      <td>6</td>\n",
       "      <td>6900</td>\n",
       "      <td>5</td>\n",
       "      <td>600</td>\n",
       "      <td>1800</td>\n",
       "      <td>1.0</td>\n",
       "      <td>1.0</td>\n",
       "      <td>2.0</td>\n",
       "      <td>446</td>\n",
       "      <td>289.0</td>\n",
       "    </tr>\n",
       "    <tr>\n",
       "      <th>4</th>\n",
       "      <td>3.0</td>\n",
       "      <td>2015-02-15 02:40:36</td>\n",
       "      <td>2015-02-15 03:20:26</td>\n",
       "      <td>5477</td>\n",
       "      <td>NaN</td>\n",
       "      <td>1.0</td>\n",
       "      <td>3</td>\n",
       "      <td>3900</td>\n",
       "      <td>3</td>\n",
       "      <td>1100</td>\n",
       "      <td>1600</td>\n",
       "      <td>6.0</td>\n",
       "      <td>6.0</td>\n",
       "      <td>9.0</td>\n",
       "      <td>446</td>\n",
       "      <td>650.0</td>\n",
       "    </tr>\n",
       "  </tbody>\n",
       "</table>\n",
       "</div>"
      ],
      "text/plain": [
       "   market_id           created_at actual_delivery_time  store_id  \\\n",
       "0        1.0  2015-02-06 22:24:17  2015-02-06 23:27:16      1845   \n",
       "1        2.0  2015-02-10 21:49:25  2015-02-10 22:56:29      5477   \n",
       "2        3.0  2015-01-22 20:39:28  2015-01-22 21:09:09      5477   \n",
       "3        3.0  2015-02-03 21:21:45  2015-02-03 22:13:00      5477   \n",
       "4        3.0  2015-02-15 02:40:36  2015-02-15 03:20:26      5477   \n",
       "\n",
       "  store_primary_category  order_protocol  total_items  subtotal  \\\n",
       "0               american             1.0            4      3441   \n",
       "1                mexican             2.0            1      1900   \n",
       "2                    NaN             1.0            1      1900   \n",
       "3                    NaN             1.0            6      6900   \n",
       "4                    NaN             1.0            3      3900   \n",
       "\n",
       "   num_distinct_items  min_item_price  max_item_price  total_onshift_dashers  \\\n",
       "0                   4             557            1239                   33.0   \n",
       "1                   1            1400            1400                    1.0   \n",
       "2                   1            1900            1900                    1.0   \n",
       "3                   5             600            1800                    1.0   \n",
       "4                   3            1100            1600                    6.0   \n",
       "\n",
       "   total_busy_dashers  total_outstanding_orders  \\\n",
       "0                14.0                      21.0   \n",
       "1                 2.0                       2.0   \n",
       "2                 0.0                       0.0   \n",
       "3                 1.0                       2.0   \n",
       "4                 6.0                       9.0   \n",
       "\n",
       "   estimated_order_place_duration  \\\n",
       "0                             446   \n",
       "1                             446   \n",
       "2                             446   \n",
       "3                             446   \n",
       "4                             446   \n",
       "\n",
       "   estimated_store_to_consumer_driving_duration  \n",
       "0                                         861.0  \n",
       "1                                         690.0  \n",
       "2                                         690.0  \n",
       "3                                         289.0  \n",
       "4                                         650.0  "
      ]
     },
     "execution_count": 14,
     "metadata": {},
     "output_type": "execute_result"
    }
   ],
   "source": [
    "df.head()"
   ]
  },
  {
   "cell_type": "code",
   "execution_count": 15,
   "metadata": {},
   "outputs": [
    {
     "name": "stdout",
     "output_type": "stream",
     "text": [
      "<class 'pandas.core.frame.DataFrame'>\n",
      "RangeIndex: 197428 entries, 0 to 197427\n",
      "Data columns (total 16 columns):\n",
      " #   Column                                        Non-Null Count   Dtype  \n",
      "---  ------                                        --------------   -----  \n",
      " 0   market_id                                     196441 non-null  float64\n",
      " 1   created_at                                    197428 non-null  object \n",
      " 2   actual_delivery_time                          197421 non-null  object \n",
      " 3   store_id                                      197428 non-null  int64  \n",
      " 4   store_primary_category                        192668 non-null  object \n",
      " 5   order_protocol                                196433 non-null  float64\n",
      " 6   total_items                                   197428 non-null  int64  \n",
      " 7   subtotal                                      197428 non-null  int64  \n",
      " 8   num_distinct_items                            197428 non-null  int64  \n",
      " 9   min_item_price                                197428 non-null  int64  \n",
      " 10  max_item_price                                197428 non-null  int64  \n",
      " 11  total_onshift_dashers                         181166 non-null  float64\n",
      " 12  total_busy_dashers                            181166 non-null  float64\n",
      " 13  total_outstanding_orders                      181166 non-null  float64\n",
      " 14  estimated_order_place_duration                197428 non-null  int64  \n",
      " 15  estimated_store_to_consumer_driving_duration  196902 non-null  float64\n",
      "dtypes: float64(6), int64(7), object(3)\n",
      "memory usage: 24.1+ MB\n"
     ]
    }
   ],
   "source": [
    "df.info()"
   ]
  },
  {
   "cell_type": "markdown",
   "metadata": {},
   "source": [
    "# Data Preperation"
   ]
  },
  {
   "cell_type": "code",
   "execution_count": 16,
   "metadata": {},
   "outputs": [],
   "source": [
    "# Convert timestamps\n",
    "df['created_at'] = pd.to_datetime(df['created_at'])\n",
    "df['actual_delivery_time'] = pd.to_datetime(df['actual_delivery_time'])"
   ]
  },
  {
   "cell_type": "code",
   "execution_count": 17,
   "metadata": {},
   "outputs": [],
   "source": [
    "# Create target variable\n",
    "df['total_delivery_duration_seconds'] = (df['actual_delivery_time'] - df['created_at']).dt.total_seconds()"
   ]
  },
  {
   "cell_type": "code",
   "execution_count": 18,
   "metadata": {},
   "outputs": [
    {
     "data": {
      "application/vnd.microsoft.datawrangler.viewer.v0+json": {
       "columns": [
        {
         "name": "index",
         "rawType": "int64",
         "type": "integer"
        },
        {
         "name": "market_id",
         "rawType": "float64",
         "type": "float"
        },
        {
         "name": "created_at",
         "rawType": "datetime64[ns]",
         "type": "datetime"
        },
        {
         "name": "actual_delivery_time",
         "rawType": "datetime64[ns]",
         "type": "datetime"
        },
        {
         "name": "store_id",
         "rawType": "int64",
         "type": "integer"
        },
        {
         "name": "store_primary_category",
         "rawType": "object",
         "type": "unknown"
        },
        {
         "name": "order_protocol",
         "rawType": "float64",
         "type": "float"
        },
        {
         "name": "total_items",
         "rawType": "int64",
         "type": "integer"
        },
        {
         "name": "subtotal",
         "rawType": "int64",
         "type": "integer"
        },
        {
         "name": "num_distinct_items",
         "rawType": "int64",
         "type": "integer"
        },
        {
         "name": "min_item_price",
         "rawType": "int64",
         "type": "integer"
        },
        {
         "name": "max_item_price",
         "rawType": "int64",
         "type": "integer"
        },
        {
         "name": "total_onshift_dashers",
         "rawType": "float64",
         "type": "float"
        },
        {
         "name": "total_busy_dashers",
         "rawType": "float64",
         "type": "float"
        },
        {
         "name": "total_outstanding_orders",
         "rawType": "float64",
         "type": "float"
        },
        {
         "name": "estimated_order_place_duration",
         "rawType": "int64",
         "type": "integer"
        },
        {
         "name": "estimated_store_to_consumer_driving_duration",
         "rawType": "float64",
         "type": "float"
        },
        {
         "name": "total_delivery_duration_seconds",
         "rawType": "float64",
         "type": "float"
        }
       ],
       "conversionMethod": "pd.DataFrame",
       "ref": "ba19bc88-f0d2-4679-9d09-6934e5f5544b",
       "rows": [
        [
         "0",
         "1.0",
         "2015-02-06 22:24:17",
         "2015-02-06 23:27:16",
         "1845",
         "american",
         "1.0",
         "4",
         "3441",
         "4",
         "557",
         "1239",
         "33.0",
         "14.0",
         "21.0",
         "446",
         "861.0",
         "3779.0"
        ],
        [
         "1",
         "2.0",
         "2015-02-10 21:49:25",
         "2015-02-10 22:56:29",
         "5477",
         "mexican",
         "2.0",
         "1",
         "1900",
         "1",
         "1400",
         "1400",
         "1.0",
         "2.0",
         "2.0",
         "446",
         "690.0",
         "4024.0"
        ],
        [
         "2",
         "3.0",
         "2015-01-22 20:39:28",
         "2015-01-22 21:09:09",
         "5477",
         null,
         "1.0",
         "1",
         "1900",
         "1",
         "1900",
         "1900",
         "1.0",
         "0.0",
         "0.0",
         "446",
         "690.0",
         "1781.0"
        ],
        [
         "3",
         "3.0",
         "2015-02-03 21:21:45",
         "2015-02-03 22:13:00",
         "5477",
         null,
         "1.0",
         "6",
         "6900",
         "5",
         "600",
         "1800",
         "1.0",
         "1.0",
         "2.0",
         "446",
         "289.0",
         "3075.0"
        ],
        [
         "4",
         "3.0",
         "2015-02-15 02:40:36",
         "2015-02-15 03:20:26",
         "5477",
         null,
         "1.0",
         "3",
         "3900",
         "3",
         "1100",
         "1600",
         "6.0",
         "6.0",
         "9.0",
         "446",
         "650.0",
         "2390.0"
        ]
       ],
       "shape": {
        "columns": 17,
        "rows": 5
       }
      },
      "text/html": [
       "<div>\n",
       "<style scoped>\n",
       "    .dataframe tbody tr th:only-of-type {\n",
       "        vertical-align: middle;\n",
       "    }\n",
       "\n",
       "    .dataframe tbody tr th {\n",
       "        vertical-align: top;\n",
       "    }\n",
       "\n",
       "    .dataframe thead th {\n",
       "        text-align: right;\n",
       "    }\n",
       "</style>\n",
       "<table border=\"1\" class=\"dataframe\">\n",
       "  <thead>\n",
       "    <tr style=\"text-align: right;\">\n",
       "      <th></th>\n",
       "      <th>market_id</th>\n",
       "      <th>created_at</th>\n",
       "      <th>actual_delivery_time</th>\n",
       "      <th>store_id</th>\n",
       "      <th>store_primary_category</th>\n",
       "      <th>order_protocol</th>\n",
       "      <th>total_items</th>\n",
       "      <th>subtotal</th>\n",
       "      <th>num_distinct_items</th>\n",
       "      <th>min_item_price</th>\n",
       "      <th>max_item_price</th>\n",
       "      <th>total_onshift_dashers</th>\n",
       "      <th>total_busy_dashers</th>\n",
       "      <th>total_outstanding_orders</th>\n",
       "      <th>estimated_order_place_duration</th>\n",
       "      <th>estimated_store_to_consumer_driving_duration</th>\n",
       "      <th>total_delivery_duration_seconds</th>\n",
       "    </tr>\n",
       "  </thead>\n",
       "  <tbody>\n",
       "    <tr>\n",
       "      <th>0</th>\n",
       "      <td>1.0</td>\n",
       "      <td>2015-02-06 22:24:17</td>\n",
       "      <td>2015-02-06 23:27:16</td>\n",
       "      <td>1845</td>\n",
       "      <td>american</td>\n",
       "      <td>1.0</td>\n",
       "      <td>4</td>\n",
       "      <td>3441</td>\n",
       "      <td>4</td>\n",
       "      <td>557</td>\n",
       "      <td>1239</td>\n",
       "      <td>33.0</td>\n",
       "      <td>14.0</td>\n",
       "      <td>21.0</td>\n",
       "      <td>446</td>\n",
       "      <td>861.0</td>\n",
       "      <td>3779.0</td>\n",
       "    </tr>\n",
       "    <tr>\n",
       "      <th>1</th>\n",
       "      <td>2.0</td>\n",
       "      <td>2015-02-10 21:49:25</td>\n",
       "      <td>2015-02-10 22:56:29</td>\n",
       "      <td>5477</td>\n",
       "      <td>mexican</td>\n",
       "      <td>2.0</td>\n",
       "      <td>1</td>\n",
       "      <td>1900</td>\n",
       "      <td>1</td>\n",
       "      <td>1400</td>\n",
       "      <td>1400</td>\n",
       "      <td>1.0</td>\n",
       "      <td>2.0</td>\n",
       "      <td>2.0</td>\n",
       "      <td>446</td>\n",
       "      <td>690.0</td>\n",
       "      <td>4024.0</td>\n",
       "    </tr>\n",
       "    <tr>\n",
       "      <th>2</th>\n",
       "      <td>3.0</td>\n",
       "      <td>2015-01-22 20:39:28</td>\n",
       "      <td>2015-01-22 21:09:09</td>\n",
       "      <td>5477</td>\n",
       "      <td>NaN</td>\n",
       "      <td>1.0</td>\n",
       "      <td>1</td>\n",
       "      <td>1900</td>\n",
       "      <td>1</td>\n",
       "      <td>1900</td>\n",
       "      <td>1900</td>\n",
       "      <td>1.0</td>\n",
       "      <td>0.0</td>\n",
       "      <td>0.0</td>\n",
       "      <td>446</td>\n",
       "      <td>690.0</td>\n",
       "      <td>1781.0</td>\n",
       "    </tr>\n",
       "    <tr>\n",
       "      <th>3</th>\n",
       "      <td>3.0</td>\n",
       "      <td>2015-02-03 21:21:45</td>\n",
       "      <td>2015-02-03 22:13:00</td>\n",
       "      <td>5477</td>\n",
       "      <td>NaN</td>\n",
       "      <td>1.0</td>\n",
       "      <td>6</td>\n",
       "      <td>6900</td>\n",
       "      <td>5</td>\n",
       "      <td>600</td>\n",
       "      <td>1800</td>\n",
       "      <td>1.0</td>\n",
       "      <td>1.0</td>\n",
       "      <td>2.0</td>\n",
       "      <td>446</td>\n",
       "      <td>289.0</td>\n",
       "      <td>3075.0</td>\n",
       "    </tr>\n",
       "    <tr>\n",
       "      <th>4</th>\n",
       "      <td>3.0</td>\n",
       "      <td>2015-02-15 02:40:36</td>\n",
       "      <td>2015-02-15 03:20:26</td>\n",
       "      <td>5477</td>\n",
       "      <td>NaN</td>\n",
       "      <td>1.0</td>\n",
       "      <td>3</td>\n",
       "      <td>3900</td>\n",
       "      <td>3</td>\n",
       "      <td>1100</td>\n",
       "      <td>1600</td>\n",
       "      <td>6.0</td>\n",
       "      <td>6.0</td>\n",
       "      <td>9.0</td>\n",
       "      <td>446</td>\n",
       "      <td>650.0</td>\n",
       "      <td>2390.0</td>\n",
       "    </tr>\n",
       "  </tbody>\n",
       "</table>\n",
       "</div>"
      ],
      "text/plain": [
       "   market_id          created_at actual_delivery_time  store_id  \\\n",
       "0        1.0 2015-02-06 22:24:17  2015-02-06 23:27:16      1845   \n",
       "1        2.0 2015-02-10 21:49:25  2015-02-10 22:56:29      5477   \n",
       "2        3.0 2015-01-22 20:39:28  2015-01-22 21:09:09      5477   \n",
       "3        3.0 2015-02-03 21:21:45  2015-02-03 22:13:00      5477   \n",
       "4        3.0 2015-02-15 02:40:36  2015-02-15 03:20:26      5477   \n",
       "\n",
       "  store_primary_category  order_protocol  total_items  subtotal  \\\n",
       "0               american             1.0            4      3441   \n",
       "1                mexican             2.0            1      1900   \n",
       "2                    NaN             1.0            1      1900   \n",
       "3                    NaN             1.0            6      6900   \n",
       "4                    NaN             1.0            3      3900   \n",
       "\n",
       "   num_distinct_items  min_item_price  max_item_price  total_onshift_dashers  \\\n",
       "0                   4             557            1239                   33.0   \n",
       "1                   1            1400            1400                    1.0   \n",
       "2                   1            1900            1900                    1.0   \n",
       "3                   5             600            1800                    1.0   \n",
       "4                   3            1100            1600                    6.0   \n",
       "\n",
       "   total_busy_dashers  total_outstanding_orders  \\\n",
       "0                14.0                      21.0   \n",
       "1                 2.0                       2.0   \n",
       "2                 0.0                       0.0   \n",
       "3                 1.0                       2.0   \n",
       "4                 6.0                       9.0   \n",
       "\n",
       "   estimated_order_place_duration  \\\n",
       "0                             446   \n",
       "1                             446   \n",
       "2                             446   \n",
       "3                             446   \n",
       "4                             446   \n",
       "\n",
       "   estimated_store_to_consumer_driving_duration  \\\n",
       "0                                         861.0   \n",
       "1                                         690.0   \n",
       "2                                         690.0   \n",
       "3                                         289.0   \n",
       "4                                         650.0   \n",
       "\n",
       "   total_delivery_duration_seconds  \n",
       "0                           3779.0  \n",
       "1                           4024.0  \n",
       "2                           1781.0  \n",
       "3                           3075.0  \n",
       "4                           2390.0  "
      ]
     },
     "execution_count": 18,
     "metadata": {},
     "output_type": "execute_result"
    }
   ],
   "source": [
    "df.head()"
   ]
  },
  {
   "cell_type": "code",
   "execution_count": 19,
   "metadata": {},
   "outputs": [
    {
     "data": {
      "application/vnd.microsoft.datawrangler.viewer.v0+json": {
       "columns": [
        {
         "name": "index",
         "rawType": "int64",
         "type": "integer"
        },
        {
         "name": "store_id",
         "rawType": "int64",
         "type": "integer"
        },
        {
         "name": "store_primary_category",
         "rawType": "object",
         "type": "string"
        }
       ],
       "conversionMethod": "pd.DataFrame",
       "ref": "bbd2e503-21a7-4c3b-8f0b-e0ff7e7e1a7f",
       "rows": [
        [
         "0",
         "1845",
         "american"
        ],
        [
         "1",
         "5477",
         "indian"
        ],
        [
         "14",
         "2841",
         "italian"
        ],
        [
         "19",
         "4139",
         "mexican"
        ],
        [
         "21",
         "5058",
         "italian"
        ],
        [
         "31",
         "4149",
         "sandwich"
        ],
        [
         "41",
         "3201",
         "cafe"
        ],
        [
         "42",
         "5054",
         "italian"
        ],
        [
         "46",
         "2004",
         "american"
        ],
        [
         "75",
         "1984",
         "chinese"
        ],
        [
         "80",
         "4905",
         "mexican"
        ],
        [
         "92",
         "1698",
         "sandwich"
        ],
        [
         "123",
         "1936",
         "singaporean"
        ],
        [
         "151",
         "6015",
         "burger"
        ],
        [
         "160",
         "976",
         "breakfast"
        ],
        [
         "169",
         "5081",
         "mediterranean"
        ],
        [
         "286",
         "1019",
         "chinese"
        ],
        [
         "290",
         "3994",
         "japanese"
        ],
        [
         "314",
         "6395",
         "cafe"
        ],
        [
         "318",
         "3879",
         "unknown"
        ],
        [
         "320",
         "6517",
         "american"
        ],
        [
         "330",
         "6584",
         "catering"
        ],
        [
         "347",
         "4003",
         "mexican"
        ],
        [
         "366",
         "1848",
         "sandwich"
        ],
        [
         "368",
         "3654",
         "filipino"
        ],
        [
         "390",
         "6241",
         "convenience-store"
        ],
        [
         "392",
         "1521",
         "american"
        ],
        [
         "398",
         "5326",
         "chinese"
        ],
        [
         "401",
         "1203",
         "indian"
        ],
        [
         "402",
         "3155",
         "sandwich"
        ],
        [
         "411",
         "2527",
         "greek"
        ],
        [
         "438",
         "2183",
         "american"
        ],
        [
         "448",
         "2652",
         "sandwich"
        ],
        [
         "456",
         "3065",
         "cafe"
        ],
        [
         "457",
         "414",
         "japanese"
        ],
        [
         "510",
         "3468",
         "other"
        ],
        [
         "514",
         "5674",
         "korean"
        ],
        [
         "515",
         "2716",
         "sandwich"
        ],
        [
         "545",
         "4251",
         "asian"
        ],
        [
         "565",
         "1148",
         "indian"
        ],
        [
         "577",
         "4062",
         "barbecue"
        ],
        [
         "595",
         "280",
         "mexican"
        ],
        [
         "616",
         "2621",
         "asian"
        ],
        [
         "632",
         "2928",
         "mexican"
        ],
        [
         "643",
         "132",
         "fast"
        ],
        [
         "653",
         "2096",
         "indian"
        ],
        [
         "663",
         "5579",
         "sandwich"
        ],
        [
         "670",
         "6153",
         "italian"
        ],
        [
         "671",
         "2009",
         "italian"
        ],
        [
         "676",
         "2769",
         "american"
        ]
       ],
       "shape": {
        "columns": 2,
        "rows": 6743
       }
      },
      "text/html": [
       "<div>\n",
       "<style scoped>\n",
       "    .dataframe tbody tr th:only-of-type {\n",
       "        vertical-align: middle;\n",
       "    }\n",
       "\n",
       "    .dataframe tbody tr th {\n",
       "        vertical-align: top;\n",
       "    }\n",
       "\n",
       "    .dataframe thead th {\n",
       "        text-align: right;\n",
       "    }\n",
       "</style>\n",
       "<table border=\"1\" class=\"dataframe\">\n",
       "  <thead>\n",
       "    <tr style=\"text-align: right;\">\n",
       "      <th></th>\n",
       "      <th>store_id</th>\n",
       "      <th>store_primary_category</th>\n",
       "    </tr>\n",
       "  </thead>\n",
       "  <tbody>\n",
       "    <tr>\n",
       "      <th>0</th>\n",
       "      <td>1845</td>\n",
       "      <td>american</td>\n",
       "    </tr>\n",
       "    <tr>\n",
       "      <th>1</th>\n",
       "      <td>5477</td>\n",
       "      <td>indian</td>\n",
       "    </tr>\n",
       "    <tr>\n",
       "      <th>14</th>\n",
       "      <td>2841</td>\n",
       "      <td>italian</td>\n",
       "    </tr>\n",
       "    <tr>\n",
       "      <th>19</th>\n",
       "      <td>4139</td>\n",
       "      <td>mexican</td>\n",
       "    </tr>\n",
       "    <tr>\n",
       "      <th>21</th>\n",
       "      <td>5058</td>\n",
       "      <td>italian</td>\n",
       "    </tr>\n",
       "    <tr>\n",
       "      <th>...</th>\n",
       "      <td>...</td>\n",
       "      <td>...</td>\n",
       "    </tr>\n",
       "    <tr>\n",
       "      <th>197213</th>\n",
       "      <td>1340</td>\n",
       "      <td>italian</td>\n",
       "    </tr>\n",
       "    <tr>\n",
       "      <th>197290</th>\n",
       "      <td>6110</td>\n",
       "      <td>italian</td>\n",
       "    </tr>\n",
       "    <tr>\n",
       "      <th>197342</th>\n",
       "      <td>215</td>\n",
       "      <td>italian</td>\n",
       "    </tr>\n",
       "    <tr>\n",
       "      <th>197347</th>\n",
       "      <td>2956</td>\n",
       "      <td>fast</td>\n",
       "    </tr>\n",
       "    <tr>\n",
       "      <th>197426</th>\n",
       "      <td>3630</td>\n",
       "      <td>sandwich</td>\n",
       "    </tr>\n",
       "  </tbody>\n",
       "</table>\n",
       "<p>6743 rows × 2 columns</p>\n",
       "</div>"
      ],
      "text/plain": [
       "        store_id store_primary_category\n",
       "0           1845               american\n",
       "1           5477                 indian\n",
       "14          2841                italian\n",
       "19          4139                mexican\n",
       "21          5058                italian\n",
       "...          ...                    ...\n",
       "197213      1340                italian\n",
       "197290      6110                italian\n",
       "197342       215                italian\n",
       "197347      2956                   fast\n",
       "197426      3630               sandwich\n",
       "\n",
       "[6743 rows x 2 columns]"
      ]
     },
     "execution_count": 19,
     "metadata": {},
     "output_type": "execute_result"
    }
   ],
   "source": [
    "# Fill missing store_primary_category values with the mode grouped by store_id\n",
    "df['store_primary_category'] = df.groupby('store_id')['store_primary_category'].transform(lambda x: x.fillna(x.mode()[0] if not x.mode().empty else 'unknown'))\n",
    "\n",
    "\n",
    "# Check if any store_id has more than one store_primary_category\n",
    "store_category_counts = df.groupby('store_id')['store_primary_category'].nunique()\n",
    "\n",
    "# Filter store_ids with more than one unique store_primary_category\n",
    "store_ids_with_multiple_categories = store_category_counts[store_category_counts > 1].index.tolist()\n",
    "\n",
    "# For each store_id with multiple categories, replace the less frequent categories with the most frequent one\n",
    "for store_id in store_ids_with_multiple_categories:\n",
    "    most_frequent_category = df[df['store_id'] == store_id]['store_primary_category'].mode()[0]\n",
    "    df.loc[df['store_id'] == store_id, 'store_primary_category'] = most_frequent_category\n",
    "\n",
    "# Verify the changes\n",
    "df[['store_id', 'store_primary_category']].drop_duplicates()\n",
    "\n",
    "# # Ensure unique categories for each store_id\n",
    "# duplicate_categories = df.groupby('store_primary_category')['store_id'].nunique()\n",
    "# duplicate_categories = duplicate_categories[duplicate_categories > 1].index.tolist()\n",
    "\n",
    "# for category in duplicate_categories:\n",
    "#     store_ids = df[df['store_primary_category'] == category]['store_id'].unique()\n",
    "#     for store_id in store_ids[1:]:\n",
    "#         second_most_frequent_category = df[df['store_id'] == store_id]['store_primary_category'].value_counts()\n",
    "#         df.loc[df['store_id'] == store_id, 'store_primary_category'] = second_most_frequent_category\n",
    "        "
   ]
  },
  {
   "cell_type": "code",
   "execution_count": 20,
   "metadata": {},
   "outputs": [
    {
     "data": {
      "text/plain": [
       "0"
      ]
     },
     "execution_count": 20,
     "metadata": {},
     "output_type": "execute_result"
    }
   ],
   "source": [
    "df['store_primary_category'].isna().sum()"
   ]
  },
  {
   "cell_type": "code",
   "execution_count": 21,
   "metadata": {},
   "outputs": [],
   "source": [
    "# Fill missing values\n",
    "# Get categorical features with missing values\n",
    "categorical_features_with_na = df.select_dtypes(include=['object']).columns[df.select_dtypes(include=['object']).isnull().any()].tolist()\n",
    "\n",
    "# Get numeric features with missing values\n",
    "numeric_features_with_na = df.select_dtypes(include=[np.number]).columns[df.select_dtypes(include=[np.number]).isnull().any()].tolist()"
   ]
  },
  {
   "cell_type": "code",
   "execution_count": 22,
   "metadata": {},
   "outputs": [],
   "source": [
    "# Initialize the KNNImputer\n",
    "imputer = KNNImputer(n_neighbors=3)\n",
    "\n",
    "# Impute missing values\n",
    "df[numeric_features_with_na] = imputer.fit_transform(df[numeric_features_with_na])\n",
    "\n",
    "\n",
    "# For categorical features, fill missing values with mode\n",
    "for col in categorical_features_with_na:\n",
    "    df[col] = df[col].fillna(df[col].mode()[0])"
   ]
  },
  {
   "cell_type": "code",
   "execution_count": 23,
   "metadata": {},
   "outputs": [
    {
     "data": {
      "text/plain": [
       "market_id                                       0\n",
       "created_at                                      0\n",
       "actual_delivery_time                            0\n",
       "store_id                                        0\n",
       "store_primary_category                          0\n",
       "order_protocol                                  0\n",
       "total_items                                     0\n",
       "subtotal                                        0\n",
       "num_distinct_items                              0\n",
       "min_item_price                                  0\n",
       "max_item_price                                  0\n",
       "total_onshift_dashers                           0\n",
       "total_busy_dashers                              0\n",
       "total_outstanding_orders                        0\n",
       "estimated_order_place_duration                  0\n",
       "estimated_store_to_consumer_driving_duration    0\n",
       "total_delivery_duration_seconds                 0\n",
       "dtype: int64"
      ]
     },
     "execution_count": 23,
     "metadata": {},
     "output_type": "execute_result"
    }
   ],
   "source": [
    "# Drop rows with missing actual_delivery_time\n",
    "df = df.dropna(subset=['actual_delivery_time'])\n",
    "\n",
    "# Verify the changes\n",
    "df.isna().sum()"
   ]
  },
  {
   "cell_type": "code",
   "execution_count": 24,
   "metadata": {
    "vscode": {
     "languageId": "ruby"
    }
   },
   "outputs": [],
   "source": [
    "# Feature Engineering\n",
    "# Extracting more date and time features\n",
    "df['created_at_weekday'] = df['created_at'].dt.weekday\n",
    "df['created_at_weekofyear'] = df['created_at'].dt.isocalendar().week\n",
    "\n",
    "\n",
    "# Calculate the average item price\n",
    "df['avg_item_price'] = df['subtotal'] / df['total_items']"
   ]
  },
  {
   "cell_type": "code",
   "execution_count": 25,
   "metadata": {
    "vscode": {
     "languageId": "ruby"
    }
   },
   "outputs": [
    {
     "name": "stdout",
     "output_type": "stream",
     "text": [
      "<class 'pandas.core.frame.DataFrame'>\n",
      "Index: 197421 entries, 0 to 197427\n",
      "Data columns (total 20 columns):\n",
      " #   Column                                        Non-Null Count   Dtype         \n",
      "---  ------                                        --------------   -----         \n",
      " 0   market_id                                     197421 non-null  float64       \n",
      " 1   created_at                                    197421 non-null  datetime64[ns]\n",
      " 2   actual_delivery_time                          197421 non-null  datetime64[ns]\n",
      " 3   store_id                                      197421 non-null  int64         \n",
      " 4   store_primary_category                        197421 non-null  object        \n",
      " 5   order_protocol                                197421 non-null  float64       \n",
      " 6   total_items                                   197421 non-null  int64         \n",
      " 7   subtotal                                      197421 non-null  int64         \n",
      " 8   num_distinct_items                            197421 non-null  int64         \n",
      " 9   min_item_price                                197421 non-null  int64         \n",
      " 10  max_item_price                                197421 non-null  int64         \n",
      " 11  total_onshift_dashers                         197421 non-null  float64       \n",
      " 12  total_busy_dashers                            197421 non-null  float64       \n",
      " 13  total_outstanding_orders                      197421 non-null  float64       \n",
      " 14  estimated_order_place_duration                197421 non-null  int64         \n",
      " 15  estimated_store_to_consumer_driving_duration  197421 non-null  float64       \n",
      " 16  total_delivery_duration_seconds               197421 non-null  float64       \n",
      " 17  created_at_weekday                            197421 non-null  int32         \n",
      " 18  created_at_weekofyear                         197421 non-null  UInt32        \n",
      " 19  avg_item_price                                197421 non-null  float64       \n",
      "dtypes: UInt32(1), datetime64[ns](2), float64(8), int32(1), int64(7), object(1)\n",
      "memory usage: 30.3+ MB\n"
     ]
    }
   ],
   "source": [
    "df.info()"
   ]
  },
  {
   "cell_type": "code",
   "execution_count": 26,
   "metadata": {},
   "outputs": [
    {
     "data": {
      "application/vnd.microsoft.datawrangler.viewer.v0+json": {
       "columns": [
        {
         "name": "index",
         "rawType": "int64",
         "type": "integer"
        },
        {
         "name": "market_id",
         "rawType": "float64",
         "type": "float"
        },
        {
         "name": "created_at",
         "rawType": "datetime64[ns]",
         "type": "datetime"
        },
        {
         "name": "actual_delivery_time",
         "rawType": "datetime64[ns]",
         "type": "datetime"
        },
        {
         "name": "store_id",
         "rawType": "int64",
         "type": "integer"
        },
        {
         "name": "store_primary_category",
         "rawType": "float64",
         "type": "float"
        },
        {
         "name": "order_protocol",
         "rawType": "float64",
         "type": "float"
        },
        {
         "name": "total_items",
         "rawType": "int64",
         "type": "integer"
        },
        {
         "name": "subtotal",
         "rawType": "int64",
         "type": "integer"
        },
        {
         "name": "num_distinct_items",
         "rawType": "int64",
         "type": "integer"
        },
        {
         "name": "min_item_price",
         "rawType": "int64",
         "type": "integer"
        },
        {
         "name": "max_item_price",
         "rawType": "int64",
         "type": "integer"
        },
        {
         "name": "total_onshift_dashers",
         "rawType": "float64",
         "type": "float"
        },
        {
         "name": "total_busy_dashers",
         "rawType": "float64",
         "type": "float"
        },
        {
         "name": "total_outstanding_orders",
         "rawType": "float64",
         "type": "float"
        },
        {
         "name": "estimated_order_place_duration",
         "rawType": "int64",
         "type": "integer"
        },
        {
         "name": "estimated_store_to_consumer_driving_duration",
         "rawType": "float64",
         "type": "float"
        },
        {
         "name": "total_delivery_duration_seconds",
         "rawType": "float64",
         "type": "float"
        },
        {
         "name": "created_at_weekday",
         "rawType": "int32",
         "type": "integer"
        },
        {
         "name": "created_at_weekofyear",
         "rawType": "UInt32",
         "type": "integer"
        },
        {
         "name": "avg_item_price",
         "rawType": "float64",
         "type": "float"
        }
       ],
       "conversionMethod": "pd.DataFrame",
       "ref": "faa55fac-ab33-4c54-bfbe-1792ba038085",
       "rows": [
        [
         "0",
         "1.0",
         "2015-02-06 22:24:17",
         "2015-02-06 23:27:16",
         "1845",
         "2870.7155555555555",
         "1.0",
         "4",
         "3441",
         "4",
         "557",
         "1239",
         "33.0",
         "14.0",
         "21.0",
         "446",
         "861.0",
         "3779.0",
         "4",
         "6",
         "860.25"
        ],
        [
         "1",
         "2.0",
         "2015-02-10 21:49:25",
         "2015-02-10 22:56:29",
         "5477",
         "2989.596156430587",
         "2.0",
         "1",
         "1900",
         "1",
         "1400",
         "1400",
         "1.0",
         "2.0",
         "2.0",
         "446",
         "690.0",
         "4024.0",
         "1",
         "7",
         "1900.0"
        ],
        [
         "2",
         "3.0",
         "2015-01-22 20:39:28",
         "2015-01-22 21:09:09",
         "5477",
         "2989.596156430587",
         "1.0",
         "1",
         "1900",
         "1",
         "1900",
         "1900",
         "1.0",
         "0.0",
         "0.0",
         "446",
         "690.0",
         "1781.0",
         "3",
         "4",
         "1900.0"
        ],
        [
         "3",
         "3.0",
         "2015-02-03 21:21:45",
         "2015-02-03 22:13:00",
         "5477",
         "2989.596156430587",
         "1.0",
         "6",
         "6900",
         "5",
         "600",
         "1800",
         "1.0",
         "1.0",
         "2.0",
         "446",
         "289.0",
         "3075.0",
         "1",
         "6",
         "1150.0"
        ],
        [
         "4",
         "3.0",
         "2015-02-15 02:40:36",
         "2015-02-15 03:20:26",
         "5477",
         "2989.596156430587",
         "1.0",
         "3",
         "3900",
         "3",
         "1100",
         "1600",
         "6.0",
         "6.0",
         "9.0",
         "446",
         "650.0",
         "2390.0",
         "6",
         "7",
         "1300.0"
        ]
       ],
       "shape": {
        "columns": 20,
        "rows": 5
       }
      },
      "text/html": [
       "<div>\n",
       "<style scoped>\n",
       "    .dataframe tbody tr th:only-of-type {\n",
       "        vertical-align: middle;\n",
       "    }\n",
       "\n",
       "    .dataframe tbody tr th {\n",
       "        vertical-align: top;\n",
       "    }\n",
       "\n",
       "    .dataframe thead th {\n",
       "        text-align: right;\n",
       "    }\n",
       "</style>\n",
       "<table border=\"1\" class=\"dataframe\">\n",
       "  <thead>\n",
       "    <tr style=\"text-align: right;\">\n",
       "      <th></th>\n",
       "      <th>market_id</th>\n",
       "      <th>created_at</th>\n",
       "      <th>actual_delivery_time</th>\n",
       "      <th>store_id</th>\n",
       "      <th>store_primary_category</th>\n",
       "      <th>order_protocol</th>\n",
       "      <th>total_items</th>\n",
       "      <th>subtotal</th>\n",
       "      <th>num_distinct_items</th>\n",
       "      <th>min_item_price</th>\n",
       "      <th>max_item_price</th>\n",
       "      <th>total_onshift_dashers</th>\n",
       "      <th>total_busy_dashers</th>\n",
       "      <th>total_outstanding_orders</th>\n",
       "      <th>estimated_order_place_duration</th>\n",
       "      <th>estimated_store_to_consumer_driving_duration</th>\n",
       "      <th>total_delivery_duration_seconds</th>\n",
       "      <th>created_at_weekday</th>\n",
       "      <th>created_at_weekofyear</th>\n",
       "      <th>avg_item_price</th>\n",
       "    </tr>\n",
       "  </thead>\n",
       "  <tbody>\n",
       "    <tr>\n",
       "      <th>0</th>\n",
       "      <td>1.0</td>\n",
       "      <td>2015-02-06 22:24:17</td>\n",
       "      <td>2015-02-06 23:27:16</td>\n",
       "      <td>1845</td>\n",
       "      <td>2870.715556</td>\n",
       "      <td>1.0</td>\n",
       "      <td>4</td>\n",
       "      <td>3441</td>\n",
       "      <td>4</td>\n",
       "      <td>557</td>\n",
       "      <td>1239</td>\n",
       "      <td>33.0</td>\n",
       "      <td>14.0</td>\n",
       "      <td>21.0</td>\n",
       "      <td>446</td>\n",
       "      <td>861.0</td>\n",
       "      <td>3779.0</td>\n",
       "      <td>4</td>\n",
       "      <td>6</td>\n",
       "      <td>860.25</td>\n",
       "    </tr>\n",
       "    <tr>\n",
       "      <th>1</th>\n",
       "      <td>2.0</td>\n",
       "      <td>2015-02-10 21:49:25</td>\n",
       "      <td>2015-02-10 22:56:29</td>\n",
       "      <td>5477</td>\n",
       "      <td>2989.596156</td>\n",
       "      <td>2.0</td>\n",
       "      <td>1</td>\n",
       "      <td>1900</td>\n",
       "      <td>1</td>\n",
       "      <td>1400</td>\n",
       "      <td>1400</td>\n",
       "      <td>1.0</td>\n",
       "      <td>2.0</td>\n",
       "      <td>2.0</td>\n",
       "      <td>446</td>\n",
       "      <td>690.0</td>\n",
       "      <td>4024.0</td>\n",
       "      <td>1</td>\n",
       "      <td>7</td>\n",
       "      <td>1900.00</td>\n",
       "    </tr>\n",
       "    <tr>\n",
       "      <th>2</th>\n",
       "      <td>3.0</td>\n",
       "      <td>2015-01-22 20:39:28</td>\n",
       "      <td>2015-01-22 21:09:09</td>\n",
       "      <td>5477</td>\n",
       "      <td>2989.596156</td>\n",
       "      <td>1.0</td>\n",
       "      <td>1</td>\n",
       "      <td>1900</td>\n",
       "      <td>1</td>\n",
       "      <td>1900</td>\n",
       "      <td>1900</td>\n",
       "      <td>1.0</td>\n",
       "      <td>0.0</td>\n",
       "      <td>0.0</td>\n",
       "      <td>446</td>\n",
       "      <td>690.0</td>\n",
       "      <td>1781.0</td>\n",
       "      <td>3</td>\n",
       "      <td>4</td>\n",
       "      <td>1900.00</td>\n",
       "    </tr>\n",
       "    <tr>\n",
       "      <th>3</th>\n",
       "      <td>3.0</td>\n",
       "      <td>2015-02-03 21:21:45</td>\n",
       "      <td>2015-02-03 22:13:00</td>\n",
       "      <td>5477</td>\n",
       "      <td>2989.596156</td>\n",
       "      <td>1.0</td>\n",
       "      <td>6</td>\n",
       "      <td>6900</td>\n",
       "      <td>5</td>\n",
       "      <td>600</td>\n",
       "      <td>1800</td>\n",
       "      <td>1.0</td>\n",
       "      <td>1.0</td>\n",
       "      <td>2.0</td>\n",
       "      <td>446</td>\n",
       "      <td>289.0</td>\n",
       "      <td>3075.0</td>\n",
       "      <td>1</td>\n",
       "      <td>6</td>\n",
       "      <td>1150.00</td>\n",
       "    </tr>\n",
       "    <tr>\n",
       "      <th>4</th>\n",
       "      <td>3.0</td>\n",
       "      <td>2015-02-15 02:40:36</td>\n",
       "      <td>2015-02-15 03:20:26</td>\n",
       "      <td>5477</td>\n",
       "      <td>2989.596156</td>\n",
       "      <td>1.0</td>\n",
       "      <td>3</td>\n",
       "      <td>3900</td>\n",
       "      <td>3</td>\n",
       "      <td>1100</td>\n",
       "      <td>1600</td>\n",
       "      <td>6.0</td>\n",
       "      <td>6.0</td>\n",
       "      <td>9.0</td>\n",
       "      <td>446</td>\n",
       "      <td>650.0</td>\n",
       "      <td>2390.0</td>\n",
       "      <td>6</td>\n",
       "      <td>7</td>\n",
       "      <td>1300.00</td>\n",
       "    </tr>\n",
       "  </tbody>\n",
       "</table>\n",
       "</div>"
      ],
      "text/plain": [
       "   market_id          created_at actual_delivery_time  store_id  \\\n",
       "0        1.0 2015-02-06 22:24:17  2015-02-06 23:27:16      1845   \n",
       "1        2.0 2015-02-10 21:49:25  2015-02-10 22:56:29      5477   \n",
       "2        3.0 2015-01-22 20:39:28  2015-01-22 21:09:09      5477   \n",
       "3        3.0 2015-02-03 21:21:45  2015-02-03 22:13:00      5477   \n",
       "4        3.0 2015-02-15 02:40:36  2015-02-15 03:20:26      5477   \n",
       "\n",
       "   store_primary_category  order_protocol  total_items  subtotal  \\\n",
       "0             2870.715556             1.0            4      3441   \n",
       "1             2989.596156             2.0            1      1900   \n",
       "2             2989.596156             1.0            1      1900   \n",
       "3             2989.596156             1.0            6      6900   \n",
       "4             2989.596156             1.0            3      3900   \n",
       "\n",
       "   num_distinct_items  min_item_price  max_item_price  total_onshift_dashers  \\\n",
       "0                   4             557            1239                   33.0   \n",
       "1                   1            1400            1400                    1.0   \n",
       "2                   1            1900            1900                    1.0   \n",
       "3                   5             600            1800                    1.0   \n",
       "4                   3            1100            1600                    6.0   \n",
       "\n",
       "   total_busy_dashers  total_outstanding_orders  \\\n",
       "0                14.0                      21.0   \n",
       "1                 2.0                       2.0   \n",
       "2                 0.0                       0.0   \n",
       "3                 1.0                       2.0   \n",
       "4                 6.0                       9.0   \n",
       "\n",
       "   estimated_order_place_duration  \\\n",
       "0                             446   \n",
       "1                             446   \n",
       "2                             446   \n",
       "3                             446   \n",
       "4                             446   \n",
       "\n",
       "   estimated_store_to_consumer_driving_duration  \\\n",
       "0                                         861.0   \n",
       "1                                         690.0   \n",
       "2                                         690.0   \n",
       "3                                         289.0   \n",
       "4                                         650.0   \n",
       "\n",
       "   total_delivery_duration_seconds  created_at_weekday  created_at_weekofyear  \\\n",
       "0                           3779.0                   4                      6   \n",
       "1                           4024.0                   1                      7   \n",
       "2                           1781.0                   3                      4   \n",
       "3                           3075.0                   1                      6   \n",
       "4                           2390.0                   6                      7   \n",
       "\n",
       "   avg_item_price  \n",
       "0          860.25  \n",
       "1         1900.00  \n",
       "2         1900.00  \n",
       "3         1150.00  \n",
       "4         1300.00  "
      ]
     },
     "execution_count": 26,
     "metadata": {},
     "output_type": "execute_result"
    }
   ],
   "source": [
    "# Initialize the target encoder\n",
    "target_encoder = TargetEncoder()\n",
    "\n",
    "# Apply target encoding to the 'store_primary_category' column\n",
    "df['store_primary_category'] = target_encoder.fit_transform(df['store_primary_category'], df['total_delivery_duration_seconds'])\n",
    "\n",
    "# Display the first few rows of the dataframe with the encoded column\n",
    "df.head()"
   ]
  },
  {
   "cell_type": "code",
   "execution_count": 27,
   "metadata": {},
   "outputs": [],
   "source": [
    "# Save Cleaned Data\n",
    "df.to_csv(data_path / 'cleaned_historical_data.csv', index=False)"
   ]
  },
  {
   "cell_type": "markdown",
   "metadata": {},
   "source": [
    "### Visualization"
   ]
  },
  {
   "cell_type": "code",
   "execution_count": 28,
   "metadata": {},
   "outputs": [],
   "source": [
    "# # Histogram of total delivery duration\n",
    "# plt.figure(figsize=(10, 6))\n",
    "# sns.histplot(df['total_delivery_duration_seconds'], kde=True)\n",
    "# plt.title('Distribution of Total Delivery Duration')\n",
    "# plt.xlabel('Total Delivery Duration (seconds)')\n",
    "# plt.ylabel('Frequency')\n",
    "# plt.show()"
   ]
  },
  {
   "cell_type": "code",
   "execution_count": 29,
   "metadata": {},
   "outputs": [],
   "source": [
    "# # Count plot of store primary category\n",
    "# plt.figure(figsize=(10, 6))\n",
    "# sns.countplot(x='store_primary_category', data=df)\n",
    "# plt.title('Count of Store Primary Categories')\n",
    "# plt.xlabel('Store Primary Category')\n",
    "# plt.ylabel('Count')\n",
    "# plt.xticks(rotation=90, ha='right')\n",
    "# plt.show()"
   ]
  },
  {
   "cell_type": "code",
   "execution_count": 30,
   "metadata": {},
   "outputs": [],
   "source": [
    "# # Scatter plot of average item price vs. total delivery duration\n",
    "# plt.figure(figsize=(10, 6))\n",
    "# sns.scatterplot(x='avg_item_price', y='total_delivery_duration_seconds', data=df)\n",
    "# plt.title('Average Item Price vs. Total Delivery Duration')\n",
    "# plt.xlabel('Average Item Price')\n",
    "# plt.ylabel('Total Delivery Duration (seconds)')\n",
    "# plt.show()"
   ]
  },
  {
   "cell_type": "markdown",
   "metadata": {},
   "source": [
    "### Univariate Analysis"
   ]
  },
  {
   "cell_type": "code",
   "execution_count": 31,
   "metadata": {},
   "outputs": [],
   "source": [
    "# # Distribution of the target variable (total delivery duration)\n",
    "# plt.figure(figsize=(10, 6))\n",
    "# sns.histplot(df['total_delivery_duration_seconds'], kde=True)\n",
    "# plt.title('Distribution of Total Delivery Duration')\n",
    "# plt.xlabel('Total Delivery Duration (seconds)')\n",
    "# plt.ylabel('Frequency')\n",
    "# plt.show()"
   ]
  },
  {
   "cell_type": "code",
   "execution_count": 32,
   "metadata": {},
   "outputs": [],
   "source": [
    "# # Distribution of the average item price\n",
    "# plt.figure(figsize=(10, 6))\n",
    "# sns.histplot(df['avg_item_price'], kde=True)\n",
    "# plt.title('Distribution of Average Item Price')\n",
    "# plt.xlabel('Average Item Price')\n",
    "# plt.ylabel('Frequency')\n",
    "# plt.show()"
   ]
  },
  {
   "cell_type": "markdown",
   "metadata": {},
   "source": [
    "### Multivariate analysis\n"
   ]
  },
  {
   "cell_type": "code",
   "execution_count": null,
   "metadata": {},
   "outputs": [],
   "source": [
    "# Pair plot for multivariate analysis\n",
    "sns.pairplot(df[['total_delivery_duration_seconds', 'avg_item_price']])\n",
    "plt.suptitle('Pair Plot for Multivariate Analysis', y=1.02)\n",
    "plt.show()"
   ]
  },
  {
   "cell_type": "markdown",
   "metadata": {},
   "source": [
    "### Check for multicollinearity"
   ]
  },
  {
   "cell_type": "code",
   "execution_count": null,
   "metadata": {},
   "outputs": [],
   "source": [
    "# Calculate the correlation matrix\n",
    "corr_matrix = df[['total_delivery_duration_seconds', 'avg_item_price']].corr()\n",
    "\n",
    "# Plot the heatmap\n",
    "plt.figure(figsize=(10, 6))\n",
    "sns.heatmap(corr_matrix, annot=True, cmap='coolwarm', linewidths=0.5)\n",
    "plt.title('Correlation Matrix Heatmap')\n",
    "plt.show()"
   ]
  }
 ],
 "metadata": {
  "kernelspec": {
   "display_name": "base",
   "language": "python",
   "name": "python3"
  },
  "language_info": {
   "codemirror_mode": {
    "name": "ipython",
    "version": 3
   },
   "file_extension": ".py",
   "mimetype": "text/x-python",
   "name": "python",
   "nbconvert_exporter": "python",
   "pygments_lexer": "ipython3",
   "version": "3.12.7"
  }
 },
 "nbformat": 4,
 "nbformat_minor": 2
}
